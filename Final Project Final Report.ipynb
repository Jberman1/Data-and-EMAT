{
 "cells": [
  {
   "cell_type": "markdown",
   "id": "f704a97e",
   "metadata": {},
   "source": [
    "# Rust Permanent Shop Effect on Steam Market Items\n",
    "## Jake Berman"
   ]
  },
  {
   "cell_type": "markdown",
   "id": "a810f8f3",
   "metadata": {},
   "source": [
    "There is a platform called Steam for gaming where you can buy games and items for those games. Steam has a community market where players can buy and sell in game items. One of the games you can do this for is called \"Rust\" it is a survival game where you can get weapons and weapon skins that change the look of the weapon you are using. These weapon skins are also sold on the steam community market for sometimes a lot of money. People can usually trade or sell these skins to other players, its even used in online gambling sometimes. So, these items have real monetary value. You can purchase these items directly from the games too specifically with Rust they just released a new way to buy their items in November of 2021, however with this new shop you can no longer trade or sell any skins you buy from them. You can still trade and sell anything released before this shop. I personally have a lot of items on that game, so I wanted to see how the release of this new shop where you can no longer sell new items and skins would affect the prices of previous items. Would it increase the price decrease the price? Or if it had no correlation at all, I wanted to make sure if the prices drop I can still sell all my items before they become worthless."
   ]
  },
  {
   "cell_type": "markdown",
   "id": "7673529c",
   "metadata": {},
   "source": [
    "All data in this project is pulled off of the steam community market public API so all prices are what other people are selling each item for within the last 15 days. Anybody can access these prices without accessing the API it would just take much longer."
   ]
  },
  {
   "cell_type": "code",
   "execution_count": 1,
   "id": "bd8e1a7a",
   "metadata": {},
   "outputs": [],
   "source": [
    "import pandas as pd\n",
    "import requests\n",
    "import base64\n",
    "import json\n",
    "from matplotlib import pyplot as plt\n",
    "import numpy as np\n",
    "from numpy import ndarray as nd"
   ]
  },
  {
   "cell_type": "code",
   "execution_count": null,
   "id": "e6e0a023",
   "metadata": {},
   "outputs": [],
   "source": [
    "ls"
   ]
  },
  {
   "cell_type": "code",
   "execution_count": 3,
   "id": "747401ae",
   "metadata": {},
   "outputs": [],
   "source": [
    "item_list = pd.read_csv(\"/Users/jake/Documents/item_list.txt\", sep = '\\t', header = 0)"
   ]
  },
  {
   "cell_type": "markdown",
   "id": "fcb330fe",
   "metadata": {},
   "source": [
    "Below is a list of the names of all the items that will be pulled from the steam market."
   ]
  },
  {
   "cell_type": "code",
   "execution_count": 4,
   "id": "a81c3ea7",
   "metadata": {},
   "outputs": [
    {
     "data": {
      "text/html": [
       "<div>\n",
       "<style scoped>\n",
       "    .dataframe tbody tr th:only-of-type {\n",
       "        vertical-align: middle;\n",
       "    }\n",
       "\n",
       "    .dataframe tbody tr th {\n",
       "        vertical-align: top;\n",
       "    }\n",
       "\n",
       "    .dataframe thead th {\n",
       "        text-align: right;\n",
       "    }\n",
       "</style>\n",
       "<table border=\"1\" class=\"dataframe\">\n",
       "  <thead>\n",
       "    <tr style=\"text-align: right;\">\n",
       "      <th></th>\n",
       "      <th>Item List</th>\n",
       "    </tr>\n",
       "  </thead>\n",
       "  <tbody>\n",
       "    <tr>\n",
       "      <th>0</th>\n",
       "      <td>Alien Red</td>\n",
       "    </tr>\n",
       "    <tr>\n",
       "      <th>1</th>\n",
       "      <td>Big Grin</td>\n",
       "    </tr>\n",
       "    <tr>\n",
       "      <th>2</th>\n",
       "      <td>Blackout Helmet</td>\n",
       "    </tr>\n",
       "    <tr>\n",
       "      <th>3</th>\n",
       "      <td>Blackout Hoodie</td>\n",
       "    </tr>\n",
       "    <tr>\n",
       "      <th>4</th>\n",
       "      <td>Blackout Jacket</td>\n",
       "    </tr>\n",
       "    <tr>\n",
       "      <th>5</th>\n",
       "      <td>Blackout Kilt</td>\n",
       "    </tr>\n",
       "    <tr>\n",
       "      <th>6</th>\n",
       "      <td>Blackout Vest</td>\n",
       "    </tr>\n",
       "    <tr>\n",
       "      <th>7</th>\n",
       "      <td>Ghostly Flame</td>\n",
       "    </tr>\n",
       "    <tr>\n",
       "      <th>8</th>\n",
       "      <td>Glory AK47</td>\n",
       "    </tr>\n",
       "    <tr>\n",
       "      <th>9</th>\n",
       "      <td>Glory Rifle</td>\n",
       "    </tr>\n",
       "    <tr>\n",
       "      <th>10</th>\n",
       "      <td>No Mercy Facemask</td>\n",
       "    </tr>\n",
       "    <tr>\n",
       "      <th>11</th>\n",
       "      <td>No Mercy Jacket</td>\n",
       "    </tr>\n",
       "    <tr>\n",
       "      <th>12</th>\n",
       "      <td>Plate Carrier - Black</td>\n",
       "    </tr>\n",
       "    <tr>\n",
       "      <th>13</th>\n",
       "      <td>Rat Mask</td>\n",
       "    </tr>\n",
       "    <tr>\n",
       "      <th>14</th>\n",
       "      <td>Sunrise Door</td>\n",
       "    </tr>\n",
       "    <tr>\n",
       "      <th>15</th>\n",
       "      <td>Tempered Mask</td>\n",
       "    </tr>\n",
       "    <tr>\n",
       "      <th>16</th>\n",
       "      <td>Training Pants</td>\n",
       "    </tr>\n",
       "  </tbody>\n",
       "</table>\n",
       "</div>"
      ],
      "text/plain": [
       "                Item List\n",
       "0               Alien Red\n",
       "1                Big Grin\n",
       "2         Blackout Helmet\n",
       "3         Blackout Hoodie\n",
       "4         Blackout Jacket\n",
       "5           Blackout Kilt\n",
       "6           Blackout Vest\n",
       "7           Ghostly Flame\n",
       "8              Glory AK47\n",
       "9             Glory Rifle\n",
       "10      No Mercy Facemask\n",
       "11        No Mercy Jacket\n",
       "12  Plate Carrier - Black\n",
       "13               Rat Mask\n",
       "14           Sunrise Door\n",
       "15          Tempered Mask\n",
       "16         Training Pants"
      ]
     },
     "execution_count": 4,
     "metadata": {},
     "output_type": "execute_result"
    }
   ],
   "source": [
    "item_list"
   ]
  },
  {
   "cell_type": "code",
   "execution_count": 5,
   "id": "34c4945b",
   "metadata": {},
   "outputs": [],
   "source": [
    "item = [x for x in item_list['Item List']]"
   ]
  },
  {
   "cell_type": "code",
   "execution_count": 6,
   "id": "7a5ad3dc",
   "metadata": {},
   "outputs": [
    {
     "data": {
      "text/plain": [
       "['Alien Red',\n",
       " 'Big Grin',\n",
       " 'Blackout Helmet',\n",
       " 'Blackout Hoodie',\n",
       " 'Blackout Jacket',\n",
       " 'Blackout Kilt',\n",
       " 'Blackout Vest',\n",
       " 'Ghostly Flame',\n",
       " 'Glory AK47',\n",
       " 'Glory Rifle',\n",
       " 'No Mercy Facemask',\n",
       " 'No Mercy Jacket',\n",
       " 'Plate Carrier - Black',\n",
       " 'Rat Mask',\n",
       " 'Sunrise Door',\n",
       " 'Tempered Mask',\n",
       " 'Training Pants']"
      ]
     },
     "execution_count": 6,
     "metadata": {},
     "output_type": "execute_result"
    }
   ],
   "source": [
    "item"
   ]
  },
  {
   "cell_type": "markdown",
   "id": "0e615adf",
   "metadata": {},
   "source": [
    "This is the number that steams API uses to determine which game to bring information from."
   ]
  },
  {
   "cell_type": "code",
   "execution_count": 17,
   "id": "9b39d0c8",
   "metadata": {},
   "outputs": [],
   "source": [
    "appid = 252490"
   ]
  },
  {
   "cell_type": "markdown",
   "id": "346080ac",
   "metadata": {},
   "source": [
    "The lines below all the way down to \"my_df\" are getting my personal key to access steams API and then requesting access to their API and after pulling the information for all the items it puts all of the data into a data frame."
   ]
  },
  {
   "cell_type": "code",
   "execution_count": 18,
   "id": "b8c5fa33",
   "metadata": {},
   "outputs": [],
   "source": [
    "personal_key = pd.read_csv(\"/Users/jake/Documents/Steam API Key.txt\", sep = '\\t', header = 0)"
   ]
  },
  {
   "cell_type": "code",
   "execution_count": 19,
   "id": "c5454b75",
   "metadata": {},
   "outputs": [],
   "source": [
    "secret_key = pd.read_csv(\"/Users/jake/Documents/SteamApi.txt\", sep = '\\t', header = 0)"
   ]
  },
  {
   "cell_type": "code",
   "execution_count": 20,
   "id": "e27af073",
   "metadata": {},
   "outputs": [],
   "source": [
    "secret = secret_key[\"Steam API\"].iloc[0]"
   ]
  },
  {
   "cell_type": "code",
   "execution_count": 21,
   "id": "f7d45b55",
   "metadata": {},
   "outputs": [],
   "source": [
    "bearer = personal_key[\"Personal Key\"].iloc[0]"
   ]
  },
  {
   "cell_type": "code",
   "execution_count": 22,
   "id": "1b824495",
   "metadata": {},
   "outputs": [],
   "source": [
    "header = {'Authorization' : 'Bearer {}'.format(bearer)}"
   ]
  },
  {
   "cell_type": "code",
   "execution_count": 23,
   "id": "810c36c7",
   "metadata": {},
   "outputs": [],
   "source": [
    "header2 = {'Authorization' : 'Bearer {}'.format(secret)}"
   ]
  },
  {
   "cell_type": "code",
   "execution_count": 24,
   "id": "6106da2d",
   "metadata": {},
   "outputs": [],
   "source": [
    "url = \"https://api.steamapis.com\""
   ]
  },
  {
   "cell_type": "code",
   "execution_count": 25,
   "id": "c9e7bf35",
   "metadata": {
    "scrolled": false
   },
   "outputs": [],
   "source": [
    "response = requests.request(\"GET\", url, headers = header)"
   ]
  },
  {
   "cell_type": "code",
   "execution_count": 26,
   "id": "e6a3c946",
   "metadata": {},
   "outputs": [
    {
     "data": {
      "text/plain": [
       "<Response [200]>"
      ]
     },
     "execution_count": 26,
     "metadata": {},
     "output_type": "execute_result"
    }
   ],
   "source": [
    "response"
   ]
  },
  {
   "cell_type": "code",
   "execution_count": 27,
   "id": "906174d9",
   "metadata": {},
   "outputs": [],
   "source": [
    "def nextEndpoint():\n",
    "    i = 0\n",
    "    responsejson = ''\n",
    "    df = pd.DataFrame()\n",
    "    while i < len(item):\n",
    "        response_item = endpoint_url = \"https://api.steamapis.com/market/item/252490/{}?api_key=K20S8glp6_W4W6b0WQJ0dCveOi4\".format(item[i])\n",
    "        response_item = requests.request(\"GET\", response_item, headers = header2)\n",
    "        responsejson = json.loads(response_item.text)\n",
    "        prices = ([x for x in responsejson['median_avg_prices_15days']])\n",
    "        df[responsejson['market_name']] = prices\n",
    "\n",
    "        i += 1\n",
    "    return df"
   ]
  },
  {
   "cell_type": "code",
   "execution_count": 28,
   "id": "0f23665c",
   "metadata": {
    "scrolled": true
   },
   "outputs": [],
   "source": [
    "my_df = nextEndpoint()"
   ]
  },
  {
   "cell_type": "code",
   "execution_count": 29,
   "id": "1dab7551",
   "metadata": {},
   "outputs": [
    {
     "data": {
      "text/html": [
       "<div>\n",
       "<style scoped>\n",
       "    .dataframe tbody tr th:only-of-type {\n",
       "        vertical-align: middle;\n",
       "    }\n",
       "\n",
       "    .dataframe tbody tr th {\n",
       "        vertical-align: top;\n",
       "    }\n",
       "\n",
       "    .dataframe thead th {\n",
       "        text-align: right;\n",
       "    }\n",
       "</style>\n",
       "<table border=\"1\" class=\"dataframe\">\n",
       "  <thead>\n",
       "    <tr style=\"text-align: right;\">\n",
       "      <th></th>\n",
       "      <th>Alien Red</th>\n",
       "      <th>Big Grin</th>\n",
       "      <th>Blackout Helmet</th>\n",
       "      <th>Blackout Hoodie</th>\n",
       "      <th>Blackout Jacket</th>\n",
       "      <th>Blackout Kilt</th>\n",
       "      <th>Blackout Vest</th>\n",
       "      <th>Ghostly Flame</th>\n",
       "      <th>Glory AK47</th>\n",
       "      <th>Glory Rifle</th>\n",
       "      <th>No Mercy Facemask</th>\n",
       "      <th>No Mercy Jacket</th>\n",
       "      <th>Plate Carrier - Black</th>\n",
       "      <th>Rat Mask</th>\n",
       "      <th>Sunrise Door</th>\n",
       "      <th>Tempered Mask</th>\n",
       "      <th>Training Pants</th>\n",
       "    </tr>\n",
       "  </thead>\n",
       "  <tbody>\n",
       "    <tr>\n",
       "      <th>0</th>\n",
       "      <td>[Nov 29 2021, 148.91588888888887, 13]</td>\n",
       "      <td>[Nov 27 2021, 588.0205000000001, 2]</td>\n",
       "      <td>[Nov 29 2021, 8.5306, 24]</td>\n",
       "      <td>[Nov 29 2021, 14.064863636363635, 48]</td>\n",
       "      <td>[Nov 29 2021, 8.899550000000001, 42]</td>\n",
       "      <td>[Nov 29 2021, 14.270190476190479, 67]</td>\n",
       "      <td>[Nov 29 2021, 13.997058823529409, 28]</td>\n",
       "      <td>[Nov 29 2021, 11.7606, 10]</td>\n",
       "      <td>[Nov 23 2021, 277.251, 2]</td>\n",
       "      <td>[Nov 29 2021, 2.1563750000000006, 8]</td>\n",
       "      <td>[Nov 29 2021, 4.0072857142857154, 17]</td>\n",
       "      <td>[Nov 29 2021, 9.963916666666666, 14]</td>\n",
       "      <td>[Nov 28 2021, 109.994, 1]</td>\n",
       "      <td>[Nov 29 2021, 8.09825, 4]</td>\n",
       "      <td>[Nov 28 2021, 0.93, 14]</td>\n",
       "      <td>[Nov 26 2021, 202.96733333333336, 3]</td>\n",
       "      <td>[Nov 29 2021, 12.5435, 18]</td>\n",
       "    </tr>\n",
       "    <tr>\n",
       "      <th>1</th>\n",
       "      <td>[Nov 30 2021, 150.07855555555554, 11]</td>\n",
       "      <td>[Nov 28 2021, 587.62, 1]</td>\n",
       "      <td>[Nov 30 2021, 8.43876923076923, 21]</td>\n",
       "      <td>[Nov 30 2021, 13.541318181818179, 46]</td>\n",
       "      <td>[Nov 30 2021, 8.935000000000002, 35]</td>\n",
       "      <td>[Nov 30 2021, 13.957999999999998, 87]</td>\n",
       "      <td>[Nov 30 2021, 13.598333333333331, 16]</td>\n",
       "      <td>[Nov 30 2021, 11.226750000000001, 4]</td>\n",
       "      <td>[Nov 24 2021, 278.80899999999997, 3]</td>\n",
       "      <td>[Nov 30 2021, 2.1903333333333332, 3]</td>\n",
       "      <td>[Nov 30 2021, 3.866818181818182, 19]</td>\n",
       "      <td>[Nov 30 2021, 10.5846875, 29]</td>\n",
       "      <td>[Nov 29 2021, 131.118, 5]</td>\n",
       "      <td>[Nov 30 2021, 8.487, 4]</td>\n",
       "      <td>[Nov 29 2021, 1.0408571428571427, 8]</td>\n",
       "      <td>[Nov 27 2021, 204.79, 3]</td>\n",
       "      <td>[Nov 30 2021, 12.634142857142857, 20]</td>\n",
       "    </tr>\n",
       "    <tr>\n",
       "      <th>2</th>\n",
       "      <td>[Dec 01 2021, 148.11916666666667, 9]</td>\n",
       "      <td>[Nov 29 2021, 569.1046666666667, 3]</td>\n",
       "      <td>[Dec 01 2021, 8.589749999999999, 32]</td>\n",
       "      <td>[Dec 01 2021, 13.045090909090908, 57]</td>\n",
       "      <td>[Dec 01 2021, 8.75595, 50]</td>\n",
       "      <td>[Dec 01 2021, 14.67195833333333, 69]</td>\n",
       "      <td>[Dec 01 2021, 13.156058823529413, 31]</td>\n",
       "      <td>[Dec 01 2021, 12.038307692307692, 16]</td>\n",
       "      <td>[Nov 26 2021, 298.174, 2]</td>\n",
       "      <td>[Dec 01 2021, 2.20025, 9]</td>\n",
       "      <td>[Dec 01 2021, 4.0369375, 29]</td>\n",
       "      <td>[Dec 01 2021, 11.042399999999999, 24]</td>\n",
       "      <td>[Nov 30 2021, 129.535, 6]</td>\n",
       "      <td>[Dec 01 2021, 7.53675, 4]</td>\n",
       "      <td>[Nov 30 2021, 0.9875555555555555, 9]</td>\n",
       "      <td>[Nov 28 2021, 244.09, 1]</td>\n",
       "      <td>[Dec 01 2021, 12.15857142857143, 10]</td>\n",
       "    </tr>\n",
       "    <tr>\n",
       "      <th>3</th>\n",
       "      <td>[Dec 02 2021, 156.12, 13]</td>\n",
       "      <td>[Nov 30 2021, 675.36, 1]</td>\n",
       "      <td>[Dec 02 2021, 8.386812500000001, 26]</td>\n",
       "      <td>[Dec 02 2021, 13.626947368421051, 44]</td>\n",
       "      <td>[Dec 02 2021, 9.033285714285714, 43]</td>\n",
       "      <td>[Dec 02 2021, 15.82581818181818, 72]</td>\n",
       "      <td>[Dec 02 2021, 13.910611111111116, 28]</td>\n",
       "      <td>[Dec 02 2021, 12.038, 11]</td>\n",
       "      <td>[Nov 27 2021, 259.488, 1]</td>\n",
       "      <td>[Dec 02 2021, 2.2083333333333335, 7]</td>\n",
       "      <td>[Dec 02 2021, 4.2797857142857145, 23]</td>\n",
       "      <td>[Dec 02 2021, 10.636461538461539, 18]</td>\n",
       "      <td>[Dec 01 2021, 115.333, 1]</td>\n",
       "      <td>[Dec 02 2021, 8.975125, 9]</td>\n",
       "      <td>[Dec 01 2021, 0.9967142857142857, 10]</td>\n",
       "      <td>[Nov 29 2021, 244.12, 1]</td>\n",
       "      <td>[Dec 02 2021, 13.488999999999999, 15]</td>\n",
       "    </tr>\n",
       "    <tr>\n",
       "      <th>4</th>\n",
       "      <td>[Dec 03 2021, 154.88940000000002, 9]</td>\n",
       "      <td>[Dec 02 2021, 639.8747999999999, 5]</td>\n",
       "      <td>[Dec 03 2021, 9.22188888888889, 31]</td>\n",
       "      <td>[Dec 03 2021, 13.95505, 35]</td>\n",
       "      <td>[Dec 03 2021, 9.065190476190477, 61]</td>\n",
       "      <td>[Dec 03 2021, 16.117391304347827, 68]</td>\n",
       "      <td>[Dec 03 2021, 14.543117647058821, 37]</td>\n",
       "      <td>[Dec 03 2021, 11.398833333333334, 7]</td>\n",
       "      <td>[Nov 28 2021, 314.995, 2]</td>\n",
       "      <td>[Dec 03 2021, 2.12, 5]</td>\n",
       "      <td>[Dec 03 2021, 4.377000000000001, 20]</td>\n",
       "      <td>[Dec 03 2021, 11.172857142857142, 24]</td>\n",
       "      <td>[Dec 02 2021, 134.70333333333335, 3]</td>\n",
       "      <td>[Dec 03 2021, 9.123750000000001, 9]</td>\n",
       "      <td>[Dec 02 2021, 0.985, 11]</td>\n",
       "      <td>[Nov 30 2021, 242.8, 1]</td>\n",
       "      <td>[Dec 03 2021, 13.10225, 18]</td>\n",
       "    </tr>\n",
       "    <tr>\n",
       "      <th>5</th>\n",
       "      <td>[Dec 04 2021, 148.50525000000002, 15]</td>\n",
       "      <td>[Dec 04 2021, 659, 1]</td>\n",
       "      <td>[Dec 04 2021, 9.126899999999997, 28]</td>\n",
       "      <td>[Dec 04 2021, 13.30235294117647, 36]</td>\n",
       "      <td>[Dec 04 2021, 9.698809523809526, 59]</td>\n",
       "      <td>[Dec 04 2021, 16.541227272727273, 85]</td>\n",
       "      <td>[Dec 04 2021, 14.63, 34]</td>\n",
       "      <td>[Dec 04 2021, 10.891699999999998, 11]</td>\n",
       "      <td>[Nov 29 2021, 316.26, 2]</td>\n",
       "      <td>[Dec 04 2021, 2.1986666666666665, 8]</td>\n",
       "      <td>[Dec 04 2021, 4.4452, 23]</td>\n",
       "      <td>[Dec 04 2021, 12.095105263157896, 42]</td>\n",
       "      <td>[Dec 04 2021, 139.09633333333332, 6]</td>\n",
       "      <td>[Dec 04 2021, 8.293, 4]</td>\n",
       "      <td>[Dec 03 2021, 1.0075, 13]</td>\n",
       "      <td>[Dec 01 2021, 215.91, 1]</td>\n",
       "      <td>[Dec 04 2021, 12.378749999999998, 15]</td>\n",
       "    </tr>\n",
       "    <tr>\n",
       "      <th>6</th>\n",
       "      <td>[Dec 05 2021, 155.17329999999998, 11]</td>\n",
       "      <td>[Dec 05 2021, 662.49, 1]</td>\n",
       "      <td>[Dec 05 2021, 9.50565, 44]</td>\n",
       "      <td>[Dec 05 2021, 14.2163, 36]</td>\n",
       "      <td>[Dec 05 2021, 9.803818181818183, 42]</td>\n",
       "      <td>[Dec 05 2021, 16.490478260869565, 66]</td>\n",
       "      <td>[Dec 05 2021, 15.17952380952381, 40]</td>\n",
       "      <td>[Dec 05 2021, 11.325800000000001, 15]</td>\n",
       "      <td>[Nov 30 2021, 320.5, 1]</td>\n",
       "      <td>[Dec 05 2021, 2.122875, 8]</td>\n",
       "      <td>[Dec 05 2021, 4.395916666666667, 22]</td>\n",
       "      <td>[Dec 05 2021, 12.479800000000001, 33]</td>\n",
       "      <td>[Dec 05 2021, 125.8015, 2]</td>\n",
       "      <td>[Dec 05 2021, 8.696142857142858, 7]</td>\n",
       "      <td>[Dec 04 2021, 1.0916000000000001, 14]</td>\n",
       "      <td>[Dec 02 2021, 214.3865, 3]</td>\n",
       "      <td>[Dec 05 2021, 13.027428571428572, 20]</td>\n",
       "    </tr>\n",
       "    <tr>\n",
       "      <th>7</th>\n",
       "      <td>[Dec 06 2021, 158.8925, 23]</td>\n",
       "      <td>[Dec 06 2021, 604.753, 2]</td>\n",
       "      <td>[Dec 06 2021, 9.2925, 29]</td>\n",
       "      <td>[Dec 06 2021, 14.793777777777775, 47]</td>\n",
       "      <td>[Dec 06 2021, 10.254714285714286, 50]</td>\n",
       "      <td>[Dec 06 2021, 15.99808695652174, 65]</td>\n",
       "      <td>[Dec 06 2021, 14.887444444444444, 25]</td>\n",
       "      <td>[Dec 06 2021, 11.57275, 10]</td>\n",
       "      <td>[Dec 01 2021, 319.89466666666664, 3]</td>\n",
       "      <td>[Dec 06 2021, 2.1903333333333337, 9]</td>\n",
       "      <td>[Dec 06 2021, 4.450133333333334, 21]</td>\n",
       "      <td>[Dec 06 2021, 12.235562499999999, 26]</td>\n",
       "      <td>[Dec 06 2021, 131.344, 2]</td>\n",
       "      <td>[Dec 06 2021, 8.188571428571429, 7]</td>\n",
       "      <td>[Dec 05 2021, 1.1407142857142856, 15]</td>\n",
       "      <td>[Dec 03 2021, 219.92, 3]</td>\n",
       "      <td>[Dec 06 2021, 11.393999999999998, 11]</td>\n",
       "    </tr>\n",
       "    <tr>\n",
       "      <th>8</th>\n",
       "      <td>[Dec 07 2021, 153.1068, 6]</td>\n",
       "      <td>[Dec 07 2021, 661.247, 1]</td>\n",
       "      <td>[Dec 07 2021, 9.2175625, 29]</td>\n",
       "      <td>[Dec 07 2021, 14.364133333333335, 28]</td>\n",
       "      <td>[Dec 07 2021, 9.680047619047619, 40]</td>\n",
       "      <td>[Dec 07 2021, 16.277714285714286, 57]</td>\n",
       "      <td>[Dec 07 2021, 14.777000000000001, 26]</td>\n",
       "      <td>[Dec 07 2021, 12.375777777777778, 10]</td>\n",
       "      <td>[Dec 02 2021, 303.476, 3]</td>\n",
       "      <td>[Dec 07 2021, 2.242, 5]</td>\n",
       "      <td>[Dec 07 2021, 4.326666666666666, 25]</td>\n",
       "      <td>[Dec 07 2021, 12.046000000000003, 25]</td>\n",
       "      <td>[Dec 07 2021, 124.17350000000002, 4]</td>\n",
       "      <td>[Dec 07 2021, 8.036333333333333, 4]</td>\n",
       "      <td>[Dec 06 2021, 0.9689999999999999, 8]</td>\n",
       "      <td>[Dec 04 2021, 247.51, 2]</td>\n",
       "      <td>[Dec 07 2021, 12.175333333333334, 21]</td>\n",
       "    </tr>\n",
       "    <tr>\n",
       "      <th>9</th>\n",
       "      <td>[Dec 08 2021, 157.87149999999997, 16]</td>\n",
       "      <td>[Dec 08 2021, 673.819, 2]</td>\n",
       "      <td>[Dec 08 2021, 9.138066666666667, 22]</td>\n",
       "      <td>[Dec 08 2021, 13.425666666666665, 34]</td>\n",
       "      <td>[Dec 08 2021, 10.017444444444445, 36]</td>\n",
       "      <td>[Dec 08 2021, 16.898999999999997, 58]</td>\n",
       "      <td>[Dec 08 2021, 14.948615384615383, 24]</td>\n",
       "      <td>[Dec 08 2021, 12.326222222222222, 10]</td>\n",
       "      <td>[Dec 04 2021, 280.64366666666666, 3]</td>\n",
       "      <td>[Dec 08 2021, 2.1692857142857145, 9]</td>\n",
       "      <td>[Dec 08 2021, 4.626166666666667, 23]</td>\n",
       "      <td>[Dec 08 2021, 11.866176470588236, 31]</td>\n",
       "      <td>[Dec 08 2021, 139.715, 3]</td>\n",
       "      <td>[Dec 08 2021, 8.327333333333334, 3]</td>\n",
       "      <td>[Dec 07 2021, 1.0085000000000002, 11]</td>\n",
       "      <td>[Dec 05 2021, 249.98, 2]</td>\n",
       "      <td>[Dec 08 2021, 12.15691666666667, 19]</td>\n",
       "    </tr>\n",
       "    <tr>\n",
       "      <th>10</th>\n",
       "      <td>[Dec 09 2021, 169.08891666666668, 12]</td>\n",
       "      <td>[Dec 09 2021, 670.5106666666667, 3]</td>\n",
       "      <td>[Dec 09 2021, 9.210357142857143, 27]</td>\n",
       "      <td>[Dec 09 2021, 14.653555555555553, 35]</td>\n",
       "      <td>[Dec 09 2021, 10.337363636363635, 43]</td>\n",
       "      <td>[Dec 09 2021, 18.067590909090914, 63]</td>\n",
       "      <td>[Dec 09 2021, 14.61735294117647, 28]</td>\n",
       "      <td>[Dec 09 2021, 11.99275, 5]</td>\n",
       "      <td>[Dec 05 2021, 293.58, 1]</td>\n",
       "      <td>[Dec 09 2021, 2.3305000000000002, 10]</td>\n",
       "      <td>[Dec 09 2021, 4.123692307692308, 18]</td>\n",
       "      <td>[Dec 09 2021, 11.853615384615384, 21]</td>\n",
       "      <td>[Dec 09 2021, 132.8406666666667, 4]</td>\n",
       "      <td>[Dec 09 2021, 8.699666666666667, 6]</td>\n",
       "      <td>[Dec 08 2021, 1.0638888888888889, 10]</td>\n",
       "      <td>[Dec 06 2021, 254.85649999999998, 2]</td>\n",
       "      <td>[Dec 09 2021, 12.938727272727276, 14]</td>\n",
       "    </tr>\n",
       "    <tr>\n",
       "      <th>11</th>\n",
       "      <td>[Dec 10 2021, 168.47785714285712, 7]</td>\n",
       "      <td>[Dec 10 2021, 718.75, 1]</td>\n",
       "      <td>[Dec 10 2021, 8.927384615384614, 26]</td>\n",
       "      <td>[Dec 10 2021, 15.2815, 32]</td>\n",
       "      <td>[Dec 10 2021, 10.24295238095238, 52]</td>\n",
       "      <td>[Dec 10 2021, 18.25886956521739, 62]</td>\n",
       "      <td>[Dec 10 2021, 14.798857142857141, 22]</td>\n",
       "      <td>[Dec 10 2021, 12.108375, 11]</td>\n",
       "      <td>[Dec 06 2021, 307.927, 2]</td>\n",
       "      <td>[Dec 10 2021, 2.451, 3]</td>\n",
       "      <td>[Dec 10 2021, 4.2416, 19]</td>\n",
       "      <td>[Dec 10 2021, 12.279562499999999, 24]</td>\n",
       "      <td>[Dec 10 2021, 116.85733333333333, 3]</td>\n",
       "      <td>[Dec 10 2021, 8.2805, 7]</td>\n",
       "      <td>[Dec 09 2021, 1.1985000000000001, 6]</td>\n",
       "      <td>[Dec 09 2021, 234.6, 2]</td>\n",
       "      <td>[Dec 10 2021, 13.165733333333334, 21]</td>\n",
       "    </tr>\n",
       "    <tr>\n",
       "      <th>12</th>\n",
       "      <td>[Dec 11 2021, 162.804, 5]</td>\n",
       "      <td>[Dec 11 2021, 619.9655, 2]</td>\n",
       "      <td>[Dec 11 2021, 9.3245, 33]</td>\n",
       "      <td>[Dec 11 2021, 14.6695, 49]</td>\n",
       "      <td>[Dec 11 2021, 10.45659090909091, 55]</td>\n",
       "      <td>[Dec 11 2021, 17.372652173913046, 70]</td>\n",
       "      <td>[Dec 11 2021, 15.408052631578949, 36]</td>\n",
       "      <td>[Dec 11 2021, 11.869714285714286, 7]</td>\n",
       "      <td>[Dec 08 2021, 319.063, 1]</td>\n",
       "      <td>[Dec 11 2021, 2.2672499999999998, 10]</td>\n",
       "      <td>[Dec 11 2021, 4.6193333333333335, 30]</td>\n",
       "      <td>[Dec 11 2021, 12.067461538461536, 20]</td>\n",
       "      <td>[Dec 11 2021, 129.7086, 5]</td>\n",
       "      <td>[Dec 11 2021, 8.711, 6]</td>\n",
       "      <td>[Dec 10 2021, 0.943, 14]</td>\n",
       "      <td>[Dec 10 2021, 283.847, 2]</td>\n",
       "      <td>[Dec 11 2021, 13.490636363636362, 18]</td>\n",
       "    </tr>\n",
       "    <tr>\n",
       "      <th>13</th>\n",
       "      <td>[Dec 12 2021, 170.788, 11]</td>\n",
       "      <td>[Dec 12 2021, 656.6463333333334, 3]</td>\n",
       "      <td>[Dec 12 2021, 8.588375000000001, 27]</td>\n",
       "      <td>[Dec 12 2021, 15.087105263157893, 48]</td>\n",
       "      <td>[Dec 12 2021, 10.722999999999999, 46]</td>\n",
       "      <td>[Dec 12 2021, 17.961904761904762, 66]</td>\n",
       "      <td>[Dec 12 2021, 15.796687499999999, 31]</td>\n",
       "      <td>[Dec 12 2021, 12.81, 6]</td>\n",
       "      <td>[Dec 10 2021, 265.1286666666667, 4]</td>\n",
       "      <td>[Dec 12 2021, 2.388363636363636, 11]</td>\n",
       "      <td>[Dec 12 2021, 4.313857142857143, 19]</td>\n",
       "      <td>[Dec 12 2021, 12.732, 25]</td>\n",
       "      <td>[Dec 12 2021, 137.01, 2]</td>\n",
       "      <td>[Dec 12 2021, 8.701833333333333, 6]</td>\n",
       "      <td>[Dec 11 2021, 0.9283333333333332, 12]</td>\n",
       "      <td>[Dec 12 2021, 274.44599999999997, 4]</td>\n",
       "      <td>[Dec 12 2021, 12.317857142857141, 18]</td>\n",
       "    </tr>\n",
       "    <tr>\n",
       "      <th>14</th>\n",
       "      <td>[Dec 13 2021, 167.85999999999999, 3]</td>\n",
       "      <td>[Dec 13 2021, 660.003, 1]</td>\n",
       "      <td>[Dec 13 2021, 8.86, 3]</td>\n",
       "      <td>[Dec 13 2021, 15.0265, 3]</td>\n",
       "      <td>[Dec 13 2021, 11.209, 6]</td>\n",
       "      <td>[Dec 13 2021, 18.596666666666668, 17]</td>\n",
       "      <td>[Dec 13 2021, 16, 3]</td>\n",
       "      <td>[Dec 13 2021, 12.75, 1]</td>\n",
       "      <td>[Dec 11 2021, 321.994, 2]</td>\n",
       "      <td>[Dec 13 2021, 2.2265, 2]</td>\n",
       "      <td>[Dec 13 2021, 4.11, 3]</td>\n",
       "      <td>[Dec 13 2021, 12.513, 3]</td>\n",
       "      <td>[Dec 13 2021, 139.13240000000002, 5]</td>\n",
       "      <td>[Dec 13 2021, 8.877, 3]</td>\n",
       "      <td>[Dec 12 2021, 1.120111111111111, 10]</td>\n",
       "      <td>[Dec 13 2021, 238.2775, 2]</td>\n",
       "      <td>[Dec 13 2021, 14.145, 2]</td>\n",
       "    </tr>\n",
       "  </tbody>\n",
       "</table>\n",
       "</div>"
      ],
      "text/plain": [
       "                                Alien Red  \\\n",
       "0   [Nov 29 2021, 148.91588888888887, 13]   \n",
       "1   [Nov 30 2021, 150.07855555555554, 11]   \n",
       "2    [Dec 01 2021, 148.11916666666667, 9]   \n",
       "3               [Dec 02 2021, 156.12, 13]   \n",
       "4    [Dec 03 2021, 154.88940000000002, 9]   \n",
       "5   [Dec 04 2021, 148.50525000000002, 15]   \n",
       "6   [Dec 05 2021, 155.17329999999998, 11]   \n",
       "7             [Dec 06 2021, 158.8925, 23]   \n",
       "8              [Dec 07 2021, 153.1068, 6]   \n",
       "9   [Dec 08 2021, 157.87149999999997, 16]   \n",
       "10  [Dec 09 2021, 169.08891666666668, 12]   \n",
       "11   [Dec 10 2021, 168.47785714285712, 7]   \n",
       "12              [Dec 11 2021, 162.804, 5]   \n",
       "13             [Dec 12 2021, 170.788, 11]   \n",
       "14   [Dec 13 2021, 167.85999999999999, 3]   \n",
       "\n",
       "                               Big Grin                       Blackout Helmet  \\\n",
       "0   [Nov 27 2021, 588.0205000000001, 2]             [Nov 29 2021, 8.5306, 24]   \n",
       "1              [Nov 28 2021, 587.62, 1]   [Nov 30 2021, 8.43876923076923, 21]   \n",
       "2   [Nov 29 2021, 569.1046666666667, 3]  [Dec 01 2021, 8.589749999999999, 32]   \n",
       "3              [Nov 30 2021, 675.36, 1]  [Dec 02 2021, 8.386812500000001, 26]   \n",
       "4   [Dec 02 2021, 639.8747999999999, 5]   [Dec 03 2021, 9.22188888888889, 31]   \n",
       "5                 [Dec 04 2021, 659, 1]  [Dec 04 2021, 9.126899999999997, 28]   \n",
       "6              [Dec 05 2021, 662.49, 1]            [Dec 05 2021, 9.50565, 44]   \n",
       "7             [Dec 06 2021, 604.753, 2]             [Dec 06 2021, 9.2925, 29]   \n",
       "8             [Dec 07 2021, 661.247, 1]          [Dec 07 2021, 9.2175625, 29]   \n",
       "9             [Dec 08 2021, 673.819, 2]  [Dec 08 2021, 9.138066666666667, 22]   \n",
       "10  [Dec 09 2021, 670.5106666666667, 3]  [Dec 09 2021, 9.210357142857143, 27]   \n",
       "11             [Dec 10 2021, 718.75, 1]  [Dec 10 2021, 8.927384615384614, 26]   \n",
       "12           [Dec 11 2021, 619.9655, 2]             [Dec 11 2021, 9.3245, 33]   \n",
       "13  [Dec 12 2021, 656.6463333333334, 3]  [Dec 12 2021, 8.588375000000001, 27]   \n",
       "14            [Dec 13 2021, 660.003, 1]                [Dec 13 2021, 8.86, 3]   \n",
       "\n",
       "                          Blackout Hoodie  \\\n",
       "0   [Nov 29 2021, 14.064863636363635, 48]   \n",
       "1   [Nov 30 2021, 13.541318181818179, 46]   \n",
       "2   [Dec 01 2021, 13.045090909090908, 57]   \n",
       "3   [Dec 02 2021, 13.626947368421051, 44]   \n",
       "4             [Dec 03 2021, 13.95505, 35]   \n",
       "5    [Dec 04 2021, 13.30235294117647, 36]   \n",
       "6              [Dec 05 2021, 14.2163, 36]   \n",
       "7   [Dec 06 2021, 14.793777777777775, 47]   \n",
       "8   [Dec 07 2021, 14.364133333333335, 28]   \n",
       "9   [Dec 08 2021, 13.425666666666665, 34]   \n",
       "10  [Dec 09 2021, 14.653555555555553, 35]   \n",
       "11             [Dec 10 2021, 15.2815, 32]   \n",
       "12             [Dec 11 2021, 14.6695, 49]   \n",
       "13  [Dec 12 2021, 15.087105263157893, 48]   \n",
       "14              [Dec 13 2021, 15.0265, 3]   \n",
       "\n",
       "                          Blackout Jacket  \\\n",
       "0    [Nov 29 2021, 8.899550000000001, 42]   \n",
       "1    [Nov 30 2021, 8.935000000000002, 35]   \n",
       "2              [Dec 01 2021, 8.75595, 50]   \n",
       "3    [Dec 02 2021, 9.033285714285714, 43]   \n",
       "4    [Dec 03 2021, 9.065190476190477, 61]   \n",
       "5    [Dec 04 2021, 9.698809523809526, 59]   \n",
       "6    [Dec 05 2021, 9.803818181818183, 42]   \n",
       "7   [Dec 06 2021, 10.254714285714286, 50]   \n",
       "8    [Dec 07 2021, 9.680047619047619, 40]   \n",
       "9   [Dec 08 2021, 10.017444444444445, 36]   \n",
       "10  [Dec 09 2021, 10.337363636363635, 43]   \n",
       "11   [Dec 10 2021, 10.24295238095238, 52]   \n",
       "12   [Dec 11 2021, 10.45659090909091, 55]   \n",
       "13  [Dec 12 2021, 10.722999999999999, 46]   \n",
       "14               [Dec 13 2021, 11.209, 6]   \n",
       "\n",
       "                            Blackout Kilt  \\\n",
       "0   [Nov 29 2021, 14.270190476190479, 67]   \n",
       "1   [Nov 30 2021, 13.957999999999998, 87]   \n",
       "2    [Dec 01 2021, 14.67195833333333, 69]   \n",
       "3    [Dec 02 2021, 15.82581818181818, 72]   \n",
       "4   [Dec 03 2021, 16.117391304347827, 68]   \n",
       "5   [Dec 04 2021, 16.541227272727273, 85]   \n",
       "6   [Dec 05 2021, 16.490478260869565, 66]   \n",
       "7    [Dec 06 2021, 15.99808695652174, 65]   \n",
       "8   [Dec 07 2021, 16.277714285714286, 57]   \n",
       "9   [Dec 08 2021, 16.898999999999997, 58]   \n",
       "10  [Dec 09 2021, 18.067590909090914, 63]   \n",
       "11   [Dec 10 2021, 18.25886956521739, 62]   \n",
       "12  [Dec 11 2021, 17.372652173913046, 70]   \n",
       "13  [Dec 12 2021, 17.961904761904762, 66]   \n",
       "14  [Dec 13 2021, 18.596666666666668, 17]   \n",
       "\n",
       "                            Blackout Vest  \\\n",
       "0   [Nov 29 2021, 13.997058823529409, 28]   \n",
       "1   [Nov 30 2021, 13.598333333333331, 16]   \n",
       "2   [Dec 01 2021, 13.156058823529413, 31]   \n",
       "3   [Dec 02 2021, 13.910611111111116, 28]   \n",
       "4   [Dec 03 2021, 14.543117647058821, 37]   \n",
       "5                [Dec 04 2021, 14.63, 34]   \n",
       "6    [Dec 05 2021, 15.17952380952381, 40]   \n",
       "7   [Dec 06 2021, 14.887444444444444, 25]   \n",
       "8   [Dec 07 2021, 14.777000000000001, 26]   \n",
       "9   [Dec 08 2021, 14.948615384615383, 24]   \n",
       "10   [Dec 09 2021, 14.61735294117647, 28]   \n",
       "11  [Dec 10 2021, 14.798857142857141, 22]   \n",
       "12  [Dec 11 2021, 15.408052631578949, 36]   \n",
       "13  [Dec 12 2021, 15.796687499999999, 31]   \n",
       "14                   [Dec 13 2021, 16, 3]   \n",
       "\n",
       "                            Ghostly Flame  \\\n",
       "0              [Nov 29 2021, 11.7606, 10]   \n",
       "1    [Nov 30 2021, 11.226750000000001, 4]   \n",
       "2   [Dec 01 2021, 12.038307692307692, 16]   \n",
       "3               [Dec 02 2021, 12.038, 11]   \n",
       "4    [Dec 03 2021, 11.398833333333334, 7]   \n",
       "5   [Dec 04 2021, 10.891699999999998, 11]   \n",
       "6   [Dec 05 2021, 11.325800000000001, 15]   \n",
       "7             [Dec 06 2021, 11.57275, 10]   \n",
       "8   [Dec 07 2021, 12.375777777777778, 10]   \n",
       "9   [Dec 08 2021, 12.326222222222222, 10]   \n",
       "10             [Dec 09 2021, 11.99275, 5]   \n",
       "11           [Dec 10 2021, 12.108375, 11]   \n",
       "12   [Dec 11 2021, 11.869714285714286, 7]   \n",
       "13                [Dec 12 2021, 12.81, 6]   \n",
       "14                [Dec 13 2021, 12.75, 1]   \n",
       "\n",
       "                              Glory AK47  \\\n",
       "0              [Nov 23 2021, 277.251, 2]   \n",
       "1   [Nov 24 2021, 278.80899999999997, 3]   \n",
       "2              [Nov 26 2021, 298.174, 2]   \n",
       "3              [Nov 27 2021, 259.488, 1]   \n",
       "4              [Nov 28 2021, 314.995, 2]   \n",
       "5               [Nov 29 2021, 316.26, 2]   \n",
       "6                [Nov 30 2021, 320.5, 1]   \n",
       "7   [Dec 01 2021, 319.89466666666664, 3]   \n",
       "8              [Dec 02 2021, 303.476, 3]   \n",
       "9   [Dec 04 2021, 280.64366666666666, 3]   \n",
       "10              [Dec 05 2021, 293.58, 1]   \n",
       "11             [Dec 06 2021, 307.927, 2]   \n",
       "12             [Dec 08 2021, 319.063, 1]   \n",
       "13   [Dec 10 2021, 265.1286666666667, 4]   \n",
       "14             [Dec 11 2021, 321.994, 2]   \n",
       "\n",
       "                              Glory Rifle  \\\n",
       "0    [Nov 29 2021, 2.1563750000000006, 8]   \n",
       "1    [Nov 30 2021, 2.1903333333333332, 3]   \n",
       "2               [Dec 01 2021, 2.20025, 9]   \n",
       "3    [Dec 02 2021, 2.2083333333333335, 7]   \n",
       "4                  [Dec 03 2021, 2.12, 5]   \n",
       "5    [Dec 04 2021, 2.1986666666666665, 8]   \n",
       "6              [Dec 05 2021, 2.122875, 8]   \n",
       "7    [Dec 06 2021, 2.1903333333333337, 9]   \n",
       "8                 [Dec 07 2021, 2.242, 5]   \n",
       "9    [Dec 08 2021, 2.1692857142857145, 9]   \n",
       "10  [Dec 09 2021, 2.3305000000000002, 10]   \n",
       "11                [Dec 10 2021, 2.451, 3]   \n",
       "12  [Dec 11 2021, 2.2672499999999998, 10]   \n",
       "13   [Dec 12 2021, 2.388363636363636, 11]   \n",
       "14               [Dec 13 2021, 2.2265, 2]   \n",
       "\n",
       "                        No Mercy Facemask  \\\n",
       "0   [Nov 29 2021, 4.0072857142857154, 17]   \n",
       "1    [Nov 30 2021, 3.866818181818182, 19]   \n",
       "2            [Dec 01 2021, 4.0369375, 29]   \n",
       "3   [Dec 02 2021, 4.2797857142857145, 23]   \n",
       "4    [Dec 03 2021, 4.377000000000001, 20]   \n",
       "5               [Dec 04 2021, 4.4452, 23]   \n",
       "6    [Dec 05 2021, 4.395916666666667, 22]   \n",
       "7    [Dec 06 2021, 4.450133333333334, 21]   \n",
       "8    [Dec 07 2021, 4.326666666666666, 25]   \n",
       "9    [Dec 08 2021, 4.626166666666667, 23]   \n",
       "10   [Dec 09 2021, 4.123692307692308, 18]   \n",
       "11              [Dec 10 2021, 4.2416, 19]   \n",
       "12  [Dec 11 2021, 4.6193333333333335, 30]   \n",
       "13   [Dec 12 2021, 4.313857142857143, 19]   \n",
       "14                 [Dec 13 2021, 4.11, 3]   \n",
       "\n",
       "                          No Mercy Jacket  \\\n",
       "0    [Nov 29 2021, 9.963916666666666, 14]   \n",
       "1           [Nov 30 2021, 10.5846875, 29]   \n",
       "2   [Dec 01 2021, 11.042399999999999, 24]   \n",
       "3   [Dec 02 2021, 10.636461538461539, 18]   \n",
       "4   [Dec 03 2021, 11.172857142857142, 24]   \n",
       "5   [Dec 04 2021, 12.095105263157896, 42]   \n",
       "6   [Dec 05 2021, 12.479800000000001, 33]   \n",
       "7   [Dec 06 2021, 12.235562499999999, 26]   \n",
       "8   [Dec 07 2021, 12.046000000000003, 25]   \n",
       "9   [Dec 08 2021, 11.866176470588236, 31]   \n",
       "10  [Dec 09 2021, 11.853615384615384, 21]   \n",
       "11  [Dec 10 2021, 12.279562499999999, 24]   \n",
       "12  [Dec 11 2021, 12.067461538461536, 20]   \n",
       "13              [Dec 12 2021, 12.732, 25]   \n",
       "14               [Dec 13 2021, 12.513, 3]   \n",
       "\n",
       "                   Plate Carrier - Black                             Rat Mask  \\\n",
       "0              [Nov 28 2021, 109.994, 1]            [Nov 29 2021, 8.09825, 4]   \n",
       "1              [Nov 29 2021, 131.118, 5]              [Nov 30 2021, 8.487, 4]   \n",
       "2              [Nov 30 2021, 129.535, 6]            [Dec 01 2021, 7.53675, 4]   \n",
       "3              [Dec 01 2021, 115.333, 1]           [Dec 02 2021, 8.975125, 9]   \n",
       "4   [Dec 02 2021, 134.70333333333335, 3]  [Dec 03 2021, 9.123750000000001, 9]   \n",
       "5   [Dec 04 2021, 139.09633333333332, 6]              [Dec 04 2021, 8.293, 4]   \n",
       "6             [Dec 05 2021, 125.8015, 2]  [Dec 05 2021, 8.696142857142858, 7]   \n",
       "7              [Dec 06 2021, 131.344, 2]  [Dec 06 2021, 8.188571428571429, 7]   \n",
       "8   [Dec 07 2021, 124.17350000000002, 4]  [Dec 07 2021, 8.036333333333333, 4]   \n",
       "9              [Dec 08 2021, 139.715, 3]  [Dec 08 2021, 8.327333333333334, 3]   \n",
       "10   [Dec 09 2021, 132.8406666666667, 4]  [Dec 09 2021, 8.699666666666667, 6]   \n",
       "11  [Dec 10 2021, 116.85733333333333, 3]             [Dec 10 2021, 8.2805, 7]   \n",
       "12            [Dec 11 2021, 129.7086, 5]              [Dec 11 2021, 8.711, 6]   \n",
       "13              [Dec 12 2021, 137.01, 2]  [Dec 12 2021, 8.701833333333333, 6]   \n",
       "14  [Dec 13 2021, 139.13240000000002, 5]              [Dec 13 2021, 8.877, 3]   \n",
       "\n",
       "                             Sunrise Door  \\\n",
       "0                 [Nov 28 2021, 0.93, 14]   \n",
       "1    [Nov 29 2021, 1.0408571428571427, 8]   \n",
       "2    [Nov 30 2021, 0.9875555555555555, 9]   \n",
       "3   [Dec 01 2021, 0.9967142857142857, 10]   \n",
       "4                [Dec 02 2021, 0.985, 11]   \n",
       "5               [Dec 03 2021, 1.0075, 13]   \n",
       "6   [Dec 04 2021, 1.0916000000000001, 14]   \n",
       "7   [Dec 05 2021, 1.1407142857142856, 15]   \n",
       "8    [Dec 06 2021, 0.9689999999999999, 8]   \n",
       "9   [Dec 07 2021, 1.0085000000000002, 11]   \n",
       "10  [Dec 08 2021, 1.0638888888888889, 10]   \n",
       "11   [Dec 09 2021, 1.1985000000000001, 6]   \n",
       "12               [Dec 10 2021, 0.943, 14]   \n",
       "13  [Dec 11 2021, 0.9283333333333332, 12]   \n",
       "14   [Dec 12 2021, 1.120111111111111, 10]   \n",
       "\n",
       "                           Tempered Mask  \\\n",
       "0   [Nov 26 2021, 202.96733333333336, 3]   \n",
       "1               [Nov 27 2021, 204.79, 3]   \n",
       "2               [Nov 28 2021, 244.09, 1]   \n",
       "3               [Nov 29 2021, 244.12, 1]   \n",
       "4                [Nov 30 2021, 242.8, 1]   \n",
       "5               [Dec 01 2021, 215.91, 1]   \n",
       "6             [Dec 02 2021, 214.3865, 3]   \n",
       "7               [Dec 03 2021, 219.92, 3]   \n",
       "8               [Dec 04 2021, 247.51, 2]   \n",
       "9               [Dec 05 2021, 249.98, 2]   \n",
       "10  [Dec 06 2021, 254.85649999999998, 2]   \n",
       "11               [Dec 09 2021, 234.6, 2]   \n",
       "12             [Dec 10 2021, 283.847, 2]   \n",
       "13  [Dec 12 2021, 274.44599999999997, 4]   \n",
       "14            [Dec 13 2021, 238.2775, 2]   \n",
       "\n",
       "                           Training Pants  \n",
       "0              [Nov 29 2021, 12.5435, 18]  \n",
       "1   [Nov 30 2021, 12.634142857142857, 20]  \n",
       "2    [Dec 01 2021, 12.15857142857143, 10]  \n",
       "3   [Dec 02 2021, 13.488999999999999, 15]  \n",
       "4             [Dec 03 2021, 13.10225, 18]  \n",
       "5   [Dec 04 2021, 12.378749999999998, 15]  \n",
       "6   [Dec 05 2021, 13.027428571428572, 20]  \n",
       "7   [Dec 06 2021, 11.393999999999998, 11]  \n",
       "8   [Dec 07 2021, 12.175333333333334, 21]  \n",
       "9    [Dec 08 2021, 12.15691666666667, 19]  \n",
       "10  [Dec 09 2021, 12.938727272727276, 14]  \n",
       "11  [Dec 10 2021, 13.165733333333334, 21]  \n",
       "12  [Dec 11 2021, 13.490636363636362, 18]  \n",
       "13  [Dec 12 2021, 12.317857142857141, 18]  \n",
       "14               [Dec 13 2021, 14.145, 2]  "
      ]
     },
     "execution_count": 29,
     "metadata": {},
     "output_type": "execute_result"
    }
   ],
   "source": [
    "my_df"
   ]
  },
  {
   "cell_type": "markdown",
   "id": "02c1255f",
   "metadata": {},
   "source": [
    "The lines below are separating the date and price for each day and item and putting it into a new data frame so they information can be accessed easier."
   ]
  },
  {
   "cell_type": "code",
   "execution_count": 30,
   "id": "ea6952f8",
   "metadata": {},
   "outputs": [],
   "source": [
    "new_df = pd.DataFrame()"
   ]
  },
  {
   "cell_type": "code",
   "execution_count": 31,
   "id": "190f3f19",
   "metadata": {},
   "outputs": [],
   "source": [
    "new_df['date_Alien'] = [x[0] for x in my_df['Alien Red']]"
   ]
  },
  {
   "cell_type": "code",
   "execution_count": 32,
   "id": "81e64ccb",
   "metadata": {},
   "outputs": [],
   "source": [
    "new_df['price_Alien'] = [x[1] for x in my_df['Alien Red']]"
   ]
  },
  {
   "cell_type": "code",
   "execution_count": 33,
   "id": "ad3fd37e",
   "metadata": {},
   "outputs": [],
   "source": [
    "new_df['date_BigGrin'] = [x[0] for x in my_df['Big Grin']]"
   ]
  },
  {
   "cell_type": "code",
   "execution_count": 34,
   "id": "b1d9d345",
   "metadata": {},
   "outputs": [],
   "source": [
    "new_df['price_BigGrin'] = [x[1] for x in my_df['Big Grin']]"
   ]
  },
  {
   "cell_type": "code",
   "execution_count": 35,
   "id": "260638ad",
   "metadata": {},
   "outputs": [],
   "source": [
    "new_df['date_BlackoutHelmet'] = [x[0] for x in my_df['Blackout Helmet']]"
   ]
  },
  {
   "cell_type": "code",
   "execution_count": 36,
   "id": "76ebf840",
   "metadata": {},
   "outputs": [],
   "source": [
    "new_df['price_BlackoutHelmet'] = [x[1] for x in my_df['Blackout Helmet']]"
   ]
  },
  {
   "cell_type": "code",
   "execution_count": 37,
   "id": "15b89581",
   "metadata": {},
   "outputs": [],
   "source": [
    "new_df['date_BlackoutHoodie'] = [x[0] for x in my_df['Blackout Hoodie']]"
   ]
  },
  {
   "cell_type": "code",
   "execution_count": 38,
   "id": "b588e856",
   "metadata": {},
   "outputs": [],
   "source": [
    "new_df['price_BlackoutHoodie'] = [x[1] for x in my_df['Blackout Hoodie']]"
   ]
  },
  {
   "cell_type": "code",
   "execution_count": 39,
   "id": "a9b9cd6a",
   "metadata": {},
   "outputs": [],
   "source": [
    "new_df['date_BlackoutJacket'] = [x[0] for x in my_df['Blackout Jacket']]"
   ]
  },
  {
   "cell_type": "code",
   "execution_count": 40,
   "id": "acb5e8ed",
   "metadata": {},
   "outputs": [],
   "source": [
    "new_df['price_BlackoutJacket'] = [x[1] for x in my_df['Blackout Jacket']]"
   ]
  },
  {
   "cell_type": "code",
   "execution_count": 41,
   "id": "79d4c2e0",
   "metadata": {},
   "outputs": [],
   "source": [
    "new_df['date_BlackoutKilt'] = [x[0] for x in my_df['Blackout Kilt']]"
   ]
  },
  {
   "cell_type": "code",
   "execution_count": 42,
   "id": "86da7773",
   "metadata": {},
   "outputs": [],
   "source": [
    "new_df['price_BlackoutKilt'] = [x[1] for x in my_df['Blackout Kilt']]"
   ]
  },
  {
   "cell_type": "code",
   "execution_count": 43,
   "id": "a200a5f8",
   "metadata": {},
   "outputs": [],
   "source": [
    "new_df['date_BlackoutVest'] = [x[0] for x in my_df['Blackout Vest']]"
   ]
  },
  {
   "cell_type": "code",
   "execution_count": 44,
   "id": "57805134",
   "metadata": {},
   "outputs": [],
   "source": [
    "new_df['price_BlackoutVest'] = [x[1] for x in my_df['Blackout Vest']]"
   ]
  },
  {
   "cell_type": "code",
   "execution_count": 45,
   "id": "f5f1ccd9",
   "metadata": {},
   "outputs": [],
   "source": [
    "new_df['date_GhostlyFlame'] = [x[0] for x in my_df['Ghostly Flame']]"
   ]
  },
  {
   "cell_type": "code",
   "execution_count": 46,
   "id": "84559b67",
   "metadata": {},
   "outputs": [],
   "source": [
    "new_df['price_GhostlyFlame'] = [x[1] for x in my_df['Ghostly Flame']]"
   ]
  },
  {
   "cell_type": "code",
   "execution_count": 47,
   "id": "f00f9b88",
   "metadata": {},
   "outputs": [],
   "source": [
    "new_df['date_GloryAK'] = [x[0] for x in my_df['Glory AK47']]"
   ]
  },
  {
   "cell_type": "code",
   "execution_count": 48,
   "id": "a1e7f7ec",
   "metadata": {},
   "outputs": [],
   "source": [
    "new_df['price_GloryAK'] = [x[1] for x in my_df['Glory AK47']]"
   ]
  },
  {
   "cell_type": "code",
   "execution_count": 49,
   "id": "9d589750",
   "metadata": {},
   "outputs": [],
   "source": [
    "new_df['date_GloryRifle'] = [x[0] for x in my_df['Glory Rifle']]"
   ]
  },
  {
   "cell_type": "code",
   "execution_count": 50,
   "id": "887e6e1f",
   "metadata": {},
   "outputs": [],
   "source": [
    "new_df['price_GloryRifle'] = [x[1] for x in my_df['Glory Rifle']]"
   ]
  },
  {
   "cell_type": "code",
   "execution_count": 51,
   "id": "7027dc17",
   "metadata": {},
   "outputs": [],
   "source": [
    "new_df['date_NoMercyFaceMask'] = [x[0] for x in my_df['No Mercy Facemask']]"
   ]
  },
  {
   "cell_type": "code",
   "execution_count": 52,
   "id": "aa5850a1",
   "metadata": {},
   "outputs": [],
   "source": [
    "new_df['price_NoMercyFaceMask'] = [x[1] for x in my_df['No Mercy Facemask']]"
   ]
  },
  {
   "cell_type": "code",
   "execution_count": 53,
   "id": "cc4c702f",
   "metadata": {},
   "outputs": [],
   "source": [
    "new_df['date_NoMercyJacket'] = [x[0] for x in my_df['No Mercy Jacket']]"
   ]
  },
  {
   "cell_type": "code",
   "execution_count": 54,
   "id": "682103c3",
   "metadata": {},
   "outputs": [],
   "source": [
    "new_df['price_NoMercyJacket'] = [x[1] for x in my_df['No Mercy Jacket']]"
   ]
  },
  {
   "cell_type": "code",
   "execution_count": 55,
   "id": "3bdd7cbd",
   "metadata": {},
   "outputs": [],
   "source": [
    "new_df['date_PlateCarrier'] = [x[0] for x in my_df['Plate Carrier - Black']]"
   ]
  },
  {
   "cell_type": "code",
   "execution_count": 56,
   "id": "f3519686",
   "metadata": {},
   "outputs": [],
   "source": [
    "new_df['price_PlateCarrier'] = [x[1] for x in my_df['Plate Carrier - Black']]"
   ]
  },
  {
   "cell_type": "code",
   "execution_count": 57,
   "id": "b99fc749",
   "metadata": {},
   "outputs": [],
   "source": [
    "new_df['date_RatMask'] = [x[0] for x in my_df['Rat Mask']]"
   ]
  },
  {
   "cell_type": "code",
   "execution_count": 58,
   "id": "37b6acff",
   "metadata": {},
   "outputs": [],
   "source": [
    "new_df['price_RatMask'] = [x[1] for x in my_df['Rat Mask']]"
   ]
  },
  {
   "cell_type": "code",
   "execution_count": 59,
   "id": "4ffc4892",
   "metadata": {},
   "outputs": [],
   "source": [
    "new_df['date_SunriseDoor'] = [x[0] for x in my_df['Sunrise Door']]"
   ]
  },
  {
   "cell_type": "code",
   "execution_count": 60,
   "id": "1bd70579",
   "metadata": {},
   "outputs": [],
   "source": [
    "new_df['price_SunriseDoor'] = [x[1] for x in my_df['Sunrise Door']]"
   ]
  },
  {
   "cell_type": "code",
   "execution_count": 61,
   "id": "b689a402",
   "metadata": {},
   "outputs": [],
   "source": [
    "new_df['date_TemperedMask'] = [x[0] for x in my_df['Tempered Mask']]"
   ]
  },
  {
   "cell_type": "code",
   "execution_count": 62,
   "id": "9eb0acf6",
   "metadata": {},
   "outputs": [],
   "source": [
    "new_df['price_TemperedMask'] = [x[1] for x in my_df['Tempered Mask']]"
   ]
  },
  {
   "cell_type": "code",
   "execution_count": 63,
   "id": "fac03446",
   "metadata": {},
   "outputs": [],
   "source": [
    "new_df['date_TrainingPants'] = [x[0] for x in my_df['Training Pants']]"
   ]
  },
  {
   "cell_type": "code",
   "execution_count": 64,
   "id": "18cf9b2a",
   "metadata": {},
   "outputs": [],
   "source": [
    "new_df['price_TrainingPants'] = [x[1] for x in my_df['Training Pants']]"
   ]
  },
  {
   "cell_type": "markdown",
   "id": "5ff64f2f",
   "metadata": {},
   "source": [
    "This new data frame now has all the dates and prices listed separately so each data point can be called."
   ]
  },
  {
   "cell_type": "code",
   "execution_count": 65,
   "id": "83078b16",
   "metadata": {},
   "outputs": [
    {
     "data": {
      "text/html": [
       "<div>\n",
       "<style scoped>\n",
       "    .dataframe tbody tr th:only-of-type {\n",
       "        vertical-align: middle;\n",
       "    }\n",
       "\n",
       "    .dataframe tbody tr th {\n",
       "        vertical-align: top;\n",
       "    }\n",
       "\n",
       "    .dataframe thead th {\n",
       "        text-align: right;\n",
       "    }\n",
       "</style>\n",
       "<table border=\"1\" class=\"dataframe\">\n",
       "  <thead>\n",
       "    <tr style=\"text-align: right;\">\n",
       "      <th></th>\n",
       "      <th>date_Alien</th>\n",
       "      <th>price_Alien</th>\n",
       "      <th>date_BigGrin</th>\n",
       "      <th>price_BigGrin</th>\n",
       "      <th>date_BlackoutHelmet</th>\n",
       "      <th>price_BlackoutHelmet</th>\n",
       "      <th>date_BlackoutHoodie</th>\n",
       "      <th>price_BlackoutHoodie</th>\n",
       "      <th>date_BlackoutJacket</th>\n",
       "      <th>price_BlackoutJacket</th>\n",
       "      <th>...</th>\n",
       "      <th>date_PlateCarrier</th>\n",
       "      <th>price_PlateCarrier</th>\n",
       "      <th>date_RatMask</th>\n",
       "      <th>price_RatMask</th>\n",
       "      <th>date_SunriseDoor</th>\n",
       "      <th>price_SunriseDoor</th>\n",
       "      <th>date_TemperedMask</th>\n",
       "      <th>price_TemperedMask</th>\n",
       "      <th>date_TrainingPants</th>\n",
       "      <th>price_TrainingPants</th>\n",
       "    </tr>\n",
       "  </thead>\n",
       "  <tbody>\n",
       "    <tr>\n",
       "      <th>0</th>\n",
       "      <td>Nov 29 2021</td>\n",
       "      <td>148.915889</td>\n",
       "      <td>Nov 27 2021</td>\n",
       "      <td>588.020500</td>\n",
       "      <td>Nov 29 2021</td>\n",
       "      <td>8.530600</td>\n",
       "      <td>Nov 29 2021</td>\n",
       "      <td>14.064864</td>\n",
       "      <td>Nov 29 2021</td>\n",
       "      <td>8.899550</td>\n",
       "      <td>...</td>\n",
       "      <td>Nov 28 2021</td>\n",
       "      <td>109.994000</td>\n",
       "      <td>Nov 29 2021</td>\n",
       "      <td>8.098250</td>\n",
       "      <td>Nov 28 2021</td>\n",
       "      <td>0.930000</td>\n",
       "      <td>Nov 26 2021</td>\n",
       "      <td>202.967333</td>\n",
       "      <td>Nov 29 2021</td>\n",
       "      <td>12.543500</td>\n",
       "    </tr>\n",
       "    <tr>\n",
       "      <th>1</th>\n",
       "      <td>Nov 30 2021</td>\n",
       "      <td>150.078556</td>\n",
       "      <td>Nov 28 2021</td>\n",
       "      <td>587.620000</td>\n",
       "      <td>Nov 30 2021</td>\n",
       "      <td>8.438769</td>\n",
       "      <td>Nov 30 2021</td>\n",
       "      <td>13.541318</td>\n",
       "      <td>Nov 30 2021</td>\n",
       "      <td>8.935000</td>\n",
       "      <td>...</td>\n",
       "      <td>Nov 29 2021</td>\n",
       "      <td>131.118000</td>\n",
       "      <td>Nov 30 2021</td>\n",
       "      <td>8.487000</td>\n",
       "      <td>Nov 29 2021</td>\n",
       "      <td>1.040857</td>\n",
       "      <td>Nov 27 2021</td>\n",
       "      <td>204.790000</td>\n",
       "      <td>Nov 30 2021</td>\n",
       "      <td>12.634143</td>\n",
       "    </tr>\n",
       "    <tr>\n",
       "      <th>2</th>\n",
       "      <td>Dec 01 2021</td>\n",
       "      <td>148.119167</td>\n",
       "      <td>Nov 29 2021</td>\n",
       "      <td>569.104667</td>\n",
       "      <td>Dec 01 2021</td>\n",
       "      <td>8.589750</td>\n",
       "      <td>Dec 01 2021</td>\n",
       "      <td>13.045091</td>\n",
       "      <td>Dec 01 2021</td>\n",
       "      <td>8.755950</td>\n",
       "      <td>...</td>\n",
       "      <td>Nov 30 2021</td>\n",
       "      <td>129.535000</td>\n",
       "      <td>Dec 01 2021</td>\n",
       "      <td>7.536750</td>\n",
       "      <td>Nov 30 2021</td>\n",
       "      <td>0.987556</td>\n",
       "      <td>Nov 28 2021</td>\n",
       "      <td>244.090000</td>\n",
       "      <td>Dec 01 2021</td>\n",
       "      <td>12.158571</td>\n",
       "    </tr>\n",
       "    <tr>\n",
       "      <th>3</th>\n",
       "      <td>Dec 02 2021</td>\n",
       "      <td>156.120000</td>\n",
       "      <td>Nov 30 2021</td>\n",
       "      <td>675.360000</td>\n",
       "      <td>Dec 02 2021</td>\n",
       "      <td>8.386813</td>\n",
       "      <td>Dec 02 2021</td>\n",
       "      <td>13.626947</td>\n",
       "      <td>Dec 02 2021</td>\n",
       "      <td>9.033286</td>\n",
       "      <td>...</td>\n",
       "      <td>Dec 01 2021</td>\n",
       "      <td>115.333000</td>\n",
       "      <td>Dec 02 2021</td>\n",
       "      <td>8.975125</td>\n",
       "      <td>Dec 01 2021</td>\n",
       "      <td>0.996714</td>\n",
       "      <td>Nov 29 2021</td>\n",
       "      <td>244.120000</td>\n",
       "      <td>Dec 02 2021</td>\n",
       "      <td>13.489000</td>\n",
       "    </tr>\n",
       "    <tr>\n",
       "      <th>4</th>\n",
       "      <td>Dec 03 2021</td>\n",
       "      <td>154.889400</td>\n",
       "      <td>Dec 02 2021</td>\n",
       "      <td>639.874800</td>\n",
       "      <td>Dec 03 2021</td>\n",
       "      <td>9.221889</td>\n",
       "      <td>Dec 03 2021</td>\n",
       "      <td>13.955050</td>\n",
       "      <td>Dec 03 2021</td>\n",
       "      <td>9.065190</td>\n",
       "      <td>...</td>\n",
       "      <td>Dec 02 2021</td>\n",
       "      <td>134.703333</td>\n",
       "      <td>Dec 03 2021</td>\n",
       "      <td>9.123750</td>\n",
       "      <td>Dec 02 2021</td>\n",
       "      <td>0.985000</td>\n",
       "      <td>Nov 30 2021</td>\n",
       "      <td>242.800000</td>\n",
       "      <td>Dec 03 2021</td>\n",
       "      <td>13.102250</td>\n",
       "    </tr>\n",
       "    <tr>\n",
       "      <th>5</th>\n",
       "      <td>Dec 04 2021</td>\n",
       "      <td>148.505250</td>\n",
       "      <td>Dec 04 2021</td>\n",
       "      <td>659.000000</td>\n",
       "      <td>Dec 04 2021</td>\n",
       "      <td>9.126900</td>\n",
       "      <td>Dec 04 2021</td>\n",
       "      <td>13.302353</td>\n",
       "      <td>Dec 04 2021</td>\n",
       "      <td>9.698810</td>\n",
       "      <td>...</td>\n",
       "      <td>Dec 04 2021</td>\n",
       "      <td>139.096333</td>\n",
       "      <td>Dec 04 2021</td>\n",
       "      <td>8.293000</td>\n",
       "      <td>Dec 03 2021</td>\n",
       "      <td>1.007500</td>\n",
       "      <td>Dec 01 2021</td>\n",
       "      <td>215.910000</td>\n",
       "      <td>Dec 04 2021</td>\n",
       "      <td>12.378750</td>\n",
       "    </tr>\n",
       "    <tr>\n",
       "      <th>6</th>\n",
       "      <td>Dec 05 2021</td>\n",
       "      <td>155.173300</td>\n",
       "      <td>Dec 05 2021</td>\n",
       "      <td>662.490000</td>\n",
       "      <td>Dec 05 2021</td>\n",
       "      <td>9.505650</td>\n",
       "      <td>Dec 05 2021</td>\n",
       "      <td>14.216300</td>\n",
       "      <td>Dec 05 2021</td>\n",
       "      <td>9.803818</td>\n",
       "      <td>...</td>\n",
       "      <td>Dec 05 2021</td>\n",
       "      <td>125.801500</td>\n",
       "      <td>Dec 05 2021</td>\n",
       "      <td>8.696143</td>\n",
       "      <td>Dec 04 2021</td>\n",
       "      <td>1.091600</td>\n",
       "      <td>Dec 02 2021</td>\n",
       "      <td>214.386500</td>\n",
       "      <td>Dec 05 2021</td>\n",
       "      <td>13.027429</td>\n",
       "    </tr>\n",
       "    <tr>\n",
       "      <th>7</th>\n",
       "      <td>Dec 06 2021</td>\n",
       "      <td>158.892500</td>\n",
       "      <td>Dec 06 2021</td>\n",
       "      <td>604.753000</td>\n",
       "      <td>Dec 06 2021</td>\n",
       "      <td>9.292500</td>\n",
       "      <td>Dec 06 2021</td>\n",
       "      <td>14.793778</td>\n",
       "      <td>Dec 06 2021</td>\n",
       "      <td>10.254714</td>\n",
       "      <td>...</td>\n",
       "      <td>Dec 06 2021</td>\n",
       "      <td>131.344000</td>\n",
       "      <td>Dec 06 2021</td>\n",
       "      <td>8.188571</td>\n",
       "      <td>Dec 05 2021</td>\n",
       "      <td>1.140714</td>\n",
       "      <td>Dec 03 2021</td>\n",
       "      <td>219.920000</td>\n",
       "      <td>Dec 06 2021</td>\n",
       "      <td>11.394000</td>\n",
       "    </tr>\n",
       "    <tr>\n",
       "      <th>8</th>\n",
       "      <td>Dec 07 2021</td>\n",
       "      <td>153.106800</td>\n",
       "      <td>Dec 07 2021</td>\n",
       "      <td>661.247000</td>\n",
       "      <td>Dec 07 2021</td>\n",
       "      <td>9.217562</td>\n",
       "      <td>Dec 07 2021</td>\n",
       "      <td>14.364133</td>\n",
       "      <td>Dec 07 2021</td>\n",
       "      <td>9.680048</td>\n",
       "      <td>...</td>\n",
       "      <td>Dec 07 2021</td>\n",
       "      <td>124.173500</td>\n",
       "      <td>Dec 07 2021</td>\n",
       "      <td>8.036333</td>\n",
       "      <td>Dec 06 2021</td>\n",
       "      <td>0.969000</td>\n",
       "      <td>Dec 04 2021</td>\n",
       "      <td>247.510000</td>\n",
       "      <td>Dec 07 2021</td>\n",
       "      <td>12.175333</td>\n",
       "    </tr>\n",
       "    <tr>\n",
       "      <th>9</th>\n",
       "      <td>Dec 08 2021</td>\n",
       "      <td>157.871500</td>\n",
       "      <td>Dec 08 2021</td>\n",
       "      <td>673.819000</td>\n",
       "      <td>Dec 08 2021</td>\n",
       "      <td>9.138067</td>\n",
       "      <td>Dec 08 2021</td>\n",
       "      <td>13.425667</td>\n",
       "      <td>Dec 08 2021</td>\n",
       "      <td>10.017444</td>\n",
       "      <td>...</td>\n",
       "      <td>Dec 08 2021</td>\n",
       "      <td>139.715000</td>\n",
       "      <td>Dec 08 2021</td>\n",
       "      <td>8.327333</td>\n",
       "      <td>Dec 07 2021</td>\n",
       "      <td>1.008500</td>\n",
       "      <td>Dec 05 2021</td>\n",
       "      <td>249.980000</td>\n",
       "      <td>Dec 08 2021</td>\n",
       "      <td>12.156917</td>\n",
       "    </tr>\n",
       "    <tr>\n",
       "      <th>10</th>\n",
       "      <td>Dec 09 2021</td>\n",
       "      <td>169.088917</td>\n",
       "      <td>Dec 09 2021</td>\n",
       "      <td>670.510667</td>\n",
       "      <td>Dec 09 2021</td>\n",
       "      <td>9.210357</td>\n",
       "      <td>Dec 09 2021</td>\n",
       "      <td>14.653556</td>\n",
       "      <td>Dec 09 2021</td>\n",
       "      <td>10.337364</td>\n",
       "      <td>...</td>\n",
       "      <td>Dec 09 2021</td>\n",
       "      <td>132.840667</td>\n",
       "      <td>Dec 09 2021</td>\n",
       "      <td>8.699667</td>\n",
       "      <td>Dec 08 2021</td>\n",
       "      <td>1.063889</td>\n",
       "      <td>Dec 06 2021</td>\n",
       "      <td>254.856500</td>\n",
       "      <td>Dec 09 2021</td>\n",
       "      <td>12.938727</td>\n",
       "    </tr>\n",
       "    <tr>\n",
       "      <th>11</th>\n",
       "      <td>Dec 10 2021</td>\n",
       "      <td>168.477857</td>\n",
       "      <td>Dec 10 2021</td>\n",
       "      <td>718.750000</td>\n",
       "      <td>Dec 10 2021</td>\n",
       "      <td>8.927385</td>\n",
       "      <td>Dec 10 2021</td>\n",
       "      <td>15.281500</td>\n",
       "      <td>Dec 10 2021</td>\n",
       "      <td>10.242952</td>\n",
       "      <td>...</td>\n",
       "      <td>Dec 10 2021</td>\n",
       "      <td>116.857333</td>\n",
       "      <td>Dec 10 2021</td>\n",
       "      <td>8.280500</td>\n",
       "      <td>Dec 09 2021</td>\n",
       "      <td>1.198500</td>\n",
       "      <td>Dec 09 2021</td>\n",
       "      <td>234.600000</td>\n",
       "      <td>Dec 10 2021</td>\n",
       "      <td>13.165733</td>\n",
       "    </tr>\n",
       "    <tr>\n",
       "      <th>12</th>\n",
       "      <td>Dec 11 2021</td>\n",
       "      <td>162.804000</td>\n",
       "      <td>Dec 11 2021</td>\n",
       "      <td>619.965500</td>\n",
       "      <td>Dec 11 2021</td>\n",
       "      <td>9.324500</td>\n",
       "      <td>Dec 11 2021</td>\n",
       "      <td>14.669500</td>\n",
       "      <td>Dec 11 2021</td>\n",
       "      <td>10.456591</td>\n",
       "      <td>...</td>\n",
       "      <td>Dec 11 2021</td>\n",
       "      <td>129.708600</td>\n",
       "      <td>Dec 11 2021</td>\n",
       "      <td>8.711000</td>\n",
       "      <td>Dec 10 2021</td>\n",
       "      <td>0.943000</td>\n",
       "      <td>Dec 10 2021</td>\n",
       "      <td>283.847000</td>\n",
       "      <td>Dec 11 2021</td>\n",
       "      <td>13.490636</td>\n",
       "    </tr>\n",
       "    <tr>\n",
       "      <th>13</th>\n",
       "      <td>Dec 12 2021</td>\n",
       "      <td>170.788000</td>\n",
       "      <td>Dec 12 2021</td>\n",
       "      <td>656.646333</td>\n",
       "      <td>Dec 12 2021</td>\n",
       "      <td>8.588375</td>\n",
       "      <td>Dec 12 2021</td>\n",
       "      <td>15.087105</td>\n",
       "      <td>Dec 12 2021</td>\n",
       "      <td>10.723000</td>\n",
       "      <td>...</td>\n",
       "      <td>Dec 12 2021</td>\n",
       "      <td>137.010000</td>\n",
       "      <td>Dec 12 2021</td>\n",
       "      <td>8.701833</td>\n",
       "      <td>Dec 11 2021</td>\n",
       "      <td>0.928333</td>\n",
       "      <td>Dec 12 2021</td>\n",
       "      <td>274.446000</td>\n",
       "      <td>Dec 12 2021</td>\n",
       "      <td>12.317857</td>\n",
       "    </tr>\n",
       "    <tr>\n",
       "      <th>14</th>\n",
       "      <td>Dec 13 2021</td>\n",
       "      <td>167.860000</td>\n",
       "      <td>Dec 13 2021</td>\n",
       "      <td>660.003000</td>\n",
       "      <td>Dec 13 2021</td>\n",
       "      <td>8.860000</td>\n",
       "      <td>Dec 13 2021</td>\n",
       "      <td>15.026500</td>\n",
       "      <td>Dec 13 2021</td>\n",
       "      <td>11.209000</td>\n",
       "      <td>...</td>\n",
       "      <td>Dec 13 2021</td>\n",
       "      <td>139.132400</td>\n",
       "      <td>Dec 13 2021</td>\n",
       "      <td>8.877000</td>\n",
       "      <td>Dec 12 2021</td>\n",
       "      <td>1.120111</td>\n",
       "      <td>Dec 13 2021</td>\n",
       "      <td>238.277500</td>\n",
       "      <td>Dec 13 2021</td>\n",
       "      <td>14.145000</td>\n",
       "    </tr>\n",
       "  </tbody>\n",
       "</table>\n",
       "<p>15 rows × 34 columns</p>\n",
       "</div>"
      ],
      "text/plain": [
       "     date_Alien  price_Alien date_BigGrin  price_BigGrin date_BlackoutHelmet  \\\n",
       "0   Nov 29 2021   148.915889  Nov 27 2021     588.020500         Nov 29 2021   \n",
       "1   Nov 30 2021   150.078556  Nov 28 2021     587.620000         Nov 30 2021   \n",
       "2   Dec 01 2021   148.119167  Nov 29 2021     569.104667         Dec 01 2021   \n",
       "3   Dec 02 2021   156.120000  Nov 30 2021     675.360000         Dec 02 2021   \n",
       "4   Dec 03 2021   154.889400  Dec 02 2021     639.874800         Dec 03 2021   \n",
       "5   Dec 04 2021   148.505250  Dec 04 2021     659.000000         Dec 04 2021   \n",
       "6   Dec 05 2021   155.173300  Dec 05 2021     662.490000         Dec 05 2021   \n",
       "7   Dec 06 2021   158.892500  Dec 06 2021     604.753000         Dec 06 2021   \n",
       "8   Dec 07 2021   153.106800  Dec 07 2021     661.247000         Dec 07 2021   \n",
       "9   Dec 08 2021   157.871500  Dec 08 2021     673.819000         Dec 08 2021   \n",
       "10  Dec 09 2021   169.088917  Dec 09 2021     670.510667         Dec 09 2021   \n",
       "11  Dec 10 2021   168.477857  Dec 10 2021     718.750000         Dec 10 2021   \n",
       "12  Dec 11 2021   162.804000  Dec 11 2021     619.965500         Dec 11 2021   \n",
       "13  Dec 12 2021   170.788000  Dec 12 2021     656.646333         Dec 12 2021   \n",
       "14  Dec 13 2021   167.860000  Dec 13 2021     660.003000         Dec 13 2021   \n",
       "\n",
       "    price_BlackoutHelmet date_BlackoutHoodie  price_BlackoutHoodie  \\\n",
       "0               8.530600         Nov 29 2021             14.064864   \n",
       "1               8.438769         Nov 30 2021             13.541318   \n",
       "2               8.589750         Dec 01 2021             13.045091   \n",
       "3               8.386813         Dec 02 2021             13.626947   \n",
       "4               9.221889         Dec 03 2021             13.955050   \n",
       "5               9.126900         Dec 04 2021             13.302353   \n",
       "6               9.505650         Dec 05 2021             14.216300   \n",
       "7               9.292500         Dec 06 2021             14.793778   \n",
       "8               9.217562         Dec 07 2021             14.364133   \n",
       "9               9.138067         Dec 08 2021             13.425667   \n",
       "10              9.210357         Dec 09 2021             14.653556   \n",
       "11              8.927385         Dec 10 2021             15.281500   \n",
       "12              9.324500         Dec 11 2021             14.669500   \n",
       "13              8.588375         Dec 12 2021             15.087105   \n",
       "14              8.860000         Dec 13 2021             15.026500   \n",
       "\n",
       "   date_BlackoutJacket  price_BlackoutJacket  ... date_PlateCarrier  \\\n",
       "0          Nov 29 2021              8.899550  ...       Nov 28 2021   \n",
       "1          Nov 30 2021              8.935000  ...       Nov 29 2021   \n",
       "2          Dec 01 2021              8.755950  ...       Nov 30 2021   \n",
       "3          Dec 02 2021              9.033286  ...       Dec 01 2021   \n",
       "4          Dec 03 2021              9.065190  ...       Dec 02 2021   \n",
       "5          Dec 04 2021              9.698810  ...       Dec 04 2021   \n",
       "6          Dec 05 2021              9.803818  ...       Dec 05 2021   \n",
       "7          Dec 06 2021             10.254714  ...       Dec 06 2021   \n",
       "8          Dec 07 2021              9.680048  ...       Dec 07 2021   \n",
       "9          Dec 08 2021             10.017444  ...       Dec 08 2021   \n",
       "10         Dec 09 2021             10.337364  ...       Dec 09 2021   \n",
       "11         Dec 10 2021             10.242952  ...       Dec 10 2021   \n",
       "12         Dec 11 2021             10.456591  ...       Dec 11 2021   \n",
       "13         Dec 12 2021             10.723000  ...       Dec 12 2021   \n",
       "14         Dec 13 2021             11.209000  ...       Dec 13 2021   \n",
       "\n",
       "    price_PlateCarrier date_RatMask  price_RatMask date_SunriseDoor  \\\n",
       "0           109.994000  Nov 29 2021       8.098250      Nov 28 2021   \n",
       "1           131.118000  Nov 30 2021       8.487000      Nov 29 2021   \n",
       "2           129.535000  Dec 01 2021       7.536750      Nov 30 2021   \n",
       "3           115.333000  Dec 02 2021       8.975125      Dec 01 2021   \n",
       "4           134.703333  Dec 03 2021       9.123750      Dec 02 2021   \n",
       "5           139.096333  Dec 04 2021       8.293000      Dec 03 2021   \n",
       "6           125.801500  Dec 05 2021       8.696143      Dec 04 2021   \n",
       "7           131.344000  Dec 06 2021       8.188571      Dec 05 2021   \n",
       "8           124.173500  Dec 07 2021       8.036333      Dec 06 2021   \n",
       "9           139.715000  Dec 08 2021       8.327333      Dec 07 2021   \n",
       "10          132.840667  Dec 09 2021       8.699667      Dec 08 2021   \n",
       "11          116.857333  Dec 10 2021       8.280500      Dec 09 2021   \n",
       "12          129.708600  Dec 11 2021       8.711000      Dec 10 2021   \n",
       "13          137.010000  Dec 12 2021       8.701833      Dec 11 2021   \n",
       "14          139.132400  Dec 13 2021       8.877000      Dec 12 2021   \n",
       "\n",
       "    price_SunriseDoor date_TemperedMask  price_TemperedMask  \\\n",
       "0            0.930000       Nov 26 2021          202.967333   \n",
       "1            1.040857       Nov 27 2021          204.790000   \n",
       "2            0.987556       Nov 28 2021          244.090000   \n",
       "3            0.996714       Nov 29 2021          244.120000   \n",
       "4            0.985000       Nov 30 2021          242.800000   \n",
       "5            1.007500       Dec 01 2021          215.910000   \n",
       "6            1.091600       Dec 02 2021          214.386500   \n",
       "7            1.140714       Dec 03 2021          219.920000   \n",
       "8            0.969000       Dec 04 2021          247.510000   \n",
       "9            1.008500       Dec 05 2021          249.980000   \n",
       "10           1.063889       Dec 06 2021          254.856500   \n",
       "11           1.198500       Dec 09 2021          234.600000   \n",
       "12           0.943000       Dec 10 2021          283.847000   \n",
       "13           0.928333       Dec 12 2021          274.446000   \n",
       "14           1.120111       Dec 13 2021          238.277500   \n",
       "\n",
       "   date_TrainingPants  price_TrainingPants  \n",
       "0         Nov 29 2021            12.543500  \n",
       "1         Nov 30 2021            12.634143  \n",
       "2         Dec 01 2021            12.158571  \n",
       "3         Dec 02 2021            13.489000  \n",
       "4         Dec 03 2021            13.102250  \n",
       "5         Dec 04 2021            12.378750  \n",
       "6         Dec 05 2021            13.027429  \n",
       "7         Dec 06 2021            11.394000  \n",
       "8         Dec 07 2021            12.175333  \n",
       "9         Dec 08 2021            12.156917  \n",
       "10        Dec 09 2021            12.938727  \n",
       "11        Dec 10 2021            13.165733  \n",
       "12        Dec 11 2021            13.490636  \n",
       "13        Dec 12 2021            12.317857  \n",
       "14        Dec 13 2021            14.145000  \n",
       "\n",
       "[15 rows x 34 columns]"
      ]
     },
     "execution_count": 65,
     "metadata": {},
     "output_type": "execute_result"
    }
   ],
   "source": [
    "new_df "
   ]
  },
  {
   "cell_type": "code",
   "execution_count": 66,
   "id": "8fa7b819",
   "metadata": {},
   "outputs": [],
   "source": [
    "namesList = 'date_Alien', 'date_BigGrin','date_BlackoutHelmet','date_BlackoutHoodie','date_BlackoutJacket','date_BlackoutKilt','date_BlackoutVest','date_GhostlyFlame','date_GloryAK','date_GloryRifle','date_NoMercyFaceMask','date_NoMercyJacket','date_PlateCarrier','date_RatMask','date_SunriseDoor','date_TemperedMask','date_TrainingPants'"
   ]
  },
  {
   "cell_type": "code",
   "execution_count": 67,
   "id": "69d4a5d6",
   "metadata": {},
   "outputs": [
    {
     "data": {
      "text/plain": [
       "('date_Alien',\n",
       " 'date_BigGrin',\n",
       " 'date_BlackoutHelmet',\n",
       " 'date_BlackoutHoodie',\n",
       " 'date_BlackoutJacket',\n",
       " 'date_BlackoutKilt',\n",
       " 'date_BlackoutVest',\n",
       " 'date_GhostlyFlame',\n",
       " 'date_GloryAK',\n",
       " 'date_GloryRifle',\n",
       " 'date_NoMercyFaceMask',\n",
       " 'date_NoMercyJacket',\n",
       " 'date_PlateCarrier',\n",
       " 'date_RatMask',\n",
       " 'date_SunriseDoor',\n",
       " 'date_TemperedMask',\n",
       " 'date_TrainingPants')"
      ]
     },
     "execution_count": 67,
     "metadata": {},
     "output_type": "execute_result"
    }
   ],
   "source": [
    "namesList"
   ]
  },
  {
   "cell_type": "code",
   "execution_count": 68,
   "id": "85276388",
   "metadata": {},
   "outputs": [],
   "source": [
    "priceList = 'price_Alien', 'price_BigGrin','price_BlackoutHelmet','price_BlackoutHoodie','price_BlackoutJacket','price_BlackoutKilt','price_BlackoutVest','price_GhostlyFlame','price_GloryAK','price_GloryRifle','price_NoMercyFaceMask','price_NoMercyJacket','price_PlateCarrier','price_RatMask','price_SunriseDoor','price_TemperedMask','price_TrainingPants'"
   ]
  },
  {
   "cell_type": "code",
   "execution_count": 69,
   "id": "414a6592",
   "metadata": {},
   "outputs": [
    {
     "data": {
      "text/plain": [
       "('price_Alien',\n",
       " 'price_BigGrin',\n",
       " 'price_BlackoutHelmet',\n",
       " 'price_BlackoutHoodie',\n",
       " 'price_BlackoutJacket',\n",
       " 'price_BlackoutKilt',\n",
       " 'price_BlackoutVest',\n",
       " 'price_GhostlyFlame',\n",
       " 'price_GloryAK',\n",
       " 'price_GloryRifle',\n",
       " 'price_NoMercyFaceMask',\n",
       " 'price_NoMercyJacket',\n",
       " 'price_PlateCarrier',\n",
       " 'price_RatMask',\n",
       " 'price_SunriseDoor',\n",
       " 'price_TemperedMask',\n",
       " 'price_TrainingPants')"
      ]
     },
     "execution_count": 69,
     "metadata": {},
     "output_type": "execute_result"
    }
   ],
   "source": [
    "priceList"
   ]
  },
  {
   "cell_type": "markdown",
   "id": "b4107e05",
   "metadata": {},
   "source": [
    "The two lists above were made so the while loop below can go through all of the data without having to type out 17 different graphs."
   ]
  },
  {
   "cell_type": "markdown",
   "id": "7652999e",
   "metadata": {},
   "source": [
    "The loop then takes the variables names from the list and puts it into different scatterplots."
   ]
  },
  {
   "cell_type": "code",
   "execution_count": 91,
   "id": "336114dd",
   "metadata": {},
   "outputs": [
    {
     "data": {
      "image/png": "[encoded data removed]",
      "text/plain": [
       "<Figure size 432x288 with 1 Axes>"
      ]
     },
     "metadata": {
      "needs_background": "light"
     },
     "output_type": "display_data"
    },
    {
     "data": {
      "image/png": "[encoded data removed]",
      "text/plain": [
       "<Figure size 432x288 with 1 Axes>"
      ]
     },
     "metadata": {
      "needs_background": "light"
     },
     "output_type": "display_data"
    },
    {
     "data": {
      "image/png": "[encoded data removed]",
      "text/plain": [
       "<Figure size 432x288 with 1 Axes>"
      ]
     },
     "metadata": {
      "needs_background": "light"
     },
     "output_type": "display_data"
    },
    {
     "data": {
      "image/png": "[encoded data removed]",
      "text/plain": [
       "<Figure size 432x288 with 1 Axes>"
      ]
     },
     "metadata": {
      "needs_background": "light"
     },
     "output_type": "display_data"
    },
    {
     "data": {
      "image/png": "[encoded data removed]",
      "text/plain": [
       "<Figure size 432x288 with 1 Axes>"
      ]
     },
     "metadata": {
      "needs_background": "light"
     },
     "output_type": "display_data"
    },
    {
     "data": {
      "image/png": "[encoded data removed]",
      "text/plain": [
       "<Figure size 432x288 with 1 Axes>"
      ]
     },
     "metadata": {
      "needs_background": "light"
     },
     "output_type": "display_data"
    },
    {
     "data": {
      "image/png": "[encoded data removed]",
      "text/plain": [
       "<Figure size 432x288 with 1 Axes>"
      ]
     },
     "metadata": {
      "needs_background": "light"
     },
     "output_type": "display_data"
    },
    {
     "data": {
      "image/png": "[encoded data removed]",
      "text/plain": [
       "<Figure size 432x288 with 1 Axes>"
      ]
     },
     "metadata": {
      "needs_background": "light"
     },
     "output_type": "display_data"
    },
    {
     "data": {
      "image/png": "[encoded data removed]",
      "text/plain": [
       "<Figure size 432x288 with 1 Axes>"
      ]
     },
     "metadata": {
      "needs_background": "light"
     },
     "output_type": "display_data"
    },
    {
     "data": {
      "image/png": "[encoded data removed]",
      "text/plain": [
       "<Figure size 432x288 with 1 Axes>"
      ]
     },
     "metadata": {
      "needs_background": "light"
     },
     "output_type": "display_data"
    },
    {
     "data": {
      "image/png": "[encoded data removed]",
      "text/plain": [
       "<Figure size 432x288 with 1 Axes>"
      ]
     },
     "metadata": {
      "needs_background": "light"
     },
     "output_type": "display_data"
    },
    {
     "data": {
      "image/png": "[encoded data removed]",
      "text/plain": [
       "<Figure size 432x288 with 1 Axes>"
      ]
     },
     "metadata": {
      "needs_background": "light"
     },
     "output_type": "display_data"
    },
    {
     "data": {
      "image/png": "[encoded data removed]",
      "text/plain": [
       "<Figure size 432x288 with 1 Axes>"
      ]
     },
     "metadata": {
      "needs_background": "light"
     },
     "output_type": "display_data"
    },
    {
     "data": {
      "image/png": "[encoded data removed]",
      "text/plain": [
       "<Figure size 432x288 with 1 Axes>"
      ]
     },
     "metadata": {
      "needs_background": "light"
     },
     "output_type": "display_data"
    },
    {
     "data": {
      "image/png": "[encoded data removed]",
      "text/plain": [
       "<Figure size 432x288 with 1 Axes>"
      ]
     },
     "metadata": {
      "needs_background": "light"
     },
     "output_type": "display_data"
    },
    {
     "data": {
      "image/png": "[encoded data removed]",
      "text/plain": [
       "<Figure size 432x288 with 1 Axes>"
      ]
     },
     "metadata": {
      "needs_background": "light"
     },
     "output_type": "display_data"
    },
    {
     "data": {
      "image/png": "[encoded data removed]",
      "text/plain": [
       "<Figure size 432x288 with 1 Axes>"
      ]
     },
     "metadata": {
      "needs_background": "light"
     },
     "output_type": "display_data"
    }
   ],
   "source": [
    "i = 0\n",
    "while i < len(namesList):\n",
    "    fig0, ax0 = plt.subplots()\n",
    "    ax0.scatter(new_df[namesList[i]], new_df[priceList[i]])\n",
    "    plt.title(item[i])\n",
    "    plt.xlabel('Date')\n",
    "    plt.ylabel('Price')\n",
    "    plt.xticks(rotation=45)\n",
    "    plt.show()\n",
    "    i += 1"
   ]
  },
  {
   "cell_type": "markdown",
   "id": "59ed98b2",
   "metadata": {},
   "source": [
    "The data initially came with date, price, and quantity however, I took out quantity to make it easier to show how the prices were affected over 15 days. The only problem with not having quantity is sometimes there is only 1 or 2 of an item on the market at a certain point which can inflate the prices of items because people can mark whatever price they want to sell it for. There is probably another way I could of made all the graphs so it also accounts for quantity, or even made another set to see how much the prices jumped when an item had low quantity on the market."
   ]
  },
  {
   "cell_type": "markdown",
   "id": "2c55577c",
   "metadata": {},
   "source": [
    "This data is all pulled directly from the Steam market place, where all items and prices on it are determined by people wanting to buy and sell. This data is visible from steam in general so it can be looked at without accessing API. Also, since all the prices are determined by people it can be considered pretty reliable data because all it is doing is taking prices items were sold at and bringing it here."
   ]
  },
  {
   "cell_type": "markdown",
   "id": "bdaeb11b",
   "metadata": {},
   "source": [
    "Based on all of the scatter plots it does not look like the new shop that Rust added has dropped the prices of the items so far. Based on the data it looks like they either increased or didn't have a correlation at all. Overall it looks like the new shop didn't have a negative effect on prices for previous items."
   ]
  },
  {
   "cell_type": "markdown",
   "id": "ae84bae5",
   "metadata": {},
   "source": [
    "There are a few limitations with this data, for starters the dates are the last 15 days since the code was executed, so the longer its been since the shop was released (mid November) the less reliable the data becomes. There is also the fact that since some items may look like it correlates and some don't it can't be said with 100% certainty that the new shop had an effect on the prices of the old items."
   ]
  },
  {
   "cell_type": "markdown",
   "id": "77df0e11",
   "metadata": {},
   "source": [
    "The main takeaway from this data is that the new shop didn't effect prices in a negative way, also that it is very likely that the shop didn't effect prices significantly at all."
   ]
  },
  {
   "cell_type": "code",
   "execution_count": null,
   "id": "1fff2b11",
   "metadata": {},
   "outputs": [],
   "source": []
  }
 ],
 "metadata": {
  "kernelspec": {
   "display_name": "Python 3 (ipykernel)",
   "language": "python",
   "name": "python3"
  },
  "language_info": {
   "codemirror_mode": {
    "name": "ipython",
    "version": 3
   },
   "file_extension": ".py",
   "mimetype": "text/x-python",
   "name": "python",
   "nbconvert_exporter": "python",
   "pygments_lexer": "ipython3",
   "version": "3.9.6"
  }
 },
 "nbformat": 4,
 "nbformat_minor": 5
}
