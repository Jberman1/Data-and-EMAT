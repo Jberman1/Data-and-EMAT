{
 "cells": [
  {
   "cell_type": "markdown",
   "id": "7c944cc3",
   "metadata": {},
   "source": [
    "# Twitter Text Report\n",
    "## Jake Berman\n"
   ]
  },
  {
   "cell_type": "code",
   "execution_count": null,
   "id": "fdf696ac",
   "metadata": {},
   "outputs": [],
   "source": [
    "import pandas as pd\n",
    "import json\n",
    "import requests\n",
    "import urllib"
   ]
  },
  {
   "cell_type": "code",
   "execution_count": null,
   "id": "2d4dfb3f",
   "metadata": {},
   "outputs": [],
   "source": [
    "bearer_token = pd.read_csv(\"/Users/jake/Documents/Bearer Token.txt\", sep = '\\t', header = 0)"
   ]
  },
  {
   "cell_type": "code",
   "execution_count": null,
   "id": "8e4654bd",
   "metadata": {},
   "outputs": [],
   "source": [
    "bearer_token['Bearer_Token'].iloc[0] #Dont run this in notebook when turning in also for just bearer token use .iloc[0]"
   ]
  },
  {
   "cell_type": "code",
   "execution_count": null,
   "id": "df69254a",
   "metadata": {},
   "outputs": [],
   "source": [
    "header = {'Authorization' : 'Bearer {}'.format(bearer_token['Bearer_Token'].iloc[0])}"
   ]
  },
  {
   "cell_type": "code",
   "execution_count": null,
   "id": "de9cdf9c",
   "metadata": {},
   "outputs": [],
   "source": [
    "bearer_token.keys()"
   ]
  },
  {
   "cell_type": "markdown",
   "id": "c3dcc8fe",
   "metadata": {},
   "source": [
    "## 2)"
   ]
  },
  {
   "cell_type": "code",
   "execution_count": null,
   "id": "2cedaa8c",
   "metadata": {},
   "outputs": [],
   "source": [
    "response = requests.request(\"GET\", url, headers = header)"
   ]
  },
  {
   "cell_type": "markdown",
   "id": "1a7fdfdd",
   "metadata": {},
   "source": [
    "The url from twitter to access the api."
   ]
  },
  {
   "cell_type": "code",
   "execution_count": null,
   "id": "8c821674",
   "metadata": {},
   "outputs": [],
   "source": [
    "endpoint_url = 'https://api.twitter.com/2/tweets/search/recent'"
   ]
  },
  {
   "cell_type": "markdown",
   "id": "fbccc8f0",
   "metadata": {},
   "source": [
    "This is what sill go through the twitter search to pull the tweets"
   ]
  },
  {
   "cell_type": "code",
   "execution_count": null,
   "id": "a5bc0ed2",
   "metadata": {},
   "outputs": [],
   "source": [
    "query = urllib.parse.quote('(#SpiderManNoWayHome) lang:en')"
   ]
  },
  {
   "cell_type": "code",
   "execution_count": null,
   "id": "bb0b4e3e",
   "metadata": {},
   "outputs": [],
   "source": [
    "query"
   ]
  },
  {
   "cell_type": "markdown",
   "id": "87f33cd4",
   "metadata": {},
   "source": [
    "The next few lines of code sets up all of the query data such as the author id or the max amount of tweets it will pull."
   ]
  },
  {
   "cell_type": "code",
   "execution_count": 811,
   "id": "b9afc0ee",
   "metadata": {},
   "outputs": [],
   "source": [
    "expansions = 'author_id,attachments.media_keys'"
   ]
  },
  {
   "cell_type": "code",
   "execution_count": 812,
   "id": "855f8ec8",
   "metadata": {},
   "outputs": [],
   "source": [
    "tweet_fields = 'public_metrics,created_at,author_id,lang'"
   ]
  },
  {
   "cell_type": "code",
   "execution_count": 813,
   "id": "12084607",
   "metadata": {},
   "outputs": [],
   "source": [
    "media_fields = 'type'"
   ]
  },
  {
   "cell_type": "code",
   "execution_count": 814,
   "id": "e8f6c146",
   "metadata": {},
   "outputs": [],
   "source": [
    "url = endpoint_url + '?query={}&max_results=100&tweet.fields={}&expansions={}&user.fields={}&media.fields={}'.format(query, tweet_fields, expansions, 'username', media_fields)"
   ]
  },
  {
   "cell_type": "code",
   "execution_count": 815,
   "id": "4cf7d8bf",
   "metadata": {},
   "outputs": [],
   "source": [
    "my_api_url = endpoint_url + '?query={}&max_results=100&tweet.fields={}&expansions={}&user.fields={}&media.fields={}'.format(query, tweet_fields, expansions, 'username', media_fields)"
   ]
  },
  {
   "cell_type": "code",
   "execution_count": null,
   "id": "db524444",
   "metadata": {},
   "outputs": [],
   "source": [
    "my_api_url"
   ]
  },
  {
   "cell_type": "code",
   "execution_count": null,
   "id": "a4434ec3",
   "metadata": {},
   "outputs": [],
   "source": [
    "url"
   ]
  },
  {
   "cell_type": "markdown",
   "id": "9fe5d07d",
   "metadata": {},
   "source": [
    "This will request the first 100 tweets and then after they will be converted to a json later."
   ]
  },
  {
   "cell_type": "code",
   "execution_count": 722,
   "id": "610ca427",
   "metadata": {},
   "outputs": [],
   "source": [
    "response_1 = requests.request(\"GET\", url, headers = header)"
   ]
  },
  {
   "cell_type": "code",
   "execution_count": null,
   "id": "65e977a8",
   "metadata": {},
   "outputs": [],
   "source": [
    "response_1.text"
   ]
  },
  {
   "cell_type": "code",
   "execution_count": null,
   "id": "aa38a057",
   "metadata": {},
   "outputs": [],
   "source": [
    "response_1_dict.keys()"
   ]
  },
  {
   "cell_type": "markdown",
   "id": "c56b1b75",
   "metadata": {},
   "source": [
    "This will convert the first 100 tweets into a Data Frame"
   ]
  },
  {
   "cell_type": "code",
   "execution_count": 727,
   "id": "a2b7c5fe",
   "metadata": {},
   "outputs": [],
   "source": [
    "dataframe = pd.DataFrame(response_1_dict['data'])"
   ]
  },
  {
   "cell_type": "code",
   "execution_count": null,
   "id": "01c63e5e",
   "metadata": {},
   "outputs": [],
   "source": [
    "dataframe"
   ]
  },
  {
   "cell_type": "code",
   "execution_count": null,
   "id": "aa7270ba",
   "metadata": {},
   "outputs": [],
   "source": [
    "response_1_dict['meta']"
   ]
  },
  {
   "cell_type": "code",
   "execution_count": 730,
   "id": "016771ab",
   "metadata": {},
   "outputs": [],
   "source": [
    "url_2 = url + '&next_token={}'.format(response_1_dict['meta']['next_token'])"
   ]
  },
  {
   "cell_type": "code",
   "execution_count": null,
   "id": "08bb4b1c",
   "metadata": {},
   "outputs": [],
   "source": [
    "url_2"
   ]
  },
  {
   "cell_type": "markdown",
   "id": "6f02b268",
   "metadata": {},
   "source": [
    "This is getting the second 100 tweets and then they will be converted into a json later in the code."
   ]
  },
  {
   "cell_type": "code",
   "execution_count": 753,
   "id": "6438c3b2",
   "metadata": {},
   "outputs": [],
   "source": [
    "response_2 = requests.request(\"GET\", url_2, headers = header)"
   ]
  },
  {
   "cell_type": "code",
   "execution_count": null,
   "id": "88672ac5",
   "metadata": {},
   "outputs": [],
   "source": [
    "response_2.text"
   ]
  },
  {
   "cell_type": "code",
   "execution_count": 734,
   "id": "eef01be3",
   "metadata": {},
   "outputs": [],
   "source": [
    "url_3 = url_2 + '&next_token={}'.format(response_1_dict['meta']['next_token'][2])"
   ]
  },
  {
   "cell_type": "markdown",
   "id": "0b4924ae",
   "metadata": {},
   "source": [
    "This is getting the third 100 tweets."
   ]
  },
  {
   "cell_type": "code",
   "execution_count": 850,
   "id": "18c8de18",
   "metadata": {},
   "outputs": [],
   "source": [
    "response_3 = requests.request(\"GET\", url, headers = header)"
   ]
  },
  {
   "cell_type": "code",
   "execution_count": null,
   "id": "26630ae9",
   "metadata": {},
   "outputs": [],
   "source": [
    "response_3.text"
   ]
  },
  {
   "cell_type": "code",
   "execution_count": 737,
   "id": "0625f8ba",
   "metadata": {},
   "outputs": [],
   "source": [
    "response_1_dict = json.loads(response_1.text)"
   ]
  },
  {
   "cell_type": "markdown",
   "id": "a79c111a",
   "metadata": {},
   "source": [
    "These are converting the tweets into jsons."
   ]
  },
  {
   "cell_type": "code",
   "execution_count": null,
   "id": "bf3f085d",
   "metadata": {},
   "outputs": [],
   "source": [
    "response_1_dict"
   ]
  },
  {
   "cell_type": "code",
   "execution_count": 755,
   "id": "18a4d521",
   "metadata": {},
   "outputs": [],
   "source": [
    "response_2_dict = json.loads(response_2.text)"
   ]
  },
  {
   "cell_type": "code",
   "execution_count": null,
   "id": "82de63a2",
   "metadata": {},
   "outputs": [],
   "source": [
    "response_2_dict"
   ]
  },
  {
   "cell_type": "code",
   "execution_count": 763,
   "id": "e1fdbd43",
   "metadata": {},
   "outputs": [],
   "source": [
    "response_3_dict = json.loads(response_3.text)"
   ]
  },
  {
   "cell_type": "code",
   "execution_count": null,
   "id": "10819ebe",
   "metadata": {},
   "outputs": [],
   "source": [
    "response_3_dict"
   ]
  },
  {
   "cell_type": "code",
   "execution_count": null,
   "id": "ed3a0e3f",
   "metadata": {},
   "outputs": [],
   "source": [
    "response_1_dict['data']"
   ]
  },
  {
   "cell_type": "markdown",
   "id": "07165ae5",
   "metadata": {},
   "source": [
    "This is going through the list of the first 100 tweets and pulling out the accounts usernames."
   ]
  },
  {
   "cell_type": "code",
   "execution_count": null,
   "id": "c20a3e83",
   "metadata": {},
   "outputs": [],
   "source": [
    "usernames_1 = [x['username'] for x in response_1_dict['includes']['users']]"
   ]
  },
  {
   "cell_type": "markdown",
   "id": "17ce05f5",
   "metadata": {},
   "source": [
    "This is going through the first 100 tweets and pulling out the authors names."
   ]
  },
  {
   "cell_type": "code",
   "execution_count": null,
   "id": "815f0d97",
   "metadata": {},
   "outputs": [],
   "source": [
    "names_1 = [x['name'] for x in response_1_dict['includes']['users']]"
   ]
  },
  {
   "cell_type": "code",
   "execution_count": null,
   "id": "5616c925",
   "metadata": {},
   "outputs": [],
   "source": [
    "names_1"
   ]
  },
  {
   "cell_type": "code",
   "execution_count": null,
   "id": "f52e8c10",
   "metadata": {},
   "outputs": [],
   "source": [
    "usernames_1"
   ]
  },
  {
   "cell_type": "code",
   "execution_count": null,
   "id": "b550e5bf",
   "metadata": {},
   "outputs": [],
   "source": [
    "usernames_2 = [x['username'] for x in response_2_dict['includes']['users']]"
   ]
  },
  {
   "cell_type": "code",
   "execution_count": null,
   "id": "46b5b949",
   "metadata": {},
   "outputs": [],
   "source": [
    "names_2 = [x['name'] for x in response_2_dict['includes']['users']]"
   ]
  },
  {
   "cell_type": "code",
   "execution_count": null,
   "id": "b21d066b",
   "metadata": {},
   "outputs": [],
   "source": [
    "usernames_3 = [x['username'] for x in response_3_dict['includes']['users']]"
   ]
  },
  {
   "cell_type": "code",
   "execution_count": null,
   "id": "3e49a4e8",
   "metadata": {},
   "outputs": [],
   "source": [
    "names_3 = [x['name'] for x in response_3_dict['includes']['users']]"
   ]
  },
  {
   "cell_type": "code",
   "execution_count": null,
   "id": "4dfbc110",
   "metadata": {},
   "outputs": [],
   "source": [
    "usernames_4 = [x['username'] for x in response_4_dict['includes']['users']]"
   ]
  },
  {
   "cell_type": "code",
   "execution_count": null,
   "id": "7623db5f",
   "metadata": {},
   "outputs": [],
   "source": [
    "names_4 = [x['name'] for x in response_4_dict['includes']['users']]"
   ]
  },
  {
   "cell_type": "code",
   "execution_count": null,
   "id": "1f5af789",
   "metadata": {},
   "outputs": [],
   "source": [
    "usernames_4"
   ]
  },
  {
   "cell_type": "markdown",
   "id": "dfad40e9",
   "metadata": {},
   "source": [
    "These are adding all the authors usernames and names into one one list to then be added to the Data Frame."
   ]
  },
  {
   "cell_type": "code",
   "execution_count": null,
   "id": "54011efd",
   "metadata": {},
   "outputs": [],
   "source": [
    "usernames = (usernames_1 + usernames_2 + usernames_3 + usernames_4)"
   ]
  },
  {
   "cell_type": "code",
   "execution_count": null,
   "id": "c300e6fb",
   "metadata": {},
   "outputs": [],
   "source": [
    "names = (names_1 + names_2 + names_3 + names_4)"
   ]
  },
  {
   "cell_type": "code",
   "execution_count": null,
   "id": "bcb6998e",
   "metadata": {},
   "outputs": [],
   "source": [
    "reference_id = [x['id'] for x in response_1_dict['data']]"
   ]
  },
  {
   "cell_type": "code",
   "execution_count": null,
   "id": "cb84acf9",
   "metadata": {},
   "outputs": [],
   "source": [
    "len(reference_id)"
   ]
  },
  {
   "cell_type": "markdown",
   "id": "e520a7b5",
   "metadata": {},
   "source": [
    "These next two lines will append the data from the second and third set of tweets to the first so it is a much bigger Data Frame."
   ]
  },
  {
   "cell_type": "code",
   "execution_count": 777,
   "id": "c39379bc",
   "metadata": {},
   "outputs": [],
   "source": [
    "dataframe = dataframe.append(pd.DataFrame(json.loads(response_2.text)['data']), ignore_index= True)"
   ]
  },
  {
   "cell_type": "code",
   "execution_count": 779,
   "id": "0975a36a",
   "metadata": {},
   "outputs": [],
   "source": [
    "dataframe = dataframe.append(pd.DataFrame(json.loads(response_3.text)['data']), ignore_index= True)"
   ]
  },
  {
   "cell_type": "code",
   "execution_count": 781,
   "id": "722685f0",
   "metadata": {},
   "outputs": [],
   "source": [
    "url_4 = url_3 + '&next_token={}'.format(response_1_dict['meta']['next_token'][3])"
   ]
  },
  {
   "cell_type": "code",
   "execution_count": null,
   "id": "5753c349",
   "metadata": {},
   "outputs": [],
   "source": [
    "url_4"
   ]
  },
  {
   "cell_type": "code",
   "execution_count": 740,
   "id": "c05ab63e",
   "metadata": {},
   "outputs": [],
   "source": [
    "response_4 = requests.request(\"GET\", url, headers = header)"
   ]
  },
  {
   "cell_type": "markdown",
   "id": "ee63c2d3",
   "metadata": {},
   "source": [
    "Calling and converting the fourth set of tweets to a json."
   ]
  },
  {
   "cell_type": "code",
   "execution_count": 741,
   "id": "d93b43e0",
   "metadata": {},
   "outputs": [],
   "source": [
    "response_4_dict = json.loads(response_4.text)"
   ]
  },
  {
   "cell_type": "code",
   "execution_count": null,
   "id": "2f190809",
   "metadata": {},
   "outputs": [],
   "source": [
    "response_2_dict"
   ]
  },
  {
   "cell_type": "code",
   "execution_count": 783,
   "id": "a6dd8f92",
   "metadata": {},
   "outputs": [],
   "source": [
    "dataframe = dataframe.append(pd.DataFrame(json.loads(response_4.text)['data']), ignore_index= True)"
   ]
  },
  {
   "cell_type": "code",
   "execution_count": null,
   "id": "b8f484b0",
   "metadata": {},
   "outputs": [],
   "source": [
    "usernames"
   ]
  },
  {
   "cell_type": "code",
   "execution_count": 795,
   "id": "56d0e595",
   "metadata": {},
   "outputs": [],
   "source": [
    "dataframe['usernames'] = usernames"
   ]
  },
  {
   "cell_type": "markdown",
   "id": "8b9e220d",
   "metadata": {},
   "source": [
    "This adds a username and author name column and puts the variables from earlier into those colums."
   ]
  },
  {
   "cell_type": "code",
   "execution_count": 799,
   "id": "03b200da",
   "metadata": {},
   "outputs": [],
   "source": [
    "dataframe['author_name'] = names"
   ]
  },
  {
   "cell_type": "code",
   "execution_count": 831,
   "id": "5bb58740",
   "metadata": {},
   "outputs": [
    {
     "data": {
      "text/html": [
       "<div>\n",
       "<style scoped>\n",
       "    .dataframe tbody tr th:only-of-type {\n",
       "        vertical-align: middle;\n",
       "    }\n",
       "\n",
       "    .dataframe tbody tr th {\n",
       "        vertical-align: top;\n",
       "    }\n",
       "\n",
       "    .dataframe thead th {\n",
       "        text-align: right;\n",
       "    }\n",
       "</style>\n",
       "<table border=\"1\" class=\"dataframe\">\n",
       "  <thead>\n",
       "    <tr style=\"text-align: right;\">\n",
       "      <th></th>\n",
       "      <th>attachments</th>\n",
       "      <th>id</th>\n",
       "      <th>created_at</th>\n",
       "      <th>public_metrics</th>\n",
       "      <th>author_id</th>\n",
       "      <th>lang</th>\n",
       "      <th>text</th>\n",
       "      <th>usernames</th>\n",
       "      <th>author_name</th>\n",
       "    </tr>\n",
       "  </thead>\n",
       "  <tbody>\n",
       "    <tr>\n",
       "      <th>0</th>\n",
       "      <td>{'media_keys': ['3_1450904467772116994']}</td>\n",
       "      <td>1450904471060377603</td>\n",
       "      <td>2021-10-20T19:19:17.000Z</td>\n",
       "      <td>{'retweet_count': 0, 'reply_count': 0, 'like_c...</td>\n",
       "      <td>1272842782579683329</td>\n",
       "      <td>en</td>\n",
       "      <td>What about this 👀\\n[Thor's new eye - THE 🎃 eye...</td>\n",
       "      <td>knight99_death</td>\n",
       "      <td>ĎeaţhKníght99</td>\n",
       "    </tr>\n",
       "    <tr>\n",
       "      <th>1</th>\n",
       "      <td>{'media_keys': ['3_1450797403469144067']}</td>\n",
       "      <td>1450904429461393411</td>\n",
       "      <td>2021-10-20T19:19:07.000Z</td>\n",
       "      <td>{'retweet_count': 5, 'reply_count': 0, 'like_c...</td>\n",
       "      <td>1077740308195094528</td>\n",
       "      <td>en</td>\n",
       "      <td>RT @SpideysUpdates: Tom Hardy posted this one ...</td>\n",
       "      <td>VictorI81103328</td>\n",
       "      <td>Victor Ibarra</td>\n",
       "    </tr>\n",
       "    <tr>\n",
       "      <th>2</th>\n",
       "      <td>{'media_keys': ['16_1450904354035167235']}</td>\n",
       "      <td>1450904363631714304</td>\n",
       "      <td>2021-10-20T19:18:51.000Z</td>\n",
       "      <td>{'retweet_count': 0, 'reply_count': 0, 'like_c...</td>\n",
       "      <td>1261562219294339072</td>\n",
       "      <td>en</td>\n",
       "      <td>25th ! \\n#antim trailer\\n#SpiderManNoWayHome t...</td>\n",
       "      <td>JabyFrost</td>\n",
       "      <td>Frost jaby #NoWayHome</td>\n",
       "    </tr>\n",
       "    <tr>\n",
       "      <th>3</th>\n",
       "      <td>NaN</td>\n",
       "      <td>1450904336687452162</td>\n",
       "      <td>2021-10-20T19:18:45.000Z</td>\n",
       "      <td>{'retweet_count': 63, 'reply_count': 0, 'like_...</td>\n",
       "      <td>946794036098150401</td>\n",
       "      <td>en</td>\n",
       "      <td>RT @TaranstingVFX: \"You look vaguely familiar!...</td>\n",
       "      <td>cjhofmann06</td>\n",
       "      <td>Caleb Hoffmann</td>\n",
       "    </tr>\n",
       "    <tr>\n",
       "      <th>4</th>\n",
       "      <td>NaN</td>\n",
       "      <td>1450904332749078528</td>\n",
       "      <td>2021-10-20T19:18:44.000Z</td>\n",
       "      <td>{'retweet_count': 33, 'reply_count': 0, 'like_...</td>\n",
       "      <td>1449691839909400577</td>\n",
       "      <td>en</td>\n",
       "      <td>RT @Spider_Leaks: i really hope the 2nd #Spide...</td>\n",
       "      <td>ConnorHawks12</td>\n",
       "      <td>Connor Mitchell 🧛🏻‍♂️👻🎃</td>\n",
       "    </tr>\n",
       "    <tr>\n",
       "      <th>...</th>\n",
       "      <td>...</td>\n",
       "      <td>...</td>\n",
       "      <td>...</td>\n",
       "      <td>...</td>\n",
       "      <td>...</td>\n",
       "      <td>...</td>\n",
       "      <td>...</td>\n",
       "      <td>...</td>\n",
       "      <td>...</td>\n",
       "    </tr>\n",
       "    <tr>\n",
       "      <th>395</th>\n",
       "      <td>{'media_keys': ['3_1450774962403528705', '3_14...</td>\n",
       "      <td>1450896326842101766</td>\n",
       "      <td>2021-10-20T18:46:55.000Z</td>\n",
       "      <td>{'retweet_count': 392, 'reply_count': 0, 'like...</td>\n",
       "      <td>1017349187418148864</td>\n",
       "      <td>en</td>\n",
       "      <td>RT @SonyPicturesUK: Check out these new images...</td>\n",
       "      <td>Uchiha_Shisui3</td>\n",
       "      <td>🎃Red Turtle Dude🎃</td>\n",
       "    </tr>\n",
       "    <tr>\n",
       "      <th>396</th>\n",
       "      <td>{'media_keys': ['3_1450611860198330369', '3_14...</td>\n",
       "      <td>1450896264216948737</td>\n",
       "      <td>2021-10-20T18:46:40.000Z</td>\n",
       "      <td>{'retweet_count': 373, 'reply_count': 0, 'like...</td>\n",
       "      <td>2437384238</td>\n",
       "      <td>en</td>\n",
       "      <td>RT @Spider_Leaks: Our favorite #SpiderManNoWay...</td>\n",
       "      <td>ay_a_rte</td>\n",
       "      <td>ᴀʏ ᴀʀᴛᴇ!</td>\n",
       "    </tr>\n",
       "    <tr>\n",
       "      <th>397</th>\n",
       "      <td>{'media_keys': ['3_1450774962403528705', '3_14...</td>\n",
       "      <td>1450896131311947782</td>\n",
       "      <td>2021-10-20T18:46:08.000Z</td>\n",
       "      <td>{'retweet_count': 392, 'reply_count': 0, 'like...</td>\n",
       "      <td>745858015924981760</td>\n",
       "      <td>en</td>\n",
       "      <td>RT @SonyPicturesUK: Check out these new images...</td>\n",
       "      <td>MarvelManiac_</td>\n",
       "      <td>DimVars</td>\n",
       "    </tr>\n",
       "    <tr>\n",
       "      <th>398</th>\n",
       "      <td>{'media_keys': ['3_1450611860198330369', '3_14...</td>\n",
       "      <td>1450896122390609925</td>\n",
       "      <td>2021-10-20T18:46:06.000Z</td>\n",
       "      <td>{'retweet_count': 373, 'reply_count': 0, 'like...</td>\n",
       "      <td>1152676020530511872</td>\n",
       "      <td>en</td>\n",
       "      <td>RT @Spider_Leaks: Our favorite #SpiderManNoWay...</td>\n",
       "      <td>JackIreland_200</td>\n",
       "      <td>Jack Ireland</td>\n",
       "    </tr>\n",
       "    <tr>\n",
       "      <th>399</th>\n",
       "      <td>{'media_keys': ['3_1450896060478488578']}</td>\n",
       "      <td>1450896062961512449</td>\n",
       "      <td>2021-10-20T18:45:52.000Z</td>\n",
       "      <td>{'retweet_count': 4, 'reply_count': 0, 'like_c...</td>\n",
       "      <td>1272842782579683329</td>\n",
       "      <td>en</td>\n",
       "      <td>58 Days left till #SpiderManNoWayHome https://...</td>\n",
       "      <td>Wadespude</td>\n",
       "      <td>Rahul Gurumurti Deshpande</td>\n",
       "    </tr>\n",
       "  </tbody>\n",
       "</table>\n",
       "<p>383 rows × 9 columns</p>\n",
       "</div>"
      ],
      "text/plain": [
       "                                           attachments                   id  \\\n",
       "0            {'media_keys': ['3_1450904467772116994']}  1450904471060377603   \n",
       "1            {'media_keys': ['3_1450797403469144067']}  1450904429461393411   \n",
       "2           {'media_keys': ['16_1450904354035167235']}  1450904363631714304   \n",
       "3                                                  NaN  1450904336687452162   \n",
       "4                                                  NaN  1450904332749078528   \n",
       "..                                                 ...                  ...   \n",
       "395  {'media_keys': ['3_1450774962403528705', '3_14...  1450896326842101766   \n",
       "396  {'media_keys': ['3_1450611860198330369', '3_14...  1450896264216948737   \n",
       "397  {'media_keys': ['3_1450774962403528705', '3_14...  1450896131311947782   \n",
       "398  {'media_keys': ['3_1450611860198330369', '3_14...  1450896122390609925   \n",
       "399          {'media_keys': ['3_1450896060478488578']}  1450896062961512449   \n",
       "\n",
       "                   created_at  \\\n",
       "0    2021-10-20T19:19:17.000Z   \n",
       "1    2021-10-20T19:19:07.000Z   \n",
       "2    2021-10-20T19:18:51.000Z   \n",
       "3    2021-10-20T19:18:45.000Z   \n",
       "4    2021-10-20T19:18:44.000Z   \n",
       "..                        ...   \n",
       "395  2021-10-20T18:46:55.000Z   \n",
       "396  2021-10-20T18:46:40.000Z   \n",
       "397  2021-10-20T18:46:08.000Z   \n",
       "398  2021-10-20T18:46:06.000Z   \n",
       "399  2021-10-20T18:45:52.000Z   \n",
       "\n",
       "                                        public_metrics            author_id  \\\n",
       "0    {'retweet_count': 0, 'reply_count': 0, 'like_c...  1272842782579683329   \n",
       "1    {'retweet_count': 5, 'reply_count': 0, 'like_c...  1077740308195094528   \n",
       "2    {'retweet_count': 0, 'reply_count': 0, 'like_c...  1261562219294339072   \n",
       "3    {'retweet_count': 63, 'reply_count': 0, 'like_...   946794036098150401   \n",
       "4    {'retweet_count': 33, 'reply_count': 0, 'like_...  1449691839909400577   \n",
       "..                                                 ...                  ...   \n",
       "395  {'retweet_count': 392, 'reply_count': 0, 'like...  1017349187418148864   \n",
       "396  {'retweet_count': 373, 'reply_count': 0, 'like...           2437384238   \n",
       "397  {'retweet_count': 392, 'reply_count': 0, 'like...   745858015924981760   \n",
       "398  {'retweet_count': 373, 'reply_count': 0, 'like...  1152676020530511872   \n",
       "399  {'retweet_count': 4, 'reply_count': 0, 'like_c...  1272842782579683329   \n",
       "\n",
       "    lang                                               text        usernames  \\\n",
       "0     en  What about this 👀\\n[Thor's new eye - THE 🎃 eye...   knight99_death   \n",
       "1     en  RT @SpideysUpdates: Tom Hardy posted this one ...  VictorI81103328   \n",
       "2     en  25th ! \\n#antim trailer\\n#SpiderManNoWayHome t...        JabyFrost   \n",
       "3     en  RT @TaranstingVFX: \"You look vaguely familiar!...      cjhofmann06   \n",
       "4     en  RT @Spider_Leaks: i really hope the 2nd #Spide...    ConnorHawks12   \n",
       "..   ...                                                ...              ...   \n",
       "395   en  RT @SonyPicturesUK: Check out these new images...   Uchiha_Shisui3   \n",
       "396   en  RT @Spider_Leaks: Our favorite #SpiderManNoWay...         ay_a_rte   \n",
       "397   en  RT @SonyPicturesUK: Check out these new images...    MarvelManiac_   \n",
       "398   en  RT @Spider_Leaks: Our favorite #SpiderManNoWay...  JackIreland_200   \n",
       "399   en  58 Days left till #SpiderManNoWayHome https://...        Wadespude   \n",
       "\n",
       "                   author_name  \n",
       "0                ĎeaţhKníght99  \n",
       "1                Victor Ibarra  \n",
       "2        Frost jaby #NoWayHome  \n",
       "3               Caleb Hoffmann  \n",
       "4      Connor Mitchell 🧛🏻‍♂️👻🎃  \n",
       "..                         ...  \n",
       "395          🎃Red Turtle Dude🎃  \n",
       "396                   ᴀʏ ᴀʀᴛᴇ!  \n",
       "397                    DimVars  \n",
       "398               Jack Ireland  \n",
       "399  Rahul Gurumurti Deshpande  \n",
       "\n",
       "[383 rows x 9 columns]"
      ]
     },
     "execution_count": 831,
     "metadata": {},
     "output_type": "execute_result"
    }
   ],
   "source": [
    "dataframe"
   ]
  },
  {
   "cell_type": "code",
   "execution_count": 832,
   "id": "7f93bfb2",
   "metadata": {},
   "outputs": [],
   "source": [
    "dataframe.to_csv('Twitter_Text_Report.csv')"
   ]
  },
  {
   "cell_type": "markdown",
   "id": "e480af1d",
   "metadata": {},
   "source": [
    "This shows the first 10 tweets that were pulled."
   ]
  },
  {
   "cell_type": "markdown",
   "id": "3d1c366b",
   "metadata": {},
   "source": [
    "## 7)\n",
    "\n",
    "The query I wanted to collect data about was about new movies coming out and people's theories about them. Specifically I wanted to know about people's theories on what might happen in the new Spider-Man Movie \"Spider-Man No Way Home\". I wanted to make the query a little more specific with about how there is a possibility that older Spider-Man actors will be in this new movie but the query results were far to small. The data collected was all tweets made using the #SpiderManNoWayHome, so most of them were theories about the trailers that were released not long ago."
   ]
  },
  {
   "cell_type": "markdown",
   "id": "f895c79e",
   "metadata": {},
   "source": [
    "## 8)\n",
    "\n",
    "The data is structured originally as a bunch of different fields gathered into a list which was then converted into a text file, then a json, and finally all combined into one Data Frame. There were a lot of different variables used in order to combine all of the different information into one list, then into one Data Frame. All of the names, usernames, etc where gathered from the original data collected, then combined into their own separate lists then appended to each-other."
   ]
  },
  {
   "cell_type": "markdown",
   "id": "efb452fb",
   "metadata": {},
   "source": [
    "## 10)"
   ]
  },
  {
   "cell_type": "code",
   "execution_count": 851,
   "id": "bcdbaea2",
   "metadata": {},
   "outputs": [
    {
     "data": {
      "text/html": [
       "<div>\n",
       "<style scoped>\n",
       "    .dataframe tbody tr th:only-of-type {\n",
       "        vertical-align: middle;\n",
       "    }\n",
       "\n",
       "    .dataframe tbody tr th {\n",
       "        vertical-align: top;\n",
       "    }\n",
       "\n",
       "    .dataframe thead th {\n",
       "        text-align: right;\n",
       "    }\n",
       "</style>\n",
       "<table border=\"1\" class=\"dataframe\">\n",
       "  <thead>\n",
       "    <tr style=\"text-align: right;\">\n",
       "      <th></th>\n",
       "      <th>attachments</th>\n",
       "      <th>id</th>\n",
       "      <th>created_at</th>\n",
       "      <th>public_metrics</th>\n",
       "      <th>author_id</th>\n",
       "      <th>lang</th>\n",
       "      <th>text</th>\n",
       "      <th>usernames</th>\n",
       "      <th>author_name</th>\n",
       "    </tr>\n",
       "  </thead>\n",
       "  <tbody>\n",
       "    <tr>\n",
       "      <th>0</th>\n",
       "      <td>{'media_keys': ['3_1450904467772116994']}</td>\n",
       "      <td>1450904471060377603</td>\n",
       "      <td>2021-10-20T19:19:17.000Z</td>\n",
       "      <td>{'retweet_count': 0, 'reply_count': 0, 'like_c...</td>\n",
       "      <td>1272842782579683329</td>\n",
       "      <td>en</td>\n",
       "      <td>What about this 👀\\n[Thor's new eye - THE 🎃 eye...</td>\n",
       "      <td>knight99_death</td>\n",
       "      <td>ĎeaţhKníght99</td>\n",
       "    </tr>\n",
       "    <tr>\n",
       "      <th>1</th>\n",
       "      <td>{'media_keys': ['3_1450797403469144067']}</td>\n",
       "      <td>1450904429461393411</td>\n",
       "      <td>2021-10-20T19:19:07.000Z</td>\n",
       "      <td>{'retweet_count': 5, 'reply_count': 0, 'like_c...</td>\n",
       "      <td>1077740308195094528</td>\n",
       "      <td>en</td>\n",
       "      <td>RT @SpideysUpdates: Tom Hardy posted this one ...</td>\n",
       "      <td>VictorI81103328</td>\n",
       "      <td>Victor Ibarra</td>\n",
       "    </tr>\n",
       "    <tr>\n",
       "      <th>2</th>\n",
       "      <td>{'media_keys': ['16_1450904354035167235']}</td>\n",
       "      <td>1450904363631714304</td>\n",
       "      <td>2021-10-20T19:18:51.000Z</td>\n",
       "      <td>{'retweet_count': 0, 'reply_count': 0, 'like_c...</td>\n",
       "      <td>1261562219294339072</td>\n",
       "      <td>en</td>\n",
       "      <td>25th ! \\n#antim trailer\\n#SpiderManNoWayHome t...</td>\n",
       "      <td>JabyFrost</td>\n",
       "      <td>Frost jaby #NoWayHome</td>\n",
       "    </tr>\n",
       "    <tr>\n",
       "      <th>3</th>\n",
       "      <td>NaN</td>\n",
       "      <td>1450904336687452162</td>\n",
       "      <td>2021-10-20T19:18:45.000Z</td>\n",
       "      <td>{'retweet_count': 63, 'reply_count': 0, 'like_...</td>\n",
       "      <td>946794036098150401</td>\n",
       "      <td>en</td>\n",
       "      <td>RT @TaranstingVFX: \"You look vaguely familiar!...</td>\n",
       "      <td>cjhofmann06</td>\n",
       "      <td>Caleb Hoffmann</td>\n",
       "    </tr>\n",
       "    <tr>\n",
       "      <th>4</th>\n",
       "      <td>NaN</td>\n",
       "      <td>1450904332749078528</td>\n",
       "      <td>2021-10-20T19:18:44.000Z</td>\n",
       "      <td>{'retweet_count': 33, 'reply_count': 0, 'like_...</td>\n",
       "      <td>1449691839909400577</td>\n",
       "      <td>en</td>\n",
       "      <td>RT @Spider_Leaks: i really hope the 2nd #Spide...</td>\n",
       "      <td>ConnorHawks12</td>\n",
       "      <td>Connor Mitchell 🧛🏻‍♂️👻🎃</td>\n",
       "    </tr>\n",
       "    <tr>\n",
       "      <th>5</th>\n",
       "      <td>{'media_keys': ['3_1450774962403528705', '3_14...</td>\n",
       "      <td>1450904254361874432</td>\n",
       "      <td>2021-10-20T19:18:25.000Z</td>\n",
       "      <td>{'retweet_count': 392, 'reply_count': 0, 'like...</td>\n",
       "      <td>907776175661096960</td>\n",
       "      <td>en</td>\n",
       "      <td>RT @SonyPicturesUK: Check out these new images...</td>\n",
       "      <td>troyekey</td>\n",
       "      <td>ANGEL BABY o̴̶̷᷄ ·̭ o̴̶̷̥᷅</td>\n",
       "    </tr>\n",
       "    <tr>\n",
       "      <th>6</th>\n",
       "      <td>NaN</td>\n",
       "      <td>1450904190486814728</td>\n",
       "      <td>2021-10-20T19:18:10.000Z</td>\n",
       "      <td>{'retweet_count': 15, 'reply_count': 0, 'like_...</td>\n",
       "      <td>1077740308195094528</td>\n",
       "      <td>en</td>\n",
       "      <td>RT @spidertheorist: I mean, of course they had...</td>\n",
       "      <td>PinstripedDiva</td>\n",
       "      <td>Carla 💋 ︽✵︽ ‎ Hockey SZN 🏒</td>\n",
       "    </tr>\n",
       "    <tr>\n",
       "      <th>7</th>\n",
       "      <td>NaN</td>\n",
       "      <td>1450904155237851150</td>\n",
       "      <td>2021-10-20T19:18:01.000Z</td>\n",
       "      <td>{'retweet_count': 0, 'reply_count': 0, 'like_c...</td>\n",
       "      <td>1259480654556717058</td>\n",
       "      <td>en</td>\n",
       "      <td>Are you ready for Spider-man: No Way Home. Doc...</td>\n",
       "      <td>iqrasaied</td>\n",
       "      <td>iq</td>\n",
       "    </tr>\n",
       "    <tr>\n",
       "      <th>8</th>\n",
       "      <td>{'media_keys': ['3_1450902643686051840']}</td>\n",
       "      <td>1450903805990637571</td>\n",
       "      <td>2021-10-20T19:16:38.000Z</td>\n",
       "      <td>{'retweet_count': 5, 'reply_count': 0, 'like_c...</td>\n",
       "      <td>1272573707349749763</td>\n",
       "      <td>en</td>\n",
       "      <td>RT @SPIDERMAN6165: Should we bow? 👀\\n\\n#Spider...</td>\n",
       "      <td>yoitzzmatt</td>\n",
       "      <td>Matt</td>\n",
       "    </tr>\n",
       "    <tr>\n",
       "      <th>9</th>\n",
       "      <td>{'media_keys': ['3_1450902643686051840']}</td>\n",
       "      <td>1450903773908385792</td>\n",
       "      <td>2021-10-20T19:16:30.000Z</td>\n",
       "      <td>{'retweet_count': 5, 'reply_count': 0, 'like_c...</td>\n",
       "      <td>1395983465674248197</td>\n",
       "      <td>en</td>\n",
       "      <td>RT @SPIDERMAN6165: Should we bow? 👀\\n\\n#Spider...</td>\n",
       "      <td>AbandonedLizard</td>\n",
       "      <td>Lonely Abandoned Beagle</td>\n",
       "    </tr>\n",
       "  </tbody>\n",
       "</table>\n",
       "</div>"
      ],
      "text/plain": [
       "                                         attachments                   id  \\\n",
       "0          {'media_keys': ['3_1450904467772116994']}  1450904471060377603   \n",
       "1          {'media_keys': ['3_1450797403469144067']}  1450904429461393411   \n",
       "2         {'media_keys': ['16_1450904354035167235']}  1450904363631714304   \n",
       "3                                                NaN  1450904336687452162   \n",
       "4                                                NaN  1450904332749078528   \n",
       "5  {'media_keys': ['3_1450774962403528705', '3_14...  1450904254361874432   \n",
       "6                                                NaN  1450904190486814728   \n",
       "7                                                NaN  1450904155237851150   \n",
       "8          {'media_keys': ['3_1450902643686051840']}  1450903805990637571   \n",
       "9          {'media_keys': ['3_1450902643686051840']}  1450903773908385792   \n",
       "\n",
       "                 created_at  \\\n",
       "0  2021-10-20T19:19:17.000Z   \n",
       "1  2021-10-20T19:19:07.000Z   \n",
       "2  2021-10-20T19:18:51.000Z   \n",
       "3  2021-10-20T19:18:45.000Z   \n",
       "4  2021-10-20T19:18:44.000Z   \n",
       "5  2021-10-20T19:18:25.000Z   \n",
       "6  2021-10-20T19:18:10.000Z   \n",
       "7  2021-10-20T19:18:01.000Z   \n",
       "8  2021-10-20T19:16:38.000Z   \n",
       "9  2021-10-20T19:16:30.000Z   \n",
       "\n",
       "                                      public_metrics            author_id  \\\n",
       "0  {'retweet_count': 0, 'reply_count': 0, 'like_c...  1272842782579683329   \n",
       "1  {'retweet_count': 5, 'reply_count': 0, 'like_c...  1077740308195094528   \n",
       "2  {'retweet_count': 0, 'reply_count': 0, 'like_c...  1261562219294339072   \n",
       "3  {'retweet_count': 63, 'reply_count': 0, 'like_...   946794036098150401   \n",
       "4  {'retweet_count': 33, 'reply_count': 0, 'like_...  1449691839909400577   \n",
       "5  {'retweet_count': 392, 'reply_count': 0, 'like...   907776175661096960   \n",
       "6  {'retweet_count': 15, 'reply_count': 0, 'like_...  1077740308195094528   \n",
       "7  {'retweet_count': 0, 'reply_count': 0, 'like_c...  1259480654556717058   \n",
       "8  {'retweet_count': 5, 'reply_count': 0, 'like_c...  1272573707349749763   \n",
       "9  {'retweet_count': 5, 'reply_count': 0, 'like_c...  1395983465674248197   \n",
       "\n",
       "  lang                                               text        usernames  \\\n",
       "0   en  What about this 👀\\n[Thor's new eye - THE 🎃 eye...   knight99_death   \n",
       "1   en  RT @SpideysUpdates: Tom Hardy posted this one ...  VictorI81103328   \n",
       "2   en  25th ! \\n#antim trailer\\n#SpiderManNoWayHome t...        JabyFrost   \n",
       "3   en  RT @TaranstingVFX: \"You look vaguely familiar!...      cjhofmann06   \n",
       "4   en  RT @Spider_Leaks: i really hope the 2nd #Spide...    ConnorHawks12   \n",
       "5   en  RT @SonyPicturesUK: Check out these new images...         troyekey   \n",
       "6   en  RT @spidertheorist: I mean, of course they had...   PinstripedDiva   \n",
       "7   en  Are you ready for Spider-man: No Way Home. Doc...        iqrasaied   \n",
       "8   en  RT @SPIDERMAN6165: Should we bow? 👀\\n\\n#Spider...       yoitzzmatt   \n",
       "9   en  RT @SPIDERMAN6165: Should we bow? 👀\\n\\n#Spider...  AbandonedLizard   \n",
       "\n",
       "                  author_name  \n",
       "0               ĎeaţhKníght99  \n",
       "1               Victor Ibarra  \n",
       "2       Frost jaby #NoWayHome  \n",
       "3              Caleb Hoffmann  \n",
       "4     Connor Mitchell 🧛🏻‍♂️👻🎃  \n",
       "5  ANGEL BABY o̴̶̷᷄ ·̭ o̴̶̷̥᷅  \n",
       "6  Carla 💋 ︽✵︽ ‎ Hockey SZN 🏒  \n",
       "7                          iq  \n",
       "8                        Matt  \n",
       "9     Lonely Abandoned Beagle  "
      ]
     },
     "execution_count": 851,
     "metadata": {},
     "output_type": "execute_result"
    }
   ],
   "source": [
    "dataframe.head(10)"
   ]
  },
  {
   "cell_type": "markdown",
   "id": "109bca8b",
   "metadata": {},
   "source": [
    "## 11)\n",
    "\n",
    "The quality of data collected for this query is pretty good I think since the query was about peoples' thoughts and theories as long as the data was about the topic it should be pretty reliable. However, some limitations where that it was a really broad query since the more specific ones didn't have enough results. So, the not all the tweets were about theories, so some of the data wouldn't be reliable for the questions asked."
   ]
  },
  {
   "cell_type": "markdown",
   "id": "8f64a037",
   "metadata": {},
   "source": [
    "## 12)\n",
    "\n",
    "For alternative approaches I would have wanted to make a better way to combine all the lists instead of typing out the x for x in for each different one, I possibly could of made a loop or a function to do it for me. However, since it was only four its not a lot of extra work. I would also like to make the code cleaner looking next time since it was confusing navigating around it. For next steps I would like to make the query a little bit more specific and look at theories that are popular too not just any of them."
   ]
  }
 ],
 "metadata": {
  "kernelspec": {
   "display_name": "Python 3 (ipykernel)",
   "language": "python",
   "name": "python3"
  },
  "language_info": {
   "codemirror_mode": {
    "name": "ipython",
    "version": 3
   },
   "file_extension": ".py",
   "mimetype": "text/x-python",
   "name": "python",
   "nbconvert_exporter": "python",
   "pygments_lexer": "ipython3",
   "version": "3.9.6"
  }
 },
 "nbformat": 4,
 "nbformat_minor": 5
}
