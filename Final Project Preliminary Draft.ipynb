{
 "cells": [
  {
   "cell_type": "markdown",
   "id": "f704a97e",
   "metadata": {},
   "source": [
    "# Rust Permanent Shop Effect on Steam Market Items\n",
    "## Jake Berman"
   ]
  },
  {
   "cell_type": "markdown",
   "id": "a810f8f3",
   "metadata": {},
   "source": [
    "A new \"permanent shop\" on the steam game \"Rust\" was released in the middle of November and I was told the prices of my items would drop. So, this project is made to see how the release of the new shop would affect the prices of some of my items."
   ]
  },
  {
   "cell_type": "markdown",
   "id": "7673529c",
   "metadata": {},
   "source": [
    "All of the data in this project is pulled directly from the steam marketplace where you can see the prices of items sold by people within the last 15 days."
   ]
  },
  {
   "cell_type": "code",
   "execution_count": null,
   "id": "bd8e1a7a",
   "metadata": {},
   "outputs": [],
   "source": [
    "import pandas as pd\n",
    "import requests\n",
    "import base64\n",
    "import json\n",
    "from matplotlib import pyplot as plt\n",
    "import numpy as np\n",
    "from numpy import ndarray as nd"
   ]
  },
  {
   "cell_type": "code",
   "execution_count": null,
   "id": "e6e0a023",
   "metadata": {},
   "outputs": [],
   "source": [
    "ls"
   ]
  },
  {
   "cell_type": "code",
   "execution_count": null,
   "id": "747401ae",
   "metadata": {},
   "outputs": [],
   "source": [
    "item_list = pd.read_csv(\"/Users/jake/Documents/item_list.txt\", sep = '\\t', header = 0)"
   ]
  },
  {
   "cell_type": "code",
   "execution_count": null,
   "id": "a81c3ea7",
   "metadata": {},
   "outputs": [],
   "source": [
    "item_list"
   ]
  },
  {
   "cell_type": "code",
   "execution_count": null,
   "id": "34c4945b",
   "metadata": {},
   "outputs": [],
   "source": [
    "item = [x for x in item_list['Item List']]"
   ]
  },
  {
   "cell_type": "code",
   "execution_count": 392,
   "id": "7a5ad3dc",
   "metadata": {},
   "outputs": [
    {
     "data": {
      "text/plain": [
       "['Alien Red',\n",
       " 'Big Grin',\n",
       " 'Blackout Helmet',\n",
       " 'Blackout Hoodie',\n",
       " 'Blackout Jacket',\n",
       " 'Blackout Kilt',\n",
       " 'Blackout Vest',\n",
       " 'Ghostly Flame',\n",
       " 'Glory AK47',\n",
       " 'Glory Rifle',\n",
       " 'No Mercy Facemask',\n",
       " 'No Mercy Jacket',\n",
       " 'Plate Carrier - Black',\n",
       " 'Rat Mask',\n",
       " 'Sunrise Door',\n",
       " 'Tempered Mask',\n",
       " 'Training Pants']"
      ]
     },
     "execution_count": 392,
     "metadata": {},
     "output_type": "execute_result"
    }
   ],
   "source": [
    "item"
   ]
  },
  {
   "cell_type": "code",
   "execution_count": null,
   "id": "b68de0e9",
   "metadata": {},
   "outputs": [],
   "source": []
  },
  {
   "cell_type": "code",
   "execution_count": null,
   "id": "9b39d0c8",
   "metadata": {},
   "outputs": [],
   "source": [
    "appid = 252490"
   ]
  },
  {
   "cell_type": "code",
   "execution_count": null,
   "id": "b8c5fa33",
   "metadata": {},
   "outputs": [],
   "source": [
    "personal_key = pd.read_csv(\"/Users/jake/Documents/Steam API Key.txt\", sep = '\\t', header = 0)"
   ]
  },
  {
   "cell_type": "code",
   "execution_count": null,
   "id": "c5454b75",
   "metadata": {},
   "outputs": [],
   "source": [
    "secret_key = pd.read_csv(\"/Users/jake/Documents/SteamApi.txt\", sep = '\\t', header = 0)"
   ]
  },
  {
   "cell_type": "code",
   "execution_count": null,
   "id": "e27af073",
   "metadata": {},
   "outputs": [],
   "source": [
    "secret = secret_key[\"Steam API\"].iloc[0]"
   ]
  },
  {
   "cell_type": "code",
   "execution_count": null,
   "id": "f7d45b55",
   "metadata": {},
   "outputs": [],
   "source": [
    "bearer = personal_key[\"Personal Key\"].iloc[0]"
   ]
  },
  {
   "cell_type": "code",
   "execution_count": null,
   "id": "1b824495",
   "metadata": {},
   "outputs": [],
   "source": [
    "header = {'Authorization' : 'Bearer {}'.format(bearer)}"
   ]
  },
  {
   "cell_type": "code",
   "execution_count": null,
   "id": "810c36c7",
   "metadata": {},
   "outputs": [],
   "source": [
    "header2 = {'Authorization' : 'Bearer {}'.format(secret)}"
   ]
  },
  {
   "cell_type": "code",
   "execution_count": null,
   "id": "6106da2d",
   "metadata": {},
   "outputs": [],
   "source": [
    "url = \"https://api.steamapis.com\""
   ]
  },
  {
   "cell_type": "code",
   "execution_count": null,
   "id": "c9e7bf35",
   "metadata": {
    "scrolled": false
   },
   "outputs": [],
   "source": [
    "response = requests.request(\"GET\", url, headers = header)"
   ]
  },
  {
   "cell_type": "code",
   "execution_count": null,
   "id": "e6a3c946",
   "metadata": {},
   "outputs": [],
   "source": [
    "response"
   ]
  },
  {
   "cell_type": "code",
   "execution_count": null,
   "id": "906174d9",
   "metadata": {},
   "outputs": [],
   "source": [
    "def nextEndpoint():\n",
    "    i = 0\n",
    "    responsejson = ''\n",
    "    df = pd.DataFrame()\n",
    "    while i < len(item):\n",
    "        response_item = endpoint_url = \"https://api.steamapis.com/market/item/252490/{}?api_key=K20S8glp6_W4W6b0WQJ0dCveOi4\".format(item[i])\n",
    "        response_item = requests.request(\"GET\", response_item, headers = header2)\n",
    "        responsejson = json.loads(response_item.text)\n",
    "        prices = ([x for x in responsejson['median_avg_prices_15days']])\n",
    "        df[responsejson['market_name']] = prices\n",
    "\n",
    "        i += 1\n",
    "    return df"
   ]
  },
  {
   "cell_type": "code",
   "execution_count": null,
   "id": "0f23665c",
   "metadata": {
    "scrolled": true
   },
   "outputs": [],
   "source": [
    "my_df = nextEndpoint()"
   ]
  },
  {
   "cell_type": "code",
   "execution_count": null,
   "id": "1dab7551",
   "metadata": {},
   "outputs": [],
   "source": [
    "my_df"
   ]
  },
  {
   "cell_type": "code",
   "execution_count": 349,
   "id": "ea6952f8",
   "metadata": {},
   "outputs": [],
   "source": [
    "new_df = pd.DataFrame()"
   ]
  },
  {
   "cell_type": "code",
   "execution_count": 350,
   "id": "190f3f19",
   "metadata": {},
   "outputs": [],
   "source": [
    "new_df['date_Alien'] = [x[0] for x in my_df['Alien Red']]"
   ]
  },
  {
   "cell_type": "code",
   "execution_count": 353,
   "id": "81e64ccb",
   "metadata": {},
   "outputs": [],
   "source": [
    "new_df['price_Alien'] = [x[1] for x in my_df['Alien Red']]"
   ]
  },
  {
   "cell_type": "code",
   "execution_count": 354,
   "id": "ad3fd37e",
   "metadata": {},
   "outputs": [],
   "source": [
    "new_df['date_BigGrin'] = [x[0] for x in my_df['Big Grin']]"
   ]
  },
  {
   "cell_type": "code",
   "execution_count": 355,
   "id": "b1d9d345",
   "metadata": {},
   "outputs": [],
   "source": [
    "new_df['price_BigGrin'] = [x[1] for x in my_df['Big Grin']]"
   ]
  },
  {
   "cell_type": "code",
   "execution_count": 356,
   "id": "260638ad",
   "metadata": {},
   "outputs": [],
   "source": [
    "new_df['date_BlackoutHelmet'] = [x[0] for x in my_df['Blackout Helmet']]"
   ]
  },
  {
   "cell_type": "code",
   "execution_count": 357,
   "id": "76ebf840",
   "metadata": {},
   "outputs": [],
   "source": [
    "new_df['price_BlackoutHelmet'] = [x[1] for x in my_df['Blackout Helmet']]"
   ]
  },
  {
   "cell_type": "code",
   "execution_count": 358,
   "id": "15b89581",
   "metadata": {},
   "outputs": [],
   "source": [
    "new_df['date_BlackoutHoodie'] = [x[0] for x in my_df['Blackout Hoodie']]"
   ]
  },
  {
   "cell_type": "code",
   "execution_count": 359,
   "id": "b588e856",
   "metadata": {},
   "outputs": [],
   "source": [
    "new_df['price_BlackoutHoodie'] = [x[1] for x in my_df['Blackout Hoodie']]"
   ]
  },
  {
   "cell_type": "code",
   "execution_count": 360,
   "id": "a9b9cd6a",
   "metadata": {},
   "outputs": [],
   "source": [
    "new_df['date_BlackoutJacket'] = [x[0] for x in my_df['Blackout Jacket']]"
   ]
  },
  {
   "cell_type": "code",
   "execution_count": 361,
   "id": "acb5e8ed",
   "metadata": {},
   "outputs": [],
   "source": [
    "new_df['price_BlackoutJacket'] = [x[1] for x in my_df['Blackout Jacket']]"
   ]
  },
  {
   "cell_type": "code",
   "execution_count": 362,
   "id": "79d4c2e0",
   "metadata": {},
   "outputs": [],
   "source": [
    "new_df['date_BlackoutKilt'] = [x[0] for x in my_df['Blackout Kilt']]"
   ]
  },
  {
   "cell_type": "code",
   "execution_count": 363,
   "id": "86da7773",
   "metadata": {},
   "outputs": [],
   "source": [
    "new_df['price_BlackoutKilt'] = [x[1] for x in my_df['Blackout Kilt']]"
   ]
  },
  {
   "cell_type": "code",
   "execution_count": 364,
   "id": "a200a5f8",
   "metadata": {},
   "outputs": [],
   "source": [
    "new_df['date_BlackoutVest'] = [x[0] for x in my_df['Blackout Vest']]"
   ]
  },
  {
   "cell_type": "code",
   "execution_count": 365,
   "id": "57805134",
   "metadata": {},
   "outputs": [],
   "source": [
    "new_df['price_BlackoutVest'] = [x[1] for x in my_df['Blackout Vest']]"
   ]
  },
  {
   "cell_type": "code",
   "execution_count": 366,
   "id": "f5f1ccd9",
   "metadata": {},
   "outputs": [],
   "source": [
    "new_df['date_GhostlyFlame'] = [x[0] for x in my_df['Ghostly Flame']]"
   ]
  },
  {
   "cell_type": "code",
   "execution_count": 367,
   "id": "84559b67",
   "metadata": {},
   "outputs": [],
   "source": [
    "new_df['price_GhostlyFlame'] = [x[1] for x in my_df['Ghostly Flame']]"
   ]
  },
  {
   "cell_type": "code",
   "execution_count": 368,
   "id": "f00f9b88",
   "metadata": {},
   "outputs": [],
   "source": [
    "new_df['date_GloryAK'] = [x[0] for x in my_df['Glory AK47']]"
   ]
  },
  {
   "cell_type": "code",
   "execution_count": 369,
   "id": "a1e7f7ec",
   "metadata": {},
   "outputs": [],
   "source": [
    "new_df['price_GloryAK'] = [x[1] for x in my_df['Glory AK47']]"
   ]
  },
  {
   "cell_type": "code",
   "execution_count": 370,
   "id": "9d589750",
   "metadata": {},
   "outputs": [],
   "source": [
    "new_df['date_GloryRifle'] = [x[0] for x in my_df['Glory Rifle']]"
   ]
  },
  {
   "cell_type": "code",
   "execution_count": 371,
   "id": "887e6e1f",
   "metadata": {},
   "outputs": [],
   "source": [
    "new_df['price_GloryRifle'] = [x[1] for x in my_df['Glory Rifle']]"
   ]
  },
  {
   "cell_type": "code",
   "execution_count": 372,
   "id": "7027dc17",
   "metadata": {},
   "outputs": [],
   "source": [
    "new_df['date_NoMercyFaceMask'] = [x[0] for x in my_df['No Mercy Facemask']]"
   ]
  },
  {
   "cell_type": "code",
   "execution_count": 373,
   "id": "aa5850a1",
   "metadata": {},
   "outputs": [],
   "source": [
    "new_df['price_NoMercyFaceMask'] = [x[1] for x in my_df['No Mercy Facemask']]"
   ]
  },
  {
   "cell_type": "code",
   "execution_count": 374,
   "id": "cc4c702f",
   "metadata": {},
   "outputs": [],
   "source": [
    "new_df['date_NoMercyJacket'] = [x[0] for x in my_df['No Mercy Jacket']]"
   ]
  },
  {
   "cell_type": "code",
   "execution_count": 375,
   "id": "682103c3",
   "metadata": {},
   "outputs": [],
   "source": [
    "new_df['price_NoMercyJacket'] = [x[1] for x in my_df['No Mercy Jacket']]"
   ]
  },
  {
   "cell_type": "code",
   "execution_count": 376,
   "id": "3bdd7cbd",
   "metadata": {},
   "outputs": [],
   "source": [
    "new_df['date_PlateCarrier'] = [x[0] for x in my_df['Plate Carrier - Black']]"
   ]
  },
  {
   "cell_type": "code",
   "execution_count": 377,
   "id": "f3519686",
   "metadata": {},
   "outputs": [],
   "source": [
    "new_df['price_PlateCarrier'] = [x[1] for x in my_df['Plate Carrier - Black']]"
   ]
  },
  {
   "cell_type": "code",
   "execution_count": 378,
   "id": "b99fc749",
   "metadata": {},
   "outputs": [],
   "source": [
    "new_df['date_RatMask'] = [x[0] for x in my_df['Rat Mask']]"
   ]
  },
  {
   "cell_type": "code",
   "execution_count": 379,
   "id": "37b6acff",
   "metadata": {},
   "outputs": [],
   "source": [
    "new_df['price_RatMask'] = [x[1] for x in my_df['Rat Mask']]"
   ]
  },
  {
   "cell_type": "code",
   "execution_count": 380,
   "id": "4ffc4892",
   "metadata": {},
   "outputs": [],
   "source": [
    "new_df['date_SunriseDoor'] = [x[0] for x in my_df['Sunrise Door']]"
   ]
  },
  {
   "cell_type": "code",
   "execution_count": 381,
   "id": "1bd70579",
   "metadata": {},
   "outputs": [],
   "source": [
    "new_df['price_SunriseDoor'] = [x[1] for x in my_df['Sunrise Door']]"
   ]
  },
  {
   "cell_type": "code",
   "execution_count": 382,
   "id": "b689a402",
   "metadata": {},
   "outputs": [],
   "source": [
    "new_df['date_TemperedMask'] = [x[0] for x in my_df['Tempered Mask']]"
   ]
  },
  {
   "cell_type": "code",
   "execution_count": 383,
   "id": "9eb0acf6",
   "metadata": {},
   "outputs": [],
   "source": [
    "new_df['price_TemperedMask'] = [x[1] for x in my_df['Tempered Mask']]"
   ]
  },
  {
   "cell_type": "code",
   "execution_count": 384,
   "id": "fac03446",
   "metadata": {},
   "outputs": [],
   "source": [
    "new_df['date_TrainingPants'] = [x[0] for x in my_df['Training Pants']]"
   ]
  },
  {
   "cell_type": "code",
   "execution_count": 385,
   "id": "18cf9b2a",
   "metadata": {},
   "outputs": [],
   "source": [
    "new_df['price_TrainingPants'] = [x[1] for x in my_df['Training Pants']]"
   ]
  },
  {
   "cell_type": "code",
   "execution_count": 386,
   "id": "83078b16",
   "metadata": {},
   "outputs": [
    {
     "data": {
      "text/html": [
       "<div>\n",
       "<style scoped>\n",
       "    .dataframe tbody tr th:only-of-type {\n",
       "        vertical-align: middle;\n",
       "    }\n",
       "\n",
       "    .dataframe tbody tr th {\n",
       "        vertical-align: top;\n",
       "    }\n",
       "\n",
       "    .dataframe thead th {\n",
       "        text-align: right;\n",
       "    }\n",
       "</style>\n",
       "<table border=\"1\" class=\"dataframe\">\n",
       "  <thead>\n",
       "    <tr style=\"text-align: right;\">\n",
       "      <th></th>\n",
       "      <th>date_Alien</th>\n",
       "      <th>price_Alien</th>\n",
       "      <th>date_BigGrin</th>\n",
       "      <th>price_BigGrin</th>\n",
       "      <th>date_BlackoutHelmet</th>\n",
       "      <th>price_BlackoutHelmet</th>\n",
       "      <th>date_BlackoutHoodie</th>\n",
       "      <th>price_BlackoutHoodie</th>\n",
       "      <th>date_BlackoutJacket</th>\n",
       "      <th>price_BlackoutJacket</th>\n",
       "      <th>...</th>\n",
       "      <th>date_PlateCarrier</th>\n",
       "      <th>price_PlateCarrier</th>\n",
       "      <th>date_RatMask</th>\n",
       "      <th>price_RatMask</th>\n",
       "      <th>date_SunriseDoor</th>\n",
       "      <th>price_SunriseDoor</th>\n",
       "      <th>date_TemperedMask</th>\n",
       "      <th>price_TemperedMask</th>\n",
       "      <th>date_TrainingPants</th>\n",
       "      <th>price_TrainingPants</th>\n",
       "    </tr>\n",
       "  </thead>\n",
       "  <tbody>\n",
       "    <tr>\n",
       "      <th>0</th>\n",
       "      <td>Nov 25 2021</td>\n",
       "      <td>148.560300</td>\n",
       "      <td>Nov 22 2021</td>\n",
       "      <td>634.633000</td>\n",
       "      <td>Nov 25 2021</td>\n",
       "      <td>7.951429</td>\n",
       "      <td>Nov 25 2021</td>\n",
       "      <td>13.724550</td>\n",
       "      <td>Nov 25 2021</td>\n",
       "      <td>8.120545</td>\n",
       "      <td>...</td>\n",
       "      <td>Nov 24 2021</td>\n",
       "      <td>121.724333</td>\n",
       "      <td>Nov 24 2021</td>\n",
       "      <td>7.765500</td>\n",
       "      <td>Nov 25 2021</td>\n",
       "      <td>1.088000</td>\n",
       "      <td>Nov 23 2021</td>\n",
       "      <td>201.245500</td>\n",
       "      <td>Nov 25 2021</td>\n",
       "      <td>11.528750</td>\n",
       "    </tr>\n",
       "    <tr>\n",
       "      <th>1</th>\n",
       "      <td>Nov 26 2021</td>\n",
       "      <td>144.276273</td>\n",
       "      <td>Nov 23 2021</td>\n",
       "      <td>625.006000</td>\n",
       "      <td>Nov 26 2021</td>\n",
       "      <td>8.517824</td>\n",
       "      <td>Nov 26 2021</td>\n",
       "      <td>13.710619</td>\n",
       "      <td>Nov 26 2021</td>\n",
       "      <td>8.662300</td>\n",
       "      <td>...</td>\n",
       "      <td>Nov 25 2021</td>\n",
       "      <td>123.355833</td>\n",
       "      <td>Nov 25 2021</td>\n",
       "      <td>7.789125</td>\n",
       "      <td>Nov 26 2021</td>\n",
       "      <td>1.019556</td>\n",
       "      <td>Nov 24 2021</td>\n",
       "      <td>224.850500</td>\n",
       "      <td>Nov 26 2021</td>\n",
       "      <td>12.633091</td>\n",
       "    </tr>\n",
       "    <tr>\n",
       "      <th>2</th>\n",
       "      <td>Nov 27 2021</td>\n",
       "      <td>143.215167</td>\n",
       "      <td>Nov 24 2021</td>\n",
       "      <td>626.080000</td>\n",
       "      <td>Nov 27 2021</td>\n",
       "      <td>8.606850</td>\n",
       "      <td>Nov 27 2021</td>\n",
       "      <td>13.334500</td>\n",
       "      <td>Nov 27 2021</td>\n",
       "      <td>8.978455</td>\n",
       "      <td>...</td>\n",
       "      <td>Nov 26 2021</td>\n",
       "      <td>121.254750</td>\n",
       "      <td>Nov 26 2021</td>\n",
       "      <td>7.282143</td>\n",
       "      <td>Nov 27 2021</td>\n",
       "      <td>1.050889</td>\n",
       "      <td>Nov 25 2021</td>\n",
       "      <td>213.620000</td>\n",
       "      <td>Nov 27 2021</td>\n",
       "      <td>10.264455</td>\n",
       "    </tr>\n",
       "    <tr>\n",
       "      <th>3</th>\n",
       "      <td>Nov 28 2021</td>\n",
       "      <td>142.995143</td>\n",
       "      <td>Nov 26 2021</td>\n",
       "      <td>650.014000</td>\n",
       "      <td>Nov 28 2021</td>\n",
       "      <td>8.175500</td>\n",
       "      <td>Nov 28 2021</td>\n",
       "      <td>13.531409</td>\n",
       "      <td>Nov 28 2021</td>\n",
       "      <td>8.512158</td>\n",
       "      <td>...</td>\n",
       "      <td>Nov 27 2021</td>\n",
       "      <td>120.222667</td>\n",
       "      <td>Nov 27 2021</td>\n",
       "      <td>7.622714</td>\n",
       "      <td>Nov 28 2021</td>\n",
       "      <td>0.930000</td>\n",
       "      <td>Nov 26 2021</td>\n",
       "      <td>202.967333</td>\n",
       "      <td>Nov 28 2021</td>\n",
       "      <td>12.019000</td>\n",
       "    </tr>\n",
       "    <tr>\n",
       "      <th>4</th>\n",
       "      <td>Nov 29 2021</td>\n",
       "      <td>148.915889</td>\n",
       "      <td>Nov 27 2021</td>\n",
       "      <td>588.020500</td>\n",
       "      <td>Nov 29 2021</td>\n",
       "      <td>8.530600</td>\n",
       "      <td>Nov 29 2021</td>\n",
       "      <td>14.064864</td>\n",
       "      <td>Nov 29 2021</td>\n",
       "      <td>8.899550</td>\n",
       "      <td>...</td>\n",
       "      <td>Nov 28 2021</td>\n",
       "      <td>109.994000</td>\n",
       "      <td>Nov 28 2021</td>\n",
       "      <td>7.583750</td>\n",
       "      <td>Nov 29 2021</td>\n",
       "      <td>1.040857</td>\n",
       "      <td>Nov 27 2021</td>\n",
       "      <td>204.790000</td>\n",
       "      <td>Nov 29 2021</td>\n",
       "      <td>12.543500</td>\n",
       "    </tr>\n",
       "    <tr>\n",
       "      <th>5</th>\n",
       "      <td>Nov 30 2021</td>\n",
       "      <td>150.078556</td>\n",
       "      <td>Nov 28 2021</td>\n",
       "      <td>587.620000</td>\n",
       "      <td>Nov 30 2021</td>\n",
       "      <td>8.438769</td>\n",
       "      <td>Nov 30 2021</td>\n",
       "      <td>13.541318</td>\n",
       "      <td>Nov 30 2021</td>\n",
       "      <td>8.935000</td>\n",
       "      <td>...</td>\n",
       "      <td>Nov 29 2021</td>\n",
       "      <td>131.118000</td>\n",
       "      <td>Nov 29 2021</td>\n",
       "      <td>8.098250</td>\n",
       "      <td>Nov 30 2021</td>\n",
       "      <td>0.987556</td>\n",
       "      <td>Nov 28 2021</td>\n",
       "      <td>244.090000</td>\n",
       "      <td>Nov 30 2021</td>\n",
       "      <td>12.634143</td>\n",
       "    </tr>\n",
       "    <tr>\n",
       "      <th>6</th>\n",
       "      <td>Dec 01 2021</td>\n",
       "      <td>148.119167</td>\n",
       "      <td>Nov 29 2021</td>\n",
       "      <td>569.104667</td>\n",
       "      <td>Dec 01 2021</td>\n",
       "      <td>8.589750</td>\n",
       "      <td>Dec 01 2021</td>\n",
       "      <td>13.045091</td>\n",
       "      <td>Dec 01 2021</td>\n",
       "      <td>8.755950</td>\n",
       "      <td>...</td>\n",
       "      <td>Nov 30 2021</td>\n",
       "      <td>129.535000</td>\n",
       "      <td>Nov 30 2021</td>\n",
       "      <td>8.487000</td>\n",
       "      <td>Dec 01 2021</td>\n",
       "      <td>0.996714</td>\n",
       "      <td>Nov 29 2021</td>\n",
       "      <td>244.120000</td>\n",
       "      <td>Dec 01 2021</td>\n",
       "      <td>12.158571</td>\n",
       "    </tr>\n",
       "    <tr>\n",
       "      <th>7</th>\n",
       "      <td>Dec 02 2021</td>\n",
       "      <td>156.120000</td>\n",
       "      <td>Nov 30 2021</td>\n",
       "      <td>675.360000</td>\n",
       "      <td>Dec 02 2021</td>\n",
       "      <td>8.386813</td>\n",
       "      <td>Dec 02 2021</td>\n",
       "      <td>13.626947</td>\n",
       "      <td>Dec 02 2021</td>\n",
       "      <td>9.033286</td>\n",
       "      <td>...</td>\n",
       "      <td>Dec 01 2021</td>\n",
       "      <td>115.333000</td>\n",
       "      <td>Dec 01 2021</td>\n",
       "      <td>7.536750</td>\n",
       "      <td>Dec 02 2021</td>\n",
       "      <td>0.985000</td>\n",
       "      <td>Nov 30 2021</td>\n",
       "      <td>242.800000</td>\n",
       "      <td>Dec 02 2021</td>\n",
       "      <td>13.489000</td>\n",
       "    </tr>\n",
       "    <tr>\n",
       "      <th>8</th>\n",
       "      <td>Dec 03 2021</td>\n",
       "      <td>154.889400</td>\n",
       "      <td>Dec 02 2021</td>\n",
       "      <td>639.874800</td>\n",
       "      <td>Dec 03 2021</td>\n",
       "      <td>9.221889</td>\n",
       "      <td>Dec 03 2021</td>\n",
       "      <td>13.955050</td>\n",
       "      <td>Dec 03 2021</td>\n",
       "      <td>9.065190</td>\n",
       "      <td>...</td>\n",
       "      <td>Dec 02 2021</td>\n",
       "      <td>134.703333</td>\n",
       "      <td>Dec 02 2021</td>\n",
       "      <td>8.975125</td>\n",
       "      <td>Dec 03 2021</td>\n",
       "      <td>1.007500</td>\n",
       "      <td>Dec 01 2021</td>\n",
       "      <td>215.910000</td>\n",
       "      <td>Dec 03 2021</td>\n",
       "      <td>13.102250</td>\n",
       "    </tr>\n",
       "    <tr>\n",
       "      <th>9</th>\n",
       "      <td>Dec 04 2021</td>\n",
       "      <td>148.505250</td>\n",
       "      <td>Dec 04 2021</td>\n",
       "      <td>659.000000</td>\n",
       "      <td>Dec 04 2021</td>\n",
       "      <td>9.126900</td>\n",
       "      <td>Dec 04 2021</td>\n",
       "      <td>13.302353</td>\n",
       "      <td>Dec 04 2021</td>\n",
       "      <td>9.698810</td>\n",
       "      <td>...</td>\n",
       "      <td>Dec 04 2021</td>\n",
       "      <td>139.096333</td>\n",
       "      <td>Dec 03 2021</td>\n",
       "      <td>9.123750</td>\n",
       "      <td>Dec 04 2021</td>\n",
       "      <td>1.091600</td>\n",
       "      <td>Dec 02 2021</td>\n",
       "      <td>214.386500</td>\n",
       "      <td>Dec 04 2021</td>\n",
       "      <td>12.378750</td>\n",
       "    </tr>\n",
       "    <tr>\n",
       "      <th>10</th>\n",
       "      <td>Dec 05 2021</td>\n",
       "      <td>155.173300</td>\n",
       "      <td>Dec 05 2021</td>\n",
       "      <td>662.490000</td>\n",
       "      <td>Dec 05 2021</td>\n",
       "      <td>9.505650</td>\n",
       "      <td>Dec 05 2021</td>\n",
       "      <td>14.216300</td>\n",
       "      <td>Dec 05 2021</td>\n",
       "      <td>9.803818</td>\n",
       "      <td>...</td>\n",
       "      <td>Dec 05 2021</td>\n",
       "      <td>125.801500</td>\n",
       "      <td>Dec 04 2021</td>\n",
       "      <td>8.293000</td>\n",
       "      <td>Dec 05 2021</td>\n",
       "      <td>1.140714</td>\n",
       "      <td>Dec 03 2021</td>\n",
       "      <td>219.920000</td>\n",
       "      <td>Dec 05 2021</td>\n",
       "      <td>13.027429</td>\n",
       "    </tr>\n",
       "    <tr>\n",
       "      <th>11</th>\n",
       "      <td>Dec 06 2021</td>\n",
       "      <td>158.892500</td>\n",
       "      <td>Dec 06 2021</td>\n",
       "      <td>604.753000</td>\n",
       "      <td>Dec 06 2021</td>\n",
       "      <td>9.292500</td>\n",
       "      <td>Dec 06 2021</td>\n",
       "      <td>14.793778</td>\n",
       "      <td>Dec 06 2021</td>\n",
       "      <td>10.254714</td>\n",
       "      <td>...</td>\n",
       "      <td>Dec 06 2021</td>\n",
       "      <td>131.344000</td>\n",
       "      <td>Dec 05 2021</td>\n",
       "      <td>8.696143</td>\n",
       "      <td>Dec 06 2021</td>\n",
       "      <td>0.969000</td>\n",
       "      <td>Dec 04 2021</td>\n",
       "      <td>247.510000</td>\n",
       "      <td>Dec 06 2021</td>\n",
       "      <td>11.394000</td>\n",
       "    </tr>\n",
       "    <tr>\n",
       "      <th>12</th>\n",
       "      <td>Dec 07 2021</td>\n",
       "      <td>153.106800</td>\n",
       "      <td>Dec 07 2021</td>\n",
       "      <td>661.247000</td>\n",
       "      <td>Dec 07 2021</td>\n",
       "      <td>9.217562</td>\n",
       "      <td>Dec 07 2021</td>\n",
       "      <td>14.364133</td>\n",
       "      <td>Dec 07 2021</td>\n",
       "      <td>9.680048</td>\n",
       "      <td>...</td>\n",
       "      <td>Dec 07 2021</td>\n",
       "      <td>124.173500</td>\n",
       "      <td>Dec 06 2021</td>\n",
       "      <td>8.188571</td>\n",
       "      <td>Dec 07 2021</td>\n",
       "      <td>1.008500</td>\n",
       "      <td>Dec 05 2021</td>\n",
       "      <td>249.980000</td>\n",
       "      <td>Dec 07 2021</td>\n",
       "      <td>12.175333</td>\n",
       "    </tr>\n",
       "    <tr>\n",
       "      <th>13</th>\n",
       "      <td>Dec 08 2021</td>\n",
       "      <td>157.871500</td>\n",
       "      <td>Dec 08 2021</td>\n",
       "      <td>673.819000</td>\n",
       "      <td>Dec 08 2021</td>\n",
       "      <td>9.138067</td>\n",
       "      <td>Dec 08 2021</td>\n",
       "      <td>13.425667</td>\n",
       "      <td>Dec 08 2021</td>\n",
       "      <td>10.017444</td>\n",
       "      <td>...</td>\n",
       "      <td>Dec 08 2021</td>\n",
       "      <td>139.715000</td>\n",
       "      <td>Dec 07 2021</td>\n",
       "      <td>8.036333</td>\n",
       "      <td>Dec 08 2021</td>\n",
       "      <td>1.063889</td>\n",
       "      <td>Dec 06 2021</td>\n",
       "      <td>254.856500</td>\n",
       "      <td>Dec 08 2021</td>\n",
       "      <td>12.156917</td>\n",
       "    </tr>\n",
       "    <tr>\n",
       "      <th>14</th>\n",
       "      <td>Dec 09 2021</td>\n",
       "      <td>162.955400</td>\n",
       "      <td>Dec 09 2021</td>\n",
       "      <td>676.920000</td>\n",
       "      <td>Dec 09 2021</td>\n",
       "      <td>9.458500</td>\n",
       "      <td>Dec 09 2021</td>\n",
       "      <td>12.985000</td>\n",
       "      <td>Dec 09 2021</td>\n",
       "      <td>9.182000</td>\n",
       "      <td>...</td>\n",
       "      <td>Dec 09 2021</td>\n",
       "      <td>138.579000</td>\n",
       "      <td>Dec 08 2021</td>\n",
       "      <td>8.327333</td>\n",
       "      <td>Dec 09 2021</td>\n",
       "      <td>1.090000</td>\n",
       "      <td>Dec 09 2021</td>\n",
       "      <td>234.600000</td>\n",
       "      <td>Dec 09 2021</td>\n",
       "      <td>13.550000</td>\n",
       "    </tr>\n",
       "  </tbody>\n",
       "</table>\n",
       "<p>15 rows × 34 columns</p>\n",
       "</div>"
      ],
      "text/plain": [
       "     date_Alien  price_Alien date_BigGrin  price_BigGrin date_BlackoutHelmet  \\\n",
       "0   Nov 25 2021   148.560300  Nov 22 2021     634.633000         Nov 25 2021   \n",
       "1   Nov 26 2021   144.276273  Nov 23 2021     625.006000         Nov 26 2021   \n",
       "2   Nov 27 2021   143.215167  Nov 24 2021     626.080000         Nov 27 2021   \n",
       "3   Nov 28 2021   142.995143  Nov 26 2021     650.014000         Nov 28 2021   \n",
       "4   Nov 29 2021   148.915889  Nov 27 2021     588.020500         Nov 29 2021   \n",
       "5   Nov 30 2021   150.078556  Nov 28 2021     587.620000         Nov 30 2021   \n",
       "6   Dec 01 2021   148.119167  Nov 29 2021     569.104667         Dec 01 2021   \n",
       "7   Dec 02 2021   156.120000  Nov 30 2021     675.360000         Dec 02 2021   \n",
       "8   Dec 03 2021   154.889400  Dec 02 2021     639.874800         Dec 03 2021   \n",
       "9   Dec 04 2021   148.505250  Dec 04 2021     659.000000         Dec 04 2021   \n",
       "10  Dec 05 2021   155.173300  Dec 05 2021     662.490000         Dec 05 2021   \n",
       "11  Dec 06 2021   158.892500  Dec 06 2021     604.753000         Dec 06 2021   \n",
       "12  Dec 07 2021   153.106800  Dec 07 2021     661.247000         Dec 07 2021   \n",
       "13  Dec 08 2021   157.871500  Dec 08 2021     673.819000         Dec 08 2021   \n",
       "14  Dec 09 2021   162.955400  Dec 09 2021     676.920000         Dec 09 2021   \n",
       "\n",
       "    price_BlackoutHelmet date_BlackoutHoodie  price_BlackoutHoodie  \\\n",
       "0               7.951429         Nov 25 2021             13.724550   \n",
       "1               8.517824         Nov 26 2021             13.710619   \n",
       "2               8.606850         Nov 27 2021             13.334500   \n",
       "3               8.175500         Nov 28 2021             13.531409   \n",
       "4               8.530600         Nov 29 2021             14.064864   \n",
       "5               8.438769         Nov 30 2021             13.541318   \n",
       "6               8.589750         Dec 01 2021             13.045091   \n",
       "7               8.386813         Dec 02 2021             13.626947   \n",
       "8               9.221889         Dec 03 2021             13.955050   \n",
       "9               9.126900         Dec 04 2021             13.302353   \n",
       "10              9.505650         Dec 05 2021             14.216300   \n",
       "11              9.292500         Dec 06 2021             14.793778   \n",
       "12              9.217562         Dec 07 2021             14.364133   \n",
       "13              9.138067         Dec 08 2021             13.425667   \n",
       "14              9.458500         Dec 09 2021             12.985000   \n",
       "\n",
       "   date_BlackoutJacket  price_BlackoutJacket  ... date_PlateCarrier  \\\n",
       "0          Nov 25 2021              8.120545  ...       Nov 24 2021   \n",
       "1          Nov 26 2021              8.662300  ...       Nov 25 2021   \n",
       "2          Nov 27 2021              8.978455  ...       Nov 26 2021   \n",
       "3          Nov 28 2021              8.512158  ...       Nov 27 2021   \n",
       "4          Nov 29 2021              8.899550  ...       Nov 28 2021   \n",
       "5          Nov 30 2021              8.935000  ...       Nov 29 2021   \n",
       "6          Dec 01 2021              8.755950  ...       Nov 30 2021   \n",
       "7          Dec 02 2021              9.033286  ...       Dec 01 2021   \n",
       "8          Dec 03 2021              9.065190  ...       Dec 02 2021   \n",
       "9          Dec 04 2021              9.698810  ...       Dec 04 2021   \n",
       "10         Dec 05 2021              9.803818  ...       Dec 05 2021   \n",
       "11         Dec 06 2021             10.254714  ...       Dec 06 2021   \n",
       "12         Dec 07 2021              9.680048  ...       Dec 07 2021   \n",
       "13         Dec 08 2021             10.017444  ...       Dec 08 2021   \n",
       "14         Dec 09 2021              9.182000  ...       Dec 09 2021   \n",
       "\n",
       "    price_PlateCarrier date_RatMask  price_RatMask date_SunriseDoor  \\\n",
       "0           121.724333  Nov 24 2021       7.765500      Nov 25 2021   \n",
       "1           123.355833  Nov 25 2021       7.789125      Nov 26 2021   \n",
       "2           121.254750  Nov 26 2021       7.282143      Nov 27 2021   \n",
       "3           120.222667  Nov 27 2021       7.622714      Nov 28 2021   \n",
       "4           109.994000  Nov 28 2021       7.583750      Nov 29 2021   \n",
       "5           131.118000  Nov 29 2021       8.098250      Nov 30 2021   \n",
       "6           129.535000  Nov 30 2021       8.487000      Dec 01 2021   \n",
       "7           115.333000  Dec 01 2021       7.536750      Dec 02 2021   \n",
       "8           134.703333  Dec 02 2021       8.975125      Dec 03 2021   \n",
       "9           139.096333  Dec 03 2021       9.123750      Dec 04 2021   \n",
       "10          125.801500  Dec 04 2021       8.293000      Dec 05 2021   \n",
       "11          131.344000  Dec 05 2021       8.696143      Dec 06 2021   \n",
       "12          124.173500  Dec 06 2021       8.188571      Dec 07 2021   \n",
       "13          139.715000  Dec 07 2021       8.036333      Dec 08 2021   \n",
       "14          138.579000  Dec 08 2021       8.327333      Dec 09 2021   \n",
       "\n",
       "    price_SunriseDoor date_TemperedMask  price_TemperedMask  \\\n",
       "0            1.088000       Nov 23 2021          201.245500   \n",
       "1            1.019556       Nov 24 2021          224.850500   \n",
       "2            1.050889       Nov 25 2021          213.620000   \n",
       "3            0.930000       Nov 26 2021          202.967333   \n",
       "4            1.040857       Nov 27 2021          204.790000   \n",
       "5            0.987556       Nov 28 2021          244.090000   \n",
       "6            0.996714       Nov 29 2021          244.120000   \n",
       "7            0.985000       Nov 30 2021          242.800000   \n",
       "8            1.007500       Dec 01 2021          215.910000   \n",
       "9            1.091600       Dec 02 2021          214.386500   \n",
       "10           1.140714       Dec 03 2021          219.920000   \n",
       "11           0.969000       Dec 04 2021          247.510000   \n",
       "12           1.008500       Dec 05 2021          249.980000   \n",
       "13           1.063889       Dec 06 2021          254.856500   \n",
       "14           1.090000       Dec 09 2021          234.600000   \n",
       "\n",
       "   date_TrainingPants  price_TrainingPants  \n",
       "0         Nov 25 2021            11.528750  \n",
       "1         Nov 26 2021            12.633091  \n",
       "2         Nov 27 2021            10.264455  \n",
       "3         Nov 28 2021            12.019000  \n",
       "4         Nov 29 2021            12.543500  \n",
       "5         Nov 30 2021            12.634143  \n",
       "6         Dec 01 2021            12.158571  \n",
       "7         Dec 02 2021            13.489000  \n",
       "8         Dec 03 2021            13.102250  \n",
       "9         Dec 04 2021            12.378750  \n",
       "10        Dec 05 2021            13.027429  \n",
       "11        Dec 06 2021            11.394000  \n",
       "12        Dec 07 2021            12.175333  \n",
       "13        Dec 08 2021            12.156917  \n",
       "14        Dec 09 2021            13.550000  \n",
       "\n",
       "[15 rows x 34 columns]"
      ]
     },
     "execution_count": 386,
     "metadata": {},
     "output_type": "execute_result"
    }
   ],
   "source": [
    "new_df "
   ]
  },
  {
   "cell_type": "code",
   "execution_count": 424,
   "id": "8fa7b819",
   "metadata": {},
   "outputs": [],
   "source": [
    "namesList = 'date_Alien', 'date_BigGrin','date_BlackoutHelmet','date_BlackoutHoodie','date_BlackoutJacket','date_BlackoutKilt','date_BlackoutVest','date_GhostlyFlame','date_GloryAK','date_GloryRifle','date_NoMercyFaceMask','date_NoMercyJacket','date_PlateCarrier','date_RatMask','date_SunriseDoor','date_TemperedMask','date_TrainingPants'"
   ]
  },
  {
   "cell_type": "code",
   "execution_count": 425,
   "id": "69d4a5d6",
   "metadata": {},
   "outputs": [
    {
     "data": {
      "text/plain": [
       "('date_Alien',\n",
       " 'date_BigGrin',\n",
       " 'date_BlackoutHelmet',\n",
       " 'date_BlackoutHoodie',\n",
       " 'date_BlackoutJacket',\n",
       " 'date_BlackoutKilt',\n",
       " 'date_BlackoutVest',\n",
       " 'date_GhostlyFlame',\n",
       " 'date_GloryAK',\n",
       " 'date_GloryRifle',\n",
       " 'date_NoMercyFaceMask',\n",
       " 'date_NoMercyJacket',\n",
       " 'date_PlateCarrier',\n",
       " 'date_RatMask',\n",
       " 'date_SunriseDoor',\n",
       " 'date_TemperedMask',\n",
       " 'date_TrainingPants')"
      ]
     },
     "execution_count": 425,
     "metadata": {},
     "output_type": "execute_result"
    }
   ],
   "source": [
    "namesList"
   ]
  },
  {
   "cell_type": "code",
   "execution_count": 406,
   "id": "85276388",
   "metadata": {},
   "outputs": [],
   "source": [
    "priceList = 'price_Alien', 'price_BigGrin','price_BlackoutHelmet','price_BlackoutHoodie','price_BlackoutJacket','price_BlackoutKilt','price_BlackoutVest','price_GhostlyFlame','price_GloryAK','price_GloryRifle','price_NoMercyFaceMask','price_NoMercyJacket','price_PlateCarrier','price_RatMask','price_SunriseDoor','price_TemperedMask','price_TrainingPants'"
   ]
  },
  {
   "cell_type": "code",
   "execution_count": 421,
   "id": "414a6592",
   "metadata": {},
   "outputs": [
    {
     "data": {
      "text/plain": [
       "('price_Alien',\n",
       " 'price_BigGrin',\n",
       " 'price_BlackoutHelmet',\n",
       " 'price_BlackoutHoodie',\n",
       " 'price_BlackoutJacket',\n",
       " 'price_BlackoutKilt',\n",
       " 'price_BlackoutVest',\n",
       " 'price_GhostlyFlame',\n",
       " 'price_GloryAK',\n",
       " 'price_GloryRifle',\n",
       " 'price_NoMercyFaceMask',\n",
       " 'price_NoMercyJacket',\n",
       " 'price_PlateCarrier',\n",
       " 'price_RatMask',\n",
       " 'price_SunriseDoor',\n",
       " 'price_TemperedMask',\n",
       " 'price_TrainingPants')"
      ]
     },
     "execution_count": 421,
     "metadata": {},
     "output_type": "execute_result"
    }
   ],
   "source": [
    "priceList"
   ]
  },
  {
   "cell_type": "code",
   "execution_count": 431,
   "id": "336114dd",
   "metadata": {},
   "outputs": [
    {
     "data": {
      "image/png": "[encoded data removed]",
      "text/plain": [
       "<Figure size 432x288 with 1 Axes>"
      ]
     },
     "metadata": {
      "needs_background": "light"
     },
     "output_type": "display_data"
    },
    {
     "data": {
      "image/png": "[encoded data removed]",
      "text/plain": [
       "<Figure size 432x288 with 1 Axes>"
      ]
     },
     "metadata": {
      "needs_background": "light"
     },
     "output_type": "display_data"
    },
    {
     "data": {
      "image/png": "[encoded data removed]",
      "text/plain": [
       "<Figure size 432x288 with 1 Axes>"
      ]
     },
     "metadata": {
      "needs_background": "light"
     },
     "output_type": "display_data"
    },
    {
     "data": {
      "image/png": "[encoded data removed]",
      "text/plain": [
       "<Figure size 432x288 with 1 Axes>"
      ]
     },
     "metadata": {
      "needs_background": "light"
     },
     "output_type": "display_data"
    },
    {
     "data": {
      "image/png": "[encoded data removed]",
      "text/plain": [
       "<Figure size 432x288 with 1 Axes>"
      ]
     },
     "metadata": {
      "needs_background": "light"
     },
     "output_type": "display_data"
    },
    {
     "data": {
      "image/png": "[encoded data removed]",
      "text/plain": [
       "<Figure size 432x288 with 1 Axes>"
      ]
     },
     "metadata": {
      "needs_background": "light"
     },
     "output_type": "display_data"
    },
    {
     "data": {
      "image/png": "[encoded data removed]",
      "text/plain": [
       "<Figure size 432x288 with 1 Axes>"
      ]
     },
     "metadata": {
      "needs_background": "light"
     },
     "output_type": "display_data"
    },
    {
     "data": {
      "image/png": "[encoded data removed]",
      "text/plain": [
       "<Figure size 432x288 with 1 Axes>"
      ]
     },
     "metadata": {
      "needs_background": "light"
     },
     "output_type": "display_data"
    },
    {
     "data": {
      "image/png": "[encoded data removed]",
      "text/plain": [
       "<Figure size 432x288 with 1 Axes>"
      ]
     },
     "metadata": {
      "needs_background": "light"
     },
     "output_type": "display_data"
    },
    {
     "data": {
      "image/png": "[encoded data removed]",
      "text/plain": [
       "<Figure size 432x288 with 1 Axes>"
      ]
     },
     "metadata": {
      "needs_background": "light"
     },
     "output_type": "display_data"
    },
    {
     "data": {
      "image/png": "[encoded data removed]",
      "text/plain": [
       "<Figure size 432x288 with 1 Axes>"
      ]
     },
     "metadata": {
      "needs_background": "light"
     },
     "output_type": "display_data"
    },
    {
     "data": {
      "image/png": "[encoded data removed]",
      "text/plain": [
       "<Figure size 432x288 with 1 Axes>"
      ]
     },
     "metadata": {
      "needs_background": "light"
     },
     "output_type": "display_data"
    },
    {
     "data": {
      "image/png": "[encoded data removed]",
      "text/plain": [
       "<Figure size 432x288 with 1 Axes>"
      ]
     },
     "metadata": {
      "needs_background": "light"
     },
     "output_type": "display_data"
    },
    {
     "data": {
      "image/png": "[encoded data removed]",
      "text/plain": [
       "<Figure size 432x288 with 1 Axes>"
      ]
     },
     "metadata": {
      "needs_background": "light"
     },
     "output_type": "display_data"
    },
    {
     "data": {
      "image/png": "[encoded data removed]",
      "text/plain": [
       "<Figure size 432x288 with 1 Axes>"
      ]
     },
     "metadata": {
      "needs_background": "light"
     },
     "output_type": "display_data"
    },
    {
     "data": {
      "image/png": "[encoded data removed]",
      "text/plain": [
       "<Figure size 432x288 with 1 Axes>"
      ]
     },
     "metadata": {
      "needs_background": "light"
     },
     "output_type": "display_data"
    },
    {
     "data": {
      "image/png": "[encoded data removed]",
      "text/plain": [
       "<Figure size 432x288 with 1 Axes>"
      ]
     },
     "metadata": {
      "needs_background": "light"
     },
     "output_type": "display_data"
    }
   ],
   "source": [
    "i = 0\n",
    "while i < len(namesList):\n",
    "    fig0, ax0 = plt.subplots()\n",
    "    ax0.scatter(new_df[priceList[i]], new_df[namesList[i]])\n",
    "    plt.title(item[i])\n",
    "    plt.xlabel('Price')\n",
    "    plt.ylabel('Date')\n",
    "    plt.show()\n",
    "    i += 1"
   ]
  },
  {
   "cell_type": "markdown",
   "id": "59ed98b2",
   "metadata": {},
   "source": [
    "This data only shows the date and the price of the item and shows the prices change over time, however it does not show quantity of each item on the market which could inflate prices potentially."
   ]
  },
  {
   "cell_type": "markdown",
   "id": "fff0547f",
   "metadata": {},
   "source": [
    "The data was originally pulled with the name of the item and the price/quantity/date all in one. I took out all of the items to then separate the prices and dates to see how they correlate better."
   ]
  },
  {
   "cell_type": "markdown",
   "id": "bdaeb11b",
   "metadata": {},
   "source": [
    "Based on all of the scatter plots it does not look like the new shop that Rust added has dropped the prices of the items so far. Based on the data it looks like they either increased or didn't have a correlation at all. A new question could be if the new shop made prices go up rather than down."
   ]
  },
  {
   "cell_type": "markdown",
   "id": "ae84bae5",
   "metadata": {},
   "source": [
    "There are definitely limitations in this data considering only 15 days worth of market data can be pulled so every time it is updated it could potentially skew the data a little bit because the biggest change is going to be right after the shop was released around mid November."
   ]
  },
  {
   "cell_type": "markdown",
   "id": "77df0e11",
   "metadata": {},
   "source": [
    "Anyone viewing this project can rest assured that based on the data collected I will not lose a lot of money from prices dropping."
   ]
  },
  {
   "cell_type": "code",
   "execution_count": null,
   "id": "1fff2b11",
   "metadata": {},
   "outputs": [],
   "source": []
  }
 ],
 "metadata": {
  "kernelspec": {
   "display_name": "Python 3 (ipykernel)",
   "language": "python",
   "name": "python3"
  },
  "language_info": {
   "codemirror_mode": {
    "name": "ipython",
    "version": 3
   },
   "file_extension": ".py",
   "mimetype": "text/x-python",
   "name": "python",
   "nbconvert_exporter": "python",
   "pygments_lexer": "ipython3",
   "version": "3.9.6"
  }
 },
 "nbformat": 4,
 "nbformat_minor": 5
}
