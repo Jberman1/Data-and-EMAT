{
 "cells": [
  {
   "cell_type": "code",
   "execution_count": 2,
   "id": "bd8e1a7a",
   "metadata": {},
   "outputs": [],
   "source": [
    "import pandas as pd\n",
    "import requests\n",
    "import base64\n",
    "import json\n",
    "from matplotlib import pyplot as plt"
   ]
  },
  {
   "cell_type": "code",
   "execution_count": 3,
   "id": "e6e0a023",
   "metadata": {},
   "outputs": [
    {
     "name": "stdout",
     "output_type": "stream",
     "text": [
      "BLS_API.ipynb                       Montero_Audio_Features.csv\r\n",
      "Beautiful Soup.ipynb                Montero_Track_Data.csv\r\n",
      "Berman_SystemCheck.ipynb            Pandas Examples Slicing Data.ipynb\r\n",
      "Berman_SystemsCheck.ipynb           SQL Practice.ipynb\r\n",
      "DataFrame Example.ipynb             Spotify API.ipynb\r\n",
      "Datetime.ipynb                      Twitter API.ipynb\r\n",
      "Equal_Audio_Features.csv            Twitter_Text_Report.csv\r\n",
      "Equal_Track_Data.csv                Untitled.ipynb\r\n",
      "Final Project.ipynb                 Untitled1.ipynb\r\n",
      "Indeed Scraper.ipynb                bls_data.csv\r\n",
      "Instagram Info.ipynb                twitter_data.csv\r\n",
      "Likes Report Jake Berman.ipynb\r\n"
     ]
    }
   ],
   "source": [
    "ls"
   ]
  },
  {
   "cell_type": "code",
   "execution_count": 4,
   "id": "747401ae",
   "metadata": {},
   "outputs": [],
   "source": [
    "item_list = pd.read_csv(\"/Users/jake/Documents/item_list.txt\", sep = '\\t', header = 0)"
   ]
  },
  {
   "cell_type": "code",
   "execution_count": 5,
   "id": "a81c3ea7",
   "metadata": {},
   "outputs": [
    {
     "data": {
      "text/html": [
       "<div>\n",
       "<style scoped>\n",
       "    .dataframe tbody tr th:only-of-type {\n",
       "        vertical-align: middle;\n",
       "    }\n",
       "\n",
       "    .dataframe tbody tr th {\n",
       "        vertical-align: top;\n",
       "    }\n",
       "\n",
       "    .dataframe thead th {\n",
       "        text-align: right;\n",
       "    }\n",
       "</style>\n",
       "<table border=\"1\" class=\"dataframe\">\n",
       "  <thead>\n",
       "    <tr style=\"text-align: right;\">\n",
       "      <th></th>\n",
       "      <th>Item List</th>\n",
       "    </tr>\n",
       "  </thead>\n",
       "  <tbody>\n",
       "    <tr>\n",
       "      <th>0</th>\n",
       "      <td>Alien Red</td>\n",
       "    </tr>\n",
       "    <tr>\n",
       "      <th>1</th>\n",
       "      <td>Big Grin</td>\n",
       "    </tr>\n",
       "    <tr>\n",
       "      <th>2</th>\n",
       "      <td>Blackout Helmet</td>\n",
       "    </tr>\n",
       "    <tr>\n",
       "      <th>3</th>\n",
       "      <td>Blackout Hoodie</td>\n",
       "    </tr>\n",
       "    <tr>\n",
       "      <th>4</th>\n",
       "      <td>Blackout Jacket</td>\n",
       "    </tr>\n",
       "    <tr>\n",
       "      <th>5</th>\n",
       "      <td>Blackout Kilt</td>\n",
       "    </tr>\n",
       "    <tr>\n",
       "      <th>6</th>\n",
       "      <td>Blackout Vest</td>\n",
       "    </tr>\n",
       "    <tr>\n",
       "      <th>7</th>\n",
       "      <td>Ghostly Flame</td>\n",
       "    </tr>\n",
       "    <tr>\n",
       "      <th>8</th>\n",
       "      <td>Glory AK47</td>\n",
       "    </tr>\n",
       "    <tr>\n",
       "      <th>9</th>\n",
       "      <td>Glory Rifle</td>\n",
       "    </tr>\n",
       "    <tr>\n",
       "      <th>10</th>\n",
       "      <td>No Mercy Facemask</td>\n",
       "    </tr>\n",
       "    <tr>\n",
       "      <th>11</th>\n",
       "      <td>No Mercy Jacket</td>\n",
       "    </tr>\n",
       "    <tr>\n",
       "      <th>12</th>\n",
       "      <td>Plate Carrier - Black</td>\n",
       "    </tr>\n",
       "    <tr>\n",
       "      <th>13</th>\n",
       "      <td>Rat Mask</td>\n",
       "    </tr>\n",
       "    <tr>\n",
       "      <th>14</th>\n",
       "      <td>Sunrise Door</td>\n",
       "    </tr>\n",
       "    <tr>\n",
       "      <th>15</th>\n",
       "      <td>Tempered Mask</td>\n",
       "    </tr>\n",
       "    <tr>\n",
       "      <th>16</th>\n",
       "      <td>Training Pants</td>\n",
       "    </tr>\n",
       "  </tbody>\n",
       "</table>\n",
       "</div>"
      ],
      "text/plain": [
       "                Item List\n",
       "0               Alien Red\n",
       "1                Big Grin\n",
       "2         Blackout Helmet\n",
       "3         Blackout Hoodie\n",
       "4         Blackout Jacket\n",
       "5           Blackout Kilt\n",
       "6           Blackout Vest\n",
       "7           Ghostly Flame\n",
       "8              Glory AK47\n",
       "9             Glory Rifle\n",
       "10      No Mercy Facemask\n",
       "11        No Mercy Jacket\n",
       "12  Plate Carrier - Black\n",
       "13               Rat Mask\n",
       "14           Sunrise Door\n",
       "15          Tempered Mask\n",
       "16         Training Pants"
      ]
     },
     "execution_count": 5,
     "metadata": {},
     "output_type": "execute_result"
    }
   ],
   "source": [
    "item_list"
   ]
  },
  {
   "cell_type": "code",
   "execution_count": 95,
   "id": "34c4945b",
   "metadata": {},
   "outputs": [],
   "source": [
    "item = [x for x in item_list['Item List']]"
   ]
  },
  {
   "cell_type": "code",
   "execution_count": 96,
   "id": "7a5ad3dc",
   "metadata": {},
   "outputs": [
    {
     "data": {
      "text/plain": [
       "['Alien Red',\n",
       " 'Big Grin',\n",
       " 'Blackout Helmet',\n",
       " 'Blackout Hoodie',\n",
       " 'Blackout Jacket',\n",
       " 'Blackout Kilt',\n",
       " 'Blackout Vest',\n",
       " 'Ghostly Flame',\n",
       " 'Glory AK47',\n",
       " 'Glory Rifle',\n",
       " 'No Mercy Facemask',\n",
       " 'No Mercy Jacket',\n",
       " 'Plate Carrier - Black',\n",
       " 'Rat Mask',\n",
       " 'Sunrise Door',\n",
       " 'Tempered Mask',\n",
       " 'Training Pants']"
      ]
     },
     "execution_count": 96,
     "metadata": {},
     "output_type": "execute_result"
    }
   ],
   "source": [
    "item"
   ]
  },
  {
   "cell_type": "code",
   "execution_count": 6,
   "id": "9b39d0c8",
   "metadata": {},
   "outputs": [],
   "source": [
    "appid = 252490"
   ]
  },
  {
   "cell_type": "code",
   "execution_count": 7,
   "id": "b8c5fa33",
   "metadata": {},
   "outputs": [],
   "source": [
    "personal_key = pd.read_csv(\"/Users/jake/Documents/Steam API Key.txt\", sep = '\\t', header = 0)"
   ]
  },
  {
   "cell_type": "code",
   "execution_count": 41,
   "id": "c5454b75",
   "metadata": {},
   "outputs": [],
   "source": [
    "secret_key = pd.read_csv(\"/Users/jake/Documents/SteamApi.txt\", sep = '\\t', header = 0)"
   ]
  },
  {
   "cell_type": "code",
   "execution_count": 42,
   "id": "e27af073",
   "metadata": {},
   "outputs": [],
   "source": [
    "secret = secret_key[\"Steam API\"].iloc[0]"
   ]
  },
  {
   "cell_type": "code",
   "execution_count": 21,
   "id": "f7d45b55",
   "metadata": {},
   "outputs": [],
   "source": [
    "bearer = personal_key[\"Personal Key\"].iloc[0]"
   ]
  },
  {
   "cell_type": "code",
   "execution_count": 9,
   "id": "1b824495",
   "metadata": {},
   "outputs": [],
   "source": [
    "header = {'Authorization' : 'Bearer {}'.format(bearer)}"
   ]
  },
  {
   "cell_type": "code",
   "execution_count": 48,
   "id": "810c36c7",
   "metadata": {},
   "outputs": [],
   "source": [
    "header2 = {'Authorization' : 'Bearer {}'.format(secret)}"
   ]
  },
  {
   "cell_type": "code",
   "execution_count": 10,
   "id": "6106da2d",
   "metadata": {},
   "outputs": [],
   "source": [
    "url = \"https://api.steamapis.com\""
   ]
  },
  {
   "cell_type": "code",
   "execution_count": 11,
   "id": "c9e7bf35",
   "metadata": {
    "scrolled": false
   },
   "outputs": [],
   "source": [
    "response = requests.request(\"GET\", url, headers = header)"
   ]
  },
  {
   "cell_type": "code",
   "execution_count": 12,
   "id": "e6a3c946",
   "metadata": {},
   "outputs": [
    {
     "data": {
      "text/plain": [
       "<Response [200]>"
      ]
     },
     "execution_count": 12,
     "metadata": {},
     "output_type": "execute_result"
    }
   ],
   "source": [
    "response"
   ]
  },
  {
   "cell_type": "code",
   "execution_count": 106,
   "id": "d1e845eb",
   "metadata": {},
   "outputs": [],
   "source": [
    "endpoint_url = \"https://api.steamapis.com/market/item/252490/Alien Red?api_key=K20S8glp6_W4W6b0WQJ0dCveOi4\""
   ]
  },
  {
   "cell_type": "code",
   "execution_count": 115,
   "id": "2384600b",
   "metadata": {},
   "outputs": [],
   "source": [
    "response1 = requests.request(\"GET\", endpoint_url, headers = header2)"
   ]
  },
  {
   "cell_type": "code",
   "execution_count": 116,
   "id": "4d40f54d",
   "metadata": {},
   "outputs": [
    {
     "data": {
      "text/plain": [
       "<Response [200]>"
      ]
     },
     "execution_count": 116,
     "metadata": {},
     "output_type": "execute_result"
    }
   ],
   "source": [
    "response1"
   ]
  },
  {
   "cell_type": "code",
   "execution_count": null,
   "id": "c91d8885",
   "metadata": {},
   "outputs": [],
   "source": [
    "response1.text"
   ]
  },
  {
   "cell_type": "code",
   "execution_count": 66,
   "id": "336d0806",
   "metadata": {},
   "outputs": [
    {
     "data": {
      "text/plain": [
       "\"https://api.steamapis.com/market/item/{'252490'}/{market_hash_name}?api_key={19C9FE9D1E9C3A1E82BFFE03114B0EFF}?AppID=252490&market_hash_name=                Item List\\n0               Alien Red\\n1                Big Grin\\n2         Blackout Helmet\\n3         Blackout Hoodie\\n4         Blackout Jacket\\n5           Blackout Kilt\\n6           Blackout Vest\\n7           Ghostly Flame\\n8              Glory AK47\\n9             Glory Rifle\\n10      No Mercy Facemask\\n11        No Mercy Jacket\\n12  Plate Carrier - Black\\n13               Rat Mask\\n14           Sunrise Door\\n15          Tempered Mask\\n16         Training Pants&median_history_days=15&api_key=19C9FE9D1E9C3A1E82BFFE03114B0EFF\""
      ]
     },
     "execution_count": 66,
     "metadata": {},
     "output_type": "execute_result"
    }
   ],
   "source": [
    "my_api_url"
   ]
  },
  {
   "cell_type": "code",
   "execution_count": 76,
   "id": "57e907c2",
   "metadata": {},
   "outputs": [
    {
     "data": {
      "text/plain": [
       "<bound method Response.json of <Response [200]>>"
      ]
     },
     "execution_count": 76,
     "metadata": {},
     "output_type": "execute_result"
    }
   ],
   "source": [
    "response1.json"
   ]
  },
  {
   "cell_type": "code",
   "execution_count": 77,
   "id": "4402b72a",
   "metadata": {},
   "outputs": [],
   "source": [
    "response1_dict = json.loads(response1.text)"
   ]
  },
  {
   "cell_type": "code",
   "execution_count": 79,
   "id": "3956cab5",
   "metadata": {},
   "outputs": [
    {
     "data": {
      "text/plain": [
       "{'nameID': 175872465,\n",
       " 'appID': 252490,\n",
       " 'market_name': 'Alien Red',\n",
       " 'market_hash_name': 'Alien Red',\n",
       " 'description': 'Rust',\n",
       " 'url': 'https://steamcommunity.com/market/listings/252490/Alien%20Red',\n",
       " 'image': 'https://community.cloudflare.steamstatic.com/economy/image/6TMcQ7eX6E0EZl2byXi7vaVKyDk_zQLX05x6eLCFM9neAckxGDf7qU2e2gu64OnAeQ7835Ff5GLNfCk4nReh8DEiv5dbPK47pbcyR_m4DQ68Ofs',\n",
       " 'border_color': '#f15840',\n",
       " 'app_context_data': {'252490': {'appid': 252490,\n",
       "   'name': 'Rust',\n",
       "   'icon': 'https://cdn.cloudflare.steamstatic.com/steamcommunity/public/images/apps/252490/820be4782639f9c4b64fa3ca7e6c26a95ae4fd1c.jpg',\n",
       "   'link': 'https://steamcommunity.com/app/252490'}},\n",
       " 'median_avg_prices_15days': [['Nov 16 2021', 141.7301666666667, 8],\n",
       "  ['Nov 17 2021', 145.96412500000002, 9],\n",
       "  ['Nov 18 2021', 141.61042857142857, 9],\n",
       "  ['Nov 19 2021', 141.6628333333333, 16],\n",
       "  ['Nov 20 2021', 141.43166666666664, 8],\n",
       "  ['Nov 21 2021', 128.5478, 6],\n",
       "  ['Nov 22 2021', 146.79357142857143, 8],\n",
       "  ['Nov 23 2021', 138.70475, 9],\n",
       "  ['Nov 24 2021', 142.8297777777778, 12],\n",
       "  ['Nov 25 2021', 148.56030000000004, 10],\n",
       "  ['Nov 26 2021', 144.27627272727273, 17],\n",
       "  ['Nov 27 2021', 143.21516666666665, 11],\n",
       "  ['Nov 28 2021', 142.99514285714287, 7],\n",
       "  ['Nov 29 2021', 148.91588888888887, 13],\n",
       "  ['Nov 30 2021', 153.5275, 5]],\n",
       " 'histogram': {'sell_order_array': [{'price': 162.79, 'quantity': 2},\n",
       "   {'price': 162.9, 'quantity': 1},\n",
       "   {'price': 163.15, 'quantity': 1},\n",
       "   {'price': 163.62, 'quantity': 1},\n",
       "   {'price': 163.85, 'quantity': 1},\n",
       "   {'price': 164.5, 'quantity': 53}],\n",
       "  'sell_order_summary': {'price': 162.79, 'quantity': 59},\n",
       "  'buy_order_array': [{'price': 138.54, 'quantity': 1},\n",
       "   {'price': 132.75, 'quantity': 1},\n",
       "   {'price': 132.74, 'quantity': 1},\n",
       "   {'price': 132.39, 'quantity': 1},\n",
       "   {'price': 129.49, 'quantity': 2},\n",
       "   {'price': 127.62, 'quantity': 870}],\n",
       "  'buy_order_summary': {'price': 138.54, 'quantity': 876},\n",
       "  'highest_buy_order': 138.54,\n",
       "  'lowest_sell_order': 162.79,\n",
       "  'buy_order_graph': [[138.54, 1, '1 buy orders at $138.54 or higher'],\n",
       "   [132.75, 2, '2 buy orders at $132.75 or higher'],\n",
       "   [132.74, 3, '3 buy orders at $132.74 or higher'],\n",
       "   [132.39, 4, '4 buy orders at $132.39 or higher'],\n",
       "   [129.49, 6, '6 buy orders at $129.49 or higher'],\n",
       "   [127.62, 7, '7 buy orders at $127.62 or higher'],\n",
       "   [126.96, 8, '8 buy orders at $126.96 or higher'],\n",
       "   [126.93, 9, '9 buy orders at $126.93 or higher'],\n",
       "   [126.43, 12, '12 buy orders at $126.43 or higher'],\n",
       "   [125.78, 22, '22 buy orders at $125.78 or higher'],\n",
       "   [125.62, 38, '38 buy orders at $125.62 or higher'],\n",
       "   [120.69, 39, '39 buy orders at $120.69 or higher'],\n",
       "   [111, 40, '40 buy orders at $111.00 or higher'],\n",
       "   [108, 41, '41 buy orders at $108.00 or higher'],\n",
       "   [103, 42, '42 buy orders at $103.00 or higher'],\n",
       "   [100, 44, '44 buy orders at $100.00 or higher'],\n",
       "   [96.42, 48, '48 buy orders at $96.42 or higher'],\n",
       "   [96.28, 49, '49 buy orders at $96.28 or higher'],\n",
       "   [92.72, 50, '50 buy orders at $92.72 or higher'],\n",
       "   [90.09, 51, '51 buy orders at $90.09 or higher'],\n",
       "   [90, 52, '52 buy orders at $90.00 or higher'],\n",
       "   [87, 53, '53 buy orders at $87.00 or higher'],\n",
       "   [85, 54, '54 buy orders at $85.00 or higher'],\n",
       "   [83.22, 57, '57 buy orders at $83.22 or higher'],\n",
       "   [82, 60, '60 buy orders at $82.00 or higher'],\n",
       "   [81.97, 62, '62 buy orders at $81.97 or higher'],\n",
       "   [80.5, 63, '63 buy orders at $80.50 or higher'],\n",
       "   [78, 64, '64 buy orders at $78.00 or higher'],\n",
       "   [77.97, 65, '65 buy orders at $77.97 or higher'],\n",
       "   [77, 66, '66 buy orders at $77.00 or higher'],\n",
       "   [76.5, 67, '67 buy orders at $76.50 or higher'],\n",
       "   [73.43, 71, '71 buy orders at $73.43 or higher'],\n",
       "   [72, 73, '73 buy orders at $72.00 or higher'],\n",
       "   [69, 74, '74 buy orders at $69.00 or higher'],\n",
       "   [68.68, 75, '75 buy orders at $68.68 or higher'],\n",
       "   [68, 76, '76 buy orders at $68.00 or higher'],\n",
       "   [67, 78, '78 buy orders at $67.00 or higher'],\n",
       "   [62.42, 81, '81 buy orders at $62.42 or higher'],\n",
       "   [62.24, 82, '82 buy orders at $62.24 or higher'],\n",
       "   [60.52, 87, '87 buy orders at $60.52 or higher'],\n",
       "   [60, 90, '90 buy orders at $60.00 or higher'],\n",
       "   [58.26, 91, '91 buy orders at $58.26 or higher'],\n",
       "   [56.44, 94, '94 buy orders at $56.44 or higher'],\n",
       "   [53.73, 95, '95 buy orders at $53.73 or higher'],\n",
       "   [51.13, 96, '96 buy orders at $51.13 or higher'],\n",
       "   [50, 98, '98 buy orders at $50.00 or higher'],\n",
       "   [46.96, 100, '100 buy orders at $46.96 or higher'],\n",
       "   [46.36, 101, '101 buy orders at $46.36 or higher'],\n",
       "   [45.74, 102, '102 buy orders at $45.74 or higher'],\n",
       "   [43.85, 103, '103 buy orders at $43.85 or higher'],\n",
       "   [41.3, 104, '104 buy orders at $41.30 or higher'],\n",
       "   [41, 105, '105 buy orders at $41.00 or higher'],\n",
       "   [40.13, 110, '110 buy orders at $40.13 or higher'],\n",
       "   [40.1, 115, '115 buy orders at $40.10 or higher'],\n",
       "   [39.41, 116, '116 buy orders at $39.41 or higher'],\n",
       "   [36.68, 117, '117 buy orders at $36.68 or higher'],\n",
       "   [35.67, 118, '118 buy orders at $35.67 or higher'],\n",
       "   [34, 119, '119 buy orders at $34.00 or higher'],\n",
       "   [33.76, 120, '120 buy orders at $33.76 or higher'],\n",
       "   [32.2, 126, '126 buy orders at $32.20 or higher'],\n",
       "   [25.83, 131, '131 buy orders at $25.83 or higher'],\n",
       "   [23.49, 132, '132 buy orders at $23.49 or higher'],\n",
       "   [22.5, 133, '133 buy orders at $22.50 or higher'],\n",
       "   [22.05, 134, '134 buy orders at $22.05 or higher'],\n",
       "   [21.89, 135, '135 buy orders at $21.89 or higher'],\n",
       "   [20.3, 136, '136 buy orders at $20.30 or higher'],\n",
       "   [20.16, 137, '137 buy orders at $20.16 or higher'],\n",
       "   [20.15, 156, '156 buy orders at $20.15 or higher'],\n",
       "   [19.98, 160, '160 buy orders at $19.98 or higher'],\n",
       "   [19.92, 161, '161 buy orders at $19.92 or higher'],\n",
       "   [19.48, 162, '162 buy orders at $19.48 or higher'],\n",
       "   [19.38, 163, '163 buy orders at $19.38 or higher'],\n",
       "   [19.2, 167, '167 buy orders at $19.20 or higher'],\n",
       "   [19, 168, '168 buy orders at $19.00 or higher'],\n",
       "   [17.97, 169, '169 buy orders at $17.97 or higher'],\n",
       "   [16.25, 170, '170 buy orders at $16.25 or higher'],\n",
       "   [16.03, 171, '171 buy orders at $16.03 or higher'],\n",
       "   [15.81, 172, '172 buy orders at $15.81 or higher'],\n",
       "   [15.77, 174, '174 buy orders at $15.77 or higher'],\n",
       "   [15.64, 175, '175 buy orders at $15.64 or higher'],\n",
       "   [15.44, 177, '177 buy orders at $15.44 or higher'],\n",
       "   [15, 179, '179 buy orders at $15.00 or higher'],\n",
       "   [14.26, 180, '180 buy orders at $14.26 or higher'],\n",
       "   [13.41, 181, '181 buy orders at $13.41 or higher'],\n",
       "   [12.39, 182, '182 buy orders at $12.39 or higher'],\n",
       "   [12.35, 183, '183 buy orders at $12.35 or higher'],\n",
       "   [11.5, 193, '193 buy orders at $11.50 or higher'],\n",
       "   [11.34, 194, '194 buy orders at $11.34 or higher'],\n",
       "   [11, 195, '195 buy orders at $11.00 or higher'],\n",
       "   [10.73, 196, '196 buy orders at $10.73 or higher'],\n",
       "   [10.36, 197, '197 buy orders at $10.36 or higher'],\n",
       "   [10.32, 198, '198 buy orders at $10.32 or higher'],\n",
       "   [10, 201, '201 buy orders at $10.00 or higher'],\n",
       "   [9.83, 202, '202 buy orders at $9.83 or higher'],\n",
       "   [9.35, 203, '203 buy orders at $9.35 or higher'],\n",
       "   [9.01, 204, '204 buy orders at $9.01 or higher'],\n",
       "   [8.57, 206, '206 buy orders at $8.57 or higher'],\n",
       "   [8.52, 208, '208 buy orders at $8.52 or higher'],\n",
       "   [8.45, 210, '210 buy orders at $8.45 or higher'],\n",
       "   [8.44, 212, '212 buy orders at $8.44 or higher'],\n",
       "   [8.43, 214, '214 buy orders at $8.43 or higher']],\n",
       "  'sell_order_graph': [[162.79, 2, '2 sell orders at $162.79 or lower'],\n",
       "   [162.9, 3, '3 sell orders at $162.90 or lower'],\n",
       "   [163.15, 4, '4 sell orders at $163.15 or lower'],\n",
       "   [163.62, 5, '5 sell orders at $163.62 or lower'],\n",
       "   [163.85, 6, '6 sell orders at $163.85 or lower'],\n",
       "   [164.5, 7, '7 sell orders at $164.50 or lower'],\n",
       "   [164.91, 8, '8 sell orders at $164.91 or lower'],\n",
       "   [166.75, 9, '9 sell orders at $166.75 or lower'],\n",
       "   [167.8, 10, '10 sell orders at $167.80 or lower'],\n",
       "   [167.81, 11, '11 sell orders at $167.81 or lower'],\n",
       "   [168.21, 12, '12 sell orders at $168.21 or lower'],\n",
       "   [168.91, 13, '13 sell orders at $168.91 or lower'],\n",
       "   [169.2, 14, '14 sell orders at $169.20 or lower'],\n",
       "   [169.78, 15, '15 sell orders at $169.78 or lower'],\n",
       "   [169.99, 16, '16 sell orders at $169.99 or lower'],\n",
       "   [170, 17, '17 sell orders at $170.00 or lower'],\n",
       "   [172.06, 18, '18 sell orders at $172.06 or lower'],\n",
       "   [172.5, 19, '19 sell orders at $172.50 or lower'],\n",
       "   [174, 20, '20 sell orders at $174.00 or lower'],\n",
       "   [174.82, 21, '21 sell orders at $174.82 or lower'],\n",
       "   [175.42, 22, '22 sell orders at $175.42 or lower'],\n",
       "   [175.95, 23, '23 sell orders at $175.95 or lower'],\n",
       "   [180.55, 24, '24 sell orders at $180.55 or lower'],\n",
       "   [181.7, 25, '25 sell orders at $181.70 or lower'],\n",
       "   [186.19, 26, '26 sell orders at $186.19 or lower'],\n",
       "   [189.49, 27, '27 sell orders at $189.49 or lower'],\n",
       "   [190, 29, '29 sell orders at $190.00 or lower'],\n",
       "   [190.32, 30, '30 sell orders at $190.32 or lower'],\n",
       "   [191.43, 32, '32 sell orders at $191.43 or lower'],\n",
       "   [191.88, 33, '33 sell orders at $191.88 or lower'],\n",
       "   [194.24, 35, '35 sell orders at $194.24 or lower'],\n",
       "   [198.95, 36, '36 sell orders at $198.95 or lower'],\n",
       "   [199.61, 37, '37 sell orders at $199.61 or lower'],\n",
       "   [199.95, 38, '38 sell orders at $199.95 or lower'],\n",
       "   [200, 39, '39 sell orders at $200.00 or lower'],\n",
       "   [200.57, 40, '40 sell orders at $200.57 or lower'],\n",
       "   [202.4, 41, '41 sell orders at $202.40 or lower'],\n",
       "   [203.86, 42, '42 sell orders at $203.86 or lower'],\n",
       "   [205, 43, '43 sell orders at $205.00 or lower'],\n",
       "   [213.68, 44, '44 sell orders at $213.68 or lower'],\n",
       "   [216.51, 45, '45 sell orders at $216.51 or lower'],\n",
       "   [218.5, 46, '46 sell orders at $218.50 or lower'],\n",
       "   [220.15, 47, '47 sell orders at $220.15 or lower'],\n",
       "   [225.22, 48, '48 sell orders at $225.22 or lower'],\n",
       "   [226.55, 49, '49 sell orders at $226.55 or lower'],\n",
       "   [226.62, 50, '50 sell orders at $226.62 or lower'],\n",
       "   [230, 52, '52 sell orders at $230.00 or lower'],\n",
       "   [241.5, 53, '53 sell orders at $241.50 or lower'],\n",
       "   [253, 54, '54 sell orders at $253.00 or lower'],\n",
       "   [259, 55, '55 sell orders at $259.00 or lower']],\n",
       "  'graph_max_y': 300,\n",
       "  'graph_min_x': 8.43,\n",
       "  'graph_max_x': 259,\n",
       "  'price_prefix': '$',\n",
       "  'price_suffix': ''},\n",
       " 'assets': {'descriptions': [{'type': 'html',\n",
       "    'value': '<span style=\"color: #FF9800\">This is a skin for the <span style=\"color: #ffdba5\">Assault Rifle</span> item. You will be able to apply this skin when you craft the item in game.</span><br><br><span style=\"color: #5098ce\">Breaks down into <span style=\"color: #ffffff\">1 x Metal</span></span>'}],\n",
       "  'actions': [{'link': 'https://steamcommunity.com/sharedfiles/filedetails/?id=859845460',\n",
       "    'name': 'View Workshop Item'}],\n",
       "  'type': 'Workshop Item'},\n",
       " 'assetInfo': {'name_color': 'f15840',\n",
       "  'background_color': '42413e',\n",
       "  'type': 'Workshop Item',\n",
       "  'tradable': True,\n",
       "  'marketable': True,\n",
       "  'commodity': True,\n",
       "  'descriptions': [{'type': 'bbcode', 'value': '20191204T232641Z'}],\n",
       "  'actions': [{'name': '#Workshop_Commerce_ViewItem',\n",
       "    'link': 'https://steamcommunity.com/sharedfiles/filedetails/?id=859845460'}],\n",
       "  'market_actions': [],\n",
       "  'owner_actions': [],\n",
       "  'tags': [{'category': 'itemclass',\n",
       "    'internal_name': 'rifle.ak',\n",
       "    'category_name': 'Item Type',\n",
       "    'name': 'AK47u'},\n",
       "   {'category': 'steamcat',\n",
       "    'internal_name': 'steamcat.weapon',\n",
       "    'category_name': 'Category',\n",
       "    'name': 'Weapon'}]},\n",
       " 'updated_at': 1638273950963}"
      ]
     },
     "execution_count": 79,
     "metadata": {},
     "output_type": "execute_result"
    }
   ],
   "source": [
    "response1_dict"
   ]
  },
  {
   "cell_type": "markdown",
   "id": "1e79ce36",
   "metadata": {},
   "source": [
    "So far I have data on one of the items I want, what I want to do is pull 16 items' market history and show the price change in all of them since the rust permanent shop came out. I would like to see if there is a correlation between the change in price and the shop being released and see if most of the items start to drop in price or raise in price because of it. I would like to use a plot of some sort to show it."
   ]
  },
  {
   "cell_type": "code",
   "execution_count": null,
   "id": "bc7e0c65",
   "metadata": {},
   "outputs": [],
   "source": []
  }
 ],
 "metadata": {
  "kernelspec": {
   "display_name": "Python 3 (ipykernel)",
   "language": "python",
   "name": "python3"
  },
  "language_info": {
   "codemirror_mode": {
    "name": "ipython",
    "version": 3
   },
   "file_extension": ".py",
   "mimetype": "text/x-python",
   "name": "python",
   "nbconvert_exporter": "python",
   "pygments_lexer": "ipython3",
   "version": "3.9.6"
  }
 },
 "nbformat": 4,
 "nbformat_minor": 5
}
