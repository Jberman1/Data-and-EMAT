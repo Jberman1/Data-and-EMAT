{
 "cells": [
  {
   "cell_type": "markdown",
   "id": "8c8e63cf",
   "metadata": {},
   "source": [
    "# Systems Check"
   ]
  },
  {
   "cell_type": "markdown",
   "id": "4ba6271a",
   "metadata": {},
   "source": [
    "## Jake Berman"
   ]
  },
  {
   "cell_type": "markdown",
   "id": "e5002846",
   "metadata": {},
   "source": [
    "    1. I want a better understanding of coding in general but specifically with bigger things like functions that confuse me.\n",
    "        2. I would also like to learn python again it has been a long time since i've done anything with python.\n",
    "            3. I want to learn how to do things with the terminal like creating the notebook, command prompts are intimidating.\n",
    "           "
   ]
  },
  {
   "cell_type": "markdown",
   "id": "000585b5",
   "metadata": {},
   "source": [
    "<img src=\" https://upload.wikimedia.org/wikipedia/commons/thumb/c/c3/Python-logo-notext.svg/1200px-Python-logo-notext.svg.png\" />"
   ]
  },
  {
   "cell_type": "code",
   "execution_count": null,
   "id": "35308bc9",
   "metadata": {},
   "outputs": [],
   "source": [
    "x = 10"
   ]
  },
  {
   "cell_type": "code",
   "execution_count": 8,
   "id": "a1ddd1b6",
   "metadata": {},
   "outputs": [
    {
     "name": "stdout",
     "output_type": "stream",
     "text": [
      "0\n",
      "1\n",
      "2\n",
      "3\n",
      "4\n"
     ]
    }
   ],
   "source": [
    "for x in range(5):\n",
    "    print(x)\n",
    "    \n",
    "\n",
    "    \n",
    "#https://www.learnpython.org/en/Loops I couldn't remember how to do a for loop in python."
   ]
  },
  {
   "cell_type": "code",
   "execution_count": 12,
   "id": "87a3c11c",
   "metadata": {},
   "outputs": [
    {
     "data": {
      "text/plain": [
       "4"
      ]
     },
     "execution_count": 12,
     "metadata": {},
     "output_type": "execute_result"
    }
   ],
   "source": [
    "def getX(x):\n",
    "    return(x)\n",
    "\n",
    "getX(x)"
   ]
  }
 ],
 "metadata": {
  "kernelspec": {
   "display_name": "Python 3",
   "language": "python",
   "name": "python3"
  },
  "language_info": {
   "codemirror_mode": {
    "name": "ipython",
    "version": 3
   },
   "file_extension": ".py",
   "mimetype": "text/x-python",
   "name": "python",
   "nbconvert_exporter": "python",
   "pygments_lexer": "ipython3",
   "version": "3.8.8"
  }
 },
 "nbformat": 4,
 "nbformat_minor": 5
}
