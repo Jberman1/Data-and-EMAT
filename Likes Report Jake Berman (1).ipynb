{
 "cells": [
  {
   "cell_type": "markdown",
   "id": "30d83d0b",
   "metadata": {},
   "source": [
    "# Likes Report\n",
    "## Jake Berman\n",
    "### 9/21/21"
   ]
  },
  {
   "cell_type": "code",
   "execution_count": null,
   "id": "64928c44",
   "metadata": {},
   "outputs": [],
   "source": [
    "import pandas as pd\n",
    "import json\n",
    "import matplotlib as plt"
   ]
  },
  {
   "cell_type": "markdown",
   "id": "230101b7",
   "metadata": {},
   "source": [
    "## 1"
   ]
  },
  {
   "cell_type": "code",
   "execution_count": null,
   "id": "bc0b74ce",
   "metadata": {},
   "outputs": [],
   "source": [
    "with open(r\"/Users/jake/Downloads/jake___berman_20210907/likes/liked_posts.json\") as p:\n",
    "                dat = json.load(p)"
   ]
  },
  {
   "cell_type": "markdown",
   "id": "9a99324c",
   "metadata": {},
   "source": [
    "## 2"
   ]
  },
  {
   "cell_type": "code",
   "execution_count": null,
   "id": "5779d4da",
   "metadata": {},
   "outputs": [],
   "source": [
    "dat.keys()"
   ]
  },
  {
   "cell_type": "code",
   "execution_count": null,
   "id": "b648ddc6",
   "metadata": {
    "scrolled": true
   },
   "outputs": [],
   "source": [
    "#dat['likes_media_likes']"
   ]
  },
  {
   "cell_type": "code",
   "execution_count": null,
   "id": "156e779e",
   "metadata": {},
   "outputs": [],
   "source": [
    "df_likes = pd.DataFrame(dat['likes_media_likes'])"
   ]
  },
  {
   "cell_type": "code",
   "execution_count": null,
   "id": "37db53e3",
   "metadata": {
    "scrolled": true
   },
   "outputs": [],
   "source": [
    "df_likes"
   ]
  },
  {
   "cell_type": "code",
   "execution_count": null,
   "id": "d4f385a9",
   "metadata": {},
   "outputs": [],
   "source": [
    "string_list_data = [x['title'] for x in dat['likes_media_likes']]"
   ]
  },
  {
   "cell_type": "code",
   "execution_count": null,
   "id": "fdfdfdf4",
   "metadata": {
    "scrolled": true
   },
   "outputs": [],
   "source": [
    "#string_list_data"
   ]
  },
  {
   "cell_type": "code",
   "execution_count": null,
   "id": "bb5288ad",
   "metadata": {},
   "outputs": [],
   "source": [
    "df_likes2 = pd.DataFrame(string_list_data)"
   ]
  },
  {
   "cell_type": "code",
   "execution_count": null,
   "id": "9aabdfeb",
   "metadata": {},
   "outputs": [],
   "source": [
    "df_likes2"
   ]
  },
  {
   "cell_type": "code",
   "execution_count": null,
   "id": "e5c32b49",
   "metadata": {},
   "outputs": [],
   "source": [
    "df_likes2.to_csv(r\"/Users/jake/Downloads/Filename.csv\", encoding = \"utf-8\")"
   ]
  },
  {
   "cell_type": "markdown",
   "id": "a28c3f01",
   "metadata": {},
   "source": [
    "## 4"
   ]
  },
  {
   "cell_type": "code",
   "execution_count": null,
   "id": "b0faaba2",
   "metadata": {},
   "outputs": [],
   "source": [
    "df_likes2.groupby(string_list_data).count()"
   ]
  },
  {
   "cell_type": "markdown",
   "id": "c8a85aa9",
   "metadata": {},
   "source": [
    "## 3"
   ]
  },
  {
   "cell_type": "markdown",
   "id": "d79c1531",
   "metadata": {},
   "source": [
    "A) The data was collected from Instagram.\n",
    "B) One reason why Instagram collects data is for advertisers.\n",
    "C) The data is reliable because it is just tracking posts liked from my account.\n",
    "D) The data may be unreliable because "
   ]
  },
  {
   "cell_type": "code",
   "execution_count": null,
   "id": "71ca8b20",
   "metadata": {},
   "outputs": [],
   "source": [
    "timestamp = [x['string_list_data'][0]['timestamp'] for x in dat['likes_media_likes']]"
   ]
  },
  {
   "cell_type": "code",
   "execution_count": null,
   "id": "49f15a77",
   "metadata": {},
   "outputs": [],
   "source": [
    "#timestamp"
   ]
  },
  {
   "cell_type": "code",
   "execution_count": null,
   "id": "f71bed73",
   "metadata": {},
   "outputs": [],
   "source": [
    "df_likes2['timestamp'] = timestamp"
   ]
  },
  {
   "cell_type": "code",
   "execution_count": null,
   "id": "0eed558a",
   "metadata": {},
   "outputs": [],
   "source": [
    "df_likes2"
   ]
  },
  {
   "cell_type": "markdown",
   "id": "7a59a913",
   "metadata": {},
   "source": [
    "## 5"
   ]
  },
  {
   "cell_type": "markdown",
   "id": "685ea29f",
   "metadata": {},
   "source": [
    "## Theoretical Hypothesis\n",
    "\n",
    "a) I think that in the information about you folder the ads interests file will have unreliable data/have a bunch of ads that are of no interest to the user.\n",
    "\n",
    "b) The ideal data for the hypothesis would be a file of all the ads clicked on by the user."
   ]
  },
  {
   "cell_type": "markdown",
   "id": "6e6d016f",
   "metadata": {},
   "source": [
    "## Statistical Hypothesis\n",
    "\n",
    "a)I think 90% of my the accounts from my liked posts will be from meme acounts.\n",
    "\n",
    "b)The ideal data for the hypothesis would just be a statistic of the accounts from my liked posts to show what type of account they are.\n",
    "\n",
    "number of likes"
   ]
  },
  {
   "cell_type": "markdown",
   "id": "33b08708",
   "metadata": {},
   "source": [
    "## 7\n",
    "The source of the data used was from Instagram. The structure of that data was in the form of lists. "
   ]
  },
  {
   "cell_type": "code",
   "execution_count": null,
   "id": "de9f9004",
   "metadata": {},
   "outputs": [],
   "source": []
  }
 ],
 "metadata": {
  "kernelspec": {
   "display_name": "Python 3 (ipykernel)",
   "language": "python",
   "name": "python3"
  },
  "language_info": {
   "codemirror_mode": {
    "name": "ipython",
    "version": 3
   },
   "file_extension": ".py",
   "mimetype": "text/x-python",
   "name": "python",
   "nbconvert_exporter": "python",
   "pygments_lexer": "ipython3",
   "version": "3.9.6"
  }
 },
 "nbformat": 4,
 "nbformat_minor": 5
}
