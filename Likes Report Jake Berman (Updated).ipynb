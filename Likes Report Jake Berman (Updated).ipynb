{
 "cells": [
  {
   "cell_type": "markdown",
   "id": "30d83d0b",
   "metadata": {},
   "source": [
    "# Likes Report\n",
    "## Jake Berman\n",
    "### 9/21/21"
   ]
  },
  {
   "cell_type": "code",
   "execution_count": 1,
   "id": "64928c44",
   "metadata": {},
   "outputs": [],
   "source": [
    "import pandas as pd\n",
    "import json\n",
    "import matplotlib as plt"
   ]
  },
  {
   "cell_type": "markdown",
   "id": "a84f8a4a",
   "metadata": {},
   "source": [
    "## 1) \n",
    "The cell below will open the json file and put the information into a variable called 'dat'."
   ]
  },
  {
   "cell_type": "code",
   "execution_count": 2,
   "id": "bc0b74ce",
   "metadata": {},
   "outputs": [],
   "source": [
    "with open(r\"/Users/jake/Downloads/jake___berman_20210907/likes/liked_posts.json\") as p:\n",
    "                dat = json.load(p)"
   ]
  },
  {
   "cell_type": "markdown",
   "id": "9a99324c",
   "metadata": {},
   "source": [
    "a) 'likes_media_likes is the only key to use."
   ]
  },
  {
   "cell_type": "code",
   "execution_count": 3,
   "id": "5779d4da",
   "metadata": {},
   "outputs": [
    {
     "data": {
      "text/plain": [
       "dict_keys(['likes_media_likes'])"
      ]
     },
     "execution_count": 3,
     "metadata": {},
     "output_type": "execute_result"
    }
   ],
   "source": [
    "dat.keys()"
   ]
  },
  {
   "cell_type": "code",
   "execution_count": null,
   "id": "b648ddc6",
   "metadata": {
    "scrolled": true
   },
   "outputs": [],
   "source": [
    "dat['likes_media_likes']"
   ]
  },
  {
   "cell_type": "markdown",
   "id": "092beae0",
   "metadata": {},
   "source": [
    "## 2) \n",
    "The cell below will convert the dictionary into a DataFrame."
   ]
  },
  {
   "cell_type": "code",
   "execution_count": 35,
   "id": "156e779e",
   "metadata": {},
   "outputs": [],
   "source": [
    "df_likes = pd.DataFrame(dat['likes_media_likes'])"
   ]
  },
  {
   "cell_type": "code",
   "execution_count": 36,
   "id": "9ab4478d",
   "metadata": {},
   "outputs": [],
   "source": [
    "timestamp = [x['string_list_data'][0]['timestamp'] for x in dat['likes_media_likes']]"
   ]
  },
  {
   "cell_type": "code",
   "execution_count": 37,
   "id": "37db53e3",
   "metadata": {
    "scrolled": true
   },
   "outputs": [],
   "source": [
    "df_likes['timestamp'] = timestamp"
   ]
  },
  {
   "cell_type": "markdown",
   "id": "ee40644c",
   "metadata": {},
   "source": [
    "b) The two lines above finds narrows the list down to timestamp and creates a column for it."
   ]
  },
  {
   "cell_type": "code",
   "execution_count": 29,
   "id": "946f1948",
   "metadata": {},
   "outputs": [
    {
     "data": {
      "text/html": [
       "<div>\n",
       "<style scoped>\n",
       "    .dataframe tbody tr th:only-of-type {\n",
       "        vertical-align: middle;\n",
       "    }\n",
       "\n",
       "    .dataframe tbody tr th {\n",
       "        vertical-align: top;\n",
       "    }\n",
       "\n",
       "    .dataframe thead th {\n",
       "        text-align: right;\n",
       "    }\n",
       "</style>\n",
       "<table border=\"1\" class=\"dataframe\">\n",
       "  <thead>\n",
       "    <tr style=\"text-align: right;\">\n",
       "      <th></th>\n",
       "      <th>title</th>\n",
       "      <th>media_list_data</th>\n",
       "      <th>string_list_data</th>\n",
       "      <th>timestamp</th>\n",
       "    </tr>\n",
       "  </thead>\n",
       "  <tbody>\n",
       "    <tr>\n",
       "      <th>0</th>\n",
       "      <td>failsvines</td>\n",
       "      <td>[]</td>\n",
       "      <td>[{'href': 'https://www.instagram.com/p/1UIHKjQ...</td>\n",
       "      <td>1432325377</td>\n",
       "    </tr>\n",
       "    <tr>\n",
       "      <th>1</th>\n",
       "      <td>kevinhart4real</td>\n",
       "      <td>[]</td>\n",
       "      <td>[{'href': 'https://www.instagram.com/p/2-2EJvC...</td>\n",
       "      <td>1432297034</td>\n",
       "    </tr>\n",
       "    <tr>\n",
       "      <th>2</th>\n",
       "      <td>hilarrious</td>\n",
       "      <td>[]</td>\n",
       "      <td>[{'href': 'https://www.instagram.com/p/287iWvs...</td>\n",
       "      <td>1432228669</td>\n",
       "    </tr>\n",
       "    <tr>\n",
       "      <th>3</th>\n",
       "      <td>all.things.ball</td>\n",
       "      <td>[]</td>\n",
       "      <td>[{'href': 'https://www.instagram.com/p/1oPhNwJ...</td>\n",
       "      <td>1432123489</td>\n",
       "    </tr>\n",
       "    <tr>\n",
       "      <th>4</th>\n",
       "      <td>all.things.ball</td>\n",
       "      <td>[]</td>\n",
       "      <td>[{'href': 'https://www.instagram.com/p/11rEXyp...</td>\n",
       "      <td>1432123456</td>\n",
       "    </tr>\n",
       "    <tr>\n",
       "      <th>...</th>\n",
       "      <td>...</td>\n",
       "      <td>...</td>\n",
       "      <td>...</td>\n",
       "      <td>...</td>\n",
       "    </tr>\n",
       "    <tr>\n",
       "      <th>11065</th>\n",
       "      <td>memes</td>\n",
       "      <td>[]</td>\n",
       "      <td>[{'href': 'https://www.instagram.com/p/Ba7FB9Q...</td>\n",
       "      <td>1509477757</td>\n",
       "    </tr>\n",
       "    <tr>\n",
       "      <th>11066</th>\n",
       "      <td>lulz</td>\n",
       "      <td>[]</td>\n",
       "      <td>[{'href': 'https://www.instagram.com/p/Ba5MzhB...</td>\n",
       "      <td>1509475499</td>\n",
       "    </tr>\n",
       "    <tr>\n",
       "      <th>11067</th>\n",
       "      <td>funny</td>\n",
       "      <td>[]</td>\n",
       "      <td>[{'href': 'https://www.instagram.com/p/Ba5oB51...</td>\n",
       "      <td>1509475411</td>\n",
       "    </tr>\n",
       "    <tr>\n",
       "      <th>11068</th>\n",
       "      <td>3.1415926535897932384626433832</td>\n",
       "      <td>[]</td>\n",
       "      <td>[{'href': 'https://www.instagram.com/p/Ba5fGsd...</td>\n",
       "      <td>1509475408</td>\n",
       "    </tr>\n",
       "    <tr>\n",
       "      <th>11069</th>\n",
       "      <td>snag</td>\n",
       "      <td>[]</td>\n",
       "      <td>[{'href': 'https://www.instagram.com/p/Ba699tr...</td>\n",
       "      <td>1509475388</td>\n",
       "    </tr>\n",
       "  </tbody>\n",
       "</table>\n",
       "<p>11070 rows × 4 columns</p>\n",
       "</div>"
      ],
      "text/plain": [
       "                                title media_list_data  \\\n",
       "0                          failsvines              []   \n",
       "1                      kevinhart4real              []   \n",
       "2                          hilarrious              []   \n",
       "3                     all.things.ball              []   \n",
       "4                     all.things.ball              []   \n",
       "...                               ...             ...   \n",
       "11065                           memes              []   \n",
       "11066                            lulz              []   \n",
       "11067                           funny              []   \n",
       "11068  3.1415926535897932384626433832              []   \n",
       "11069                            snag              []   \n",
       "\n",
       "                                        string_list_data   timestamp  \n",
       "0      [{'href': 'https://www.instagram.com/p/1UIHKjQ...  1432325377  \n",
       "1      [{'href': 'https://www.instagram.com/p/2-2EJvC...  1432297034  \n",
       "2      [{'href': 'https://www.instagram.com/p/287iWvs...  1432228669  \n",
       "3      [{'href': 'https://www.instagram.com/p/1oPhNwJ...  1432123489  \n",
       "4      [{'href': 'https://www.instagram.com/p/11rEXyp...  1432123456  \n",
       "...                                                  ...         ...  \n",
       "11065  [{'href': 'https://www.instagram.com/p/Ba7FB9Q...  1509477757  \n",
       "11066  [{'href': 'https://www.instagram.com/p/Ba5MzhB...  1509475499  \n",
       "11067  [{'href': 'https://www.instagram.com/p/Ba5oB51...  1509475411  \n",
       "11068  [{'href': 'https://www.instagram.com/p/Ba5fGsd...  1509475408  \n",
       "11069  [{'href': 'https://www.instagram.com/p/Ba699tr...  1509475388  \n",
       "\n",
       "[11070 rows x 4 columns]"
      ]
     },
     "execution_count": 29,
     "metadata": {},
     "output_type": "execute_result"
    }
   ],
   "source": [
    "df_likes"
   ]
  },
  {
   "cell_type": "markdown",
   "id": "c8a85aa9",
   "metadata": {},
   "source": [
    "## 3)"
   ]
  },
  {
   "cell_type": "markdown",
   "id": "d79c1531",
   "metadata": {},
   "source": [
    "A) The data was collected from Instagram's algorithm.\n",
    "\n",
    "B) Instagram collects the data about likes to try to show you ads that may be of interest to you, we collected the data to see how Instagram's algorithm keeps track of info on people's accounts.\n",
    "\n",
    "C) The data is reliable because it is just tracking posts liked from my account so it is potential likes directly from the user.\n",
    "\n",
    "D) The data may be unreliable for advertisers because liking a post doesn't necessarily mean that you are interested in it, so the data might not actually reflect the person's interests."
   ]
  },
  {
   "cell_type": "markdown",
   "id": "7f20532c",
   "metadata": {},
   "source": [
    "## 4) \n",
    "The cell below groups the data by the 'title' or name of the account and tells us how many likes per account."
   ]
  },
  {
   "cell_type": "code",
   "execution_count": 39,
   "id": "6a548512",
   "metadata": {},
   "outputs": [
    {
     "data": {
      "text/html": [
       "<div>\n",
       "<style scoped>\n",
       "    .dataframe tbody tr th:only-of-type {\n",
       "        vertical-align: middle;\n",
       "    }\n",
       "\n",
       "    .dataframe tbody tr th {\n",
       "        vertical-align: top;\n",
       "    }\n",
       "\n",
       "    .dataframe thead th {\n",
       "        text-align: right;\n",
       "    }\n",
       "</style>\n",
       "<table border=\"1\" class=\"dataframe\">\n",
       "  <thead>\n",
       "    <tr style=\"text-align: right;\">\n",
       "      <th></th>\n",
       "      <th>media_list_data</th>\n",
       "      <th>string_list_data</th>\n",
       "      <th>timestamp</th>\n",
       "    </tr>\n",
       "    <tr>\n",
       "      <th>title</th>\n",
       "      <th></th>\n",
       "      <th></th>\n",
       "      <th></th>\n",
       "    </tr>\n",
       "  </thead>\n",
       "  <tbody>\n",
       "    <tr>\n",
       "      <th>100picsquiz</th>\n",
       "      <td>3</td>\n",
       "      <td>3</td>\n",
       "      <td>3</td>\n",
       "    </tr>\n",
       "    <tr>\n",
       "      <th>2.718281828459045235360287420</th>\n",
       "      <td>1</td>\n",
       "      <td>1</td>\n",
       "      <td>1</td>\n",
       "    </tr>\n",
       "    <tr>\n",
       "      <th>24viral</th>\n",
       "      <td>1</td>\n",
       "      <td>1</td>\n",
       "      <td>1</td>\n",
       "    </tr>\n",
       "    <tr>\n",
       "      <th>2nbamemes</th>\n",
       "      <td>4</td>\n",
       "      <td>4</td>\n",
       "      <td>4</td>\n",
       "    </tr>\n",
       "    <tr>\n",
       "      <th>3.1415926535897932384626433832</th>\n",
       "      <td>339</td>\n",
       "      <td>339</td>\n",
       "      <td>339</td>\n",
       "    </tr>\n",
       "    <tr>\n",
       "      <th>...</th>\n",
       "      <td>...</td>\n",
       "      <td>...</td>\n",
       "      <td>...</td>\n",
       "    </tr>\n",
       "    <tr>\n",
       "      <th>yt.cougarr</th>\n",
       "      <td>1</td>\n",
       "      <td>1</td>\n",
       "      <td>1</td>\n",
       "    </tr>\n",
       "    <tr>\n",
       "      <th>zachking</th>\n",
       "      <td>175</td>\n",
       "      <td>175</td>\n",
       "      <td>175</td>\n",
       "    </tr>\n",
       "    <tr>\n",
       "      <th>zak_harrison</th>\n",
       "      <td>2</td>\n",
       "      <td>2</td>\n",
       "      <td>2</td>\n",
       "    </tr>\n",
       "    <tr>\n",
       "      <th>zee.pyro</th>\n",
       "      <td>1</td>\n",
       "      <td>1</td>\n",
       "      <td>1</td>\n",
       "    </tr>\n",
       "    <tr>\n",
       "      <th>zerkaa</th>\n",
       "      <td>1</td>\n",
       "      <td>1</td>\n",
       "      <td>1</td>\n",
       "    </tr>\n",
       "  </tbody>\n",
       "</table>\n",
       "<p>728 rows × 3 columns</p>\n",
       "</div>"
      ],
      "text/plain": [
       "                                media_list_data  string_list_data  timestamp\n",
       "title                                                                       \n",
       "100picsquiz                                   3                 3          3\n",
       "2.718281828459045235360287420                 1                 1          1\n",
       "24viral                                       1                 1          1\n",
       "2nbamemes                                     4                 4          4\n",
       "3.1415926535897932384626433832              339               339        339\n",
       "...                                         ...               ...        ...\n",
       "yt.cougarr                                    1                 1          1\n",
       "zachking                                    175               175        175\n",
       "zak_harrison                                  2                 2          2\n",
       "zee.pyro                                      1                 1          1\n",
       "zerkaa                                        1                 1          1\n",
       "\n",
       "[728 rows x 3 columns]"
      ]
     },
     "execution_count": 39,
     "metadata": {},
     "output_type": "execute_result"
    }
   ],
   "source": [
    "df_likes.groupby('title').count()"
   ]
  },
  {
   "cell_type": "markdown",
   "id": "7a59a913",
   "metadata": {},
   "source": [
    "## 5)"
   ]
  },
  {
   "cell_type": "markdown",
   "id": "685ea29f",
   "metadata": {},
   "source": [
    "## Theoretical Hypothesis\n",
    "\n",
    "a) I think that in the information about you folder the ads interests file will have unreliable data/have a bunch of ads that are of no interest to the user.\n",
    "\n",
    "b) The ideal data for the hypothesis would be a file of all the ads clicked on by the user."
   ]
  },
  {
   "cell_type": "markdown",
   "id": "6e6d016f",
   "metadata": {},
   "source": [
    "## Statistical Hypothesis\n",
    "\n",
    "a) I think 90% of my the accounts from my liked posts will be from meme accounts.\n",
    "\n",
    "b) The ideal data for the hypothesis would just be a statistic of the accounts from my liked posts to show what type of account they are.\n"
   ]
  },
  {
   "cell_type": "markdown",
   "id": "33b08708",
   "metadata": {},
   "source": [
    "## 7)\n",
    "\n",
    "The source of the data used was from Instagram. The structure of that data was in the form of lists. "
   ]
  },
  {
   "cell_type": "code",
   "execution_count": 45,
   "id": "300d284a",
   "metadata": {},
   "outputs": [
    {
     "data": {
      "text/html": [
       "<div>\n",
       "<style scoped>\n",
       "    .dataframe tbody tr th:only-of-type {\n",
       "        vertical-align: middle;\n",
       "    }\n",
       "\n",
       "    .dataframe tbody tr th {\n",
       "        vertical-align: top;\n",
       "    }\n",
       "\n",
       "    .dataframe thead th {\n",
       "        text-align: right;\n",
       "    }\n",
       "</style>\n",
       "<table border=\"1\" class=\"dataframe\">\n",
       "  <thead>\n",
       "    <tr style=\"text-align: right;\">\n",
       "      <th></th>\n",
       "      <th>title</th>\n",
       "      <th>media_list_data</th>\n",
       "      <th>string_list_data</th>\n",
       "      <th>timestamp</th>\n",
       "    </tr>\n",
       "  </thead>\n",
       "  <tbody>\n",
       "    <tr>\n",
       "      <th>0</th>\n",
       "      <td>failsvines</td>\n",
       "      <td>[]</td>\n",
       "      <td>[{'href': 'https://www.instagram.com/p/1UIHKjQ...</td>\n",
       "      <td>1432325377</td>\n",
       "    </tr>\n",
       "    <tr>\n",
       "      <th>1</th>\n",
       "      <td>kevinhart4real</td>\n",
       "      <td>[]</td>\n",
       "      <td>[{'href': 'https://www.instagram.com/p/2-2EJvC...</td>\n",
       "      <td>1432297034</td>\n",
       "    </tr>\n",
       "    <tr>\n",
       "      <th>2</th>\n",
       "      <td>hilarrious</td>\n",
       "      <td>[]</td>\n",
       "      <td>[{'href': 'https://www.instagram.com/p/287iWvs...</td>\n",
       "      <td>1432228669</td>\n",
       "    </tr>\n",
       "    <tr>\n",
       "      <th>3</th>\n",
       "      <td>all.things.ball</td>\n",
       "      <td>[]</td>\n",
       "      <td>[{'href': 'https://www.instagram.com/p/1oPhNwJ...</td>\n",
       "      <td>1432123489</td>\n",
       "    </tr>\n",
       "    <tr>\n",
       "      <th>4</th>\n",
       "      <td>all.things.ball</td>\n",
       "      <td>[]</td>\n",
       "      <td>[{'href': 'https://www.instagram.com/p/11rEXyp...</td>\n",
       "      <td>1432123456</td>\n",
       "    </tr>\n",
       "    <tr>\n",
       "      <th>5</th>\n",
       "      <td>all.things.ball</td>\n",
       "      <td>[]</td>\n",
       "      <td>[{'href': 'https://www.instagram.com/p/2E59-Zp...</td>\n",
       "      <td>1432123445</td>\n",
       "    </tr>\n",
       "    <tr>\n",
       "      <th>6</th>\n",
       "      <td>all.things.ball</td>\n",
       "      <td>[]</td>\n",
       "      <td>[{'href': 'https://www.instagram.com/p/2wcVztJ...</td>\n",
       "      <td>1432123285</td>\n",
       "    </tr>\n",
       "    <tr>\n",
       "      <th>7</th>\n",
       "      <td>all.things.ball</td>\n",
       "      <td>[]</td>\n",
       "      <td>[{'href': 'https://www.instagram.com/p/21z2xsJ...</td>\n",
       "      <td>1432123261</td>\n",
       "    </tr>\n",
       "    <tr>\n",
       "      <th>8</th>\n",
       "      <td>studentchills</td>\n",
       "      <td>[]</td>\n",
       "      <td>[{'href': 'https://www.instagram.com/p/25vPzYR...</td>\n",
       "      <td>1432123213</td>\n",
       "    </tr>\n",
       "    <tr>\n",
       "      <th>9</th>\n",
       "      <td>daquan</td>\n",
       "      <td>[]</td>\n",
       "      <td>[{'href': 'https://www.instagram.com/p/24uLPfl...</td>\n",
       "      <td>1432087935</td>\n",
       "    </tr>\n",
       "  </tbody>\n",
       "</table>\n",
       "</div>"
      ],
      "text/plain": [
       "             title media_list_data  \\\n",
       "0       failsvines              []   \n",
       "1   kevinhart4real              []   \n",
       "2       hilarrious              []   \n",
       "3  all.things.ball              []   \n",
       "4  all.things.ball              []   \n",
       "5  all.things.ball              []   \n",
       "6  all.things.ball              []   \n",
       "7  all.things.ball              []   \n",
       "8    studentchills              []   \n",
       "9           daquan              []   \n",
       "\n",
       "                                    string_list_data   timestamp  \n",
       "0  [{'href': 'https://www.instagram.com/p/1UIHKjQ...  1432325377  \n",
       "1  [{'href': 'https://www.instagram.com/p/2-2EJvC...  1432297034  \n",
       "2  [{'href': 'https://www.instagram.com/p/287iWvs...  1432228669  \n",
       "3  [{'href': 'https://www.instagram.com/p/1oPhNwJ...  1432123489  \n",
       "4  [{'href': 'https://www.instagram.com/p/11rEXyp...  1432123456  \n",
       "5  [{'href': 'https://www.instagram.com/p/2E59-Zp...  1432123445  \n",
       "6  [{'href': 'https://www.instagram.com/p/2wcVztJ...  1432123285  \n",
       "7  [{'href': 'https://www.instagram.com/p/21z2xsJ...  1432123261  \n",
       "8  [{'href': 'https://www.instagram.com/p/25vPzYR...  1432123213  \n",
       "9  [{'href': 'https://www.instagram.com/p/24uLPfl...  1432087935  "
      ]
     },
     "execution_count": 45,
     "metadata": {},
     "output_type": "execute_result"
    }
   ],
   "source": [
    "df_likes.head(10)"
   ]
  },
  {
   "cell_type": "markdown",
   "id": "9daeb313",
   "metadata": {},
   "source": [
    "## 9) \n",
    "The cell above shows the first 10 likes, and the cell below shows the first 10 likes sorted by the title."
   ]
  },
  {
   "cell_type": "code",
   "execution_count": 48,
   "id": "f146c286",
   "metadata": {},
   "outputs": [
    {
     "data": {
      "text/html": [
       "<div>\n",
       "<style scoped>\n",
       "    .dataframe tbody tr th:only-of-type {\n",
       "        vertical-align: middle;\n",
       "    }\n",
       "\n",
       "    .dataframe tbody tr th {\n",
       "        vertical-align: top;\n",
       "    }\n",
       "\n",
       "    .dataframe thead th {\n",
       "        text-align: right;\n",
       "    }\n",
       "</style>\n",
       "<table border=\"1\" class=\"dataframe\">\n",
       "  <thead>\n",
       "    <tr style=\"text-align: right;\">\n",
       "      <th></th>\n",
       "      <th>media_list_data</th>\n",
       "      <th>string_list_data</th>\n",
       "      <th>timestamp</th>\n",
       "    </tr>\n",
       "    <tr>\n",
       "      <th>title</th>\n",
       "      <th></th>\n",
       "      <th></th>\n",
       "      <th></th>\n",
       "    </tr>\n",
       "  </thead>\n",
       "  <tbody>\n",
       "    <tr>\n",
       "      <th>all.things.ball</th>\n",
       "      <td>5</td>\n",
       "      <td>5</td>\n",
       "      <td>5</td>\n",
       "    </tr>\n",
       "    <tr>\n",
       "      <th>daquan</th>\n",
       "      <td>1</td>\n",
       "      <td>1</td>\n",
       "      <td>1</td>\n",
       "    </tr>\n",
       "    <tr>\n",
       "      <th>failsvines</th>\n",
       "      <td>1</td>\n",
       "      <td>1</td>\n",
       "      <td>1</td>\n",
       "    </tr>\n",
       "    <tr>\n",
       "      <th>hilarrious</th>\n",
       "      <td>1</td>\n",
       "      <td>1</td>\n",
       "      <td>1</td>\n",
       "    </tr>\n",
       "    <tr>\n",
       "      <th>kevinhart4real</th>\n",
       "      <td>1</td>\n",
       "      <td>1</td>\n",
       "      <td>1</td>\n",
       "    </tr>\n",
       "    <tr>\n",
       "      <th>studentchills</th>\n",
       "      <td>1</td>\n",
       "      <td>1</td>\n",
       "      <td>1</td>\n",
       "    </tr>\n",
       "  </tbody>\n",
       "</table>\n",
       "</div>"
      ],
      "text/plain": [
       "                 media_list_data  string_list_data  timestamp\n",
       "title                                                        \n",
       "all.things.ball                5                 5          5\n",
       "daquan                         1                 1          1\n",
       "failsvines                     1                 1          1\n",
       "hilarrious                     1                 1          1\n",
       "kevinhart4real                 1                 1          1\n",
       "studentchills                  1                 1          1"
      ]
     },
     "execution_count": 48,
     "metadata": {},
     "output_type": "execute_result"
    }
   ],
   "source": [
    "df_likes.head(10).groupby('title').count()"
   ]
  },
  {
   "cell_type": "markdown",
   "id": "0ebf2c67",
   "metadata": {},
   "source": [
    "## 10)\n",
    "That data shown is all collected from my personal instagram account and could potentially be used to show my interests based on the posts I have liked."
   ]
  },
  {
   "cell_type": "markdown",
   "id": "e528025e",
   "metadata": {},
   "source": [
    "## 11)\n",
    "For alternative approaches I probably could of grouped the data by something other than title, like maybe timestamp to see the earliest likes rather than the number of likes by account name. I could also probably sort it by which account has the most likes. Although, I was not sure how to do that."
   ]
  }
 ],
 "metadata": {
  "kernelspec": {
   "display_name": "Python 3 (ipykernel)",
   "language": "python",
   "name": "python3"
  },
  "language_info": {
   "codemirror_mode": {
    "name": "ipython",
    "version": 3
   },
   "file_extension": ".py",
   "mimetype": "text/x-python",
   "name": "python",
   "nbconvert_exporter": "python",
   "pygments_lexer": "ipython3",
   "version": "3.9.6"
  }
 },
 "nbformat": 4,
 "nbformat_minor": 5
}
